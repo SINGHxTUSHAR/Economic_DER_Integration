{
 "cells": [
  {
   "cell_type": "code",
   "execution_count": 1,
   "metadata": {},
   "outputs": [],
   "source": [
    "import pandas as pd\n",
    "import matplotlib.pyplot as plt"
   ]
  },
  {
   "cell_type": "code",
   "execution_count": 2,
   "metadata": {},
   "outputs": [],
   "source": [
    "%matplotlib inline"
   ]
  },
  {
   "cell_type": "code",
   "execution_count": 3,
   "metadata": {},
   "outputs": [
    {
     "data": {
      "text/plain": [
       "'1.5.3'"
      ]
     },
     "execution_count": 3,
     "metadata": {},
     "output_type": "execute_result"
    }
   ],
   "source": [
    "pd.__version__"
   ]
  },
  {
   "cell_type": "markdown",
   "metadata": {},
   "source": [
    "## Load raw data"
   ]
  },
  {
   "cell_type": "code",
   "execution_count": 4,
   "metadata": {},
   "outputs": [],
   "source": [
    "fname = '2012-2013 Solar home electricity data v2.csv'"
   ]
  },
  {
   "cell_type": "markdown",
   "metadata": {},
   "source": [
    "### Parse CSV\n",
    "\n",
    "(nb: parsing date is quite long):"
   ]
  },
  {
   "cell_type": "code",
   "execution_count": 6,
   "metadata": {},
   "outputs": [
    {
     "data": {
      "text/plain": [
       "268557"
      ]
     },
     "execution_count": 6,
     "metadata": {},
     "output_type": "execute_result"
    }
   ],
   "source": [
    "d_raw = pd.read_csv(fname, skiprows=1,\n",
    "                    parse_dates=['date'], dayfirst=True,\n",
    "                    na_filter=False, dtype={'Row Quality': str})\n",
    "len(d_raw)"
   ]
  },
  {
   "cell_type": "markdown",
   "metadata": {},
   "source": [
    "### Overview\n",
    "\n",
    "rows seems ordered by: Customer / Consumption Category / date"
   ]
  },
  {
   "cell_type": "code",
   "execution_count": 7,
   "metadata": {
    "scrolled": true
   },
   "outputs": [
    {
     "data": {
      "text/html": [
       "<div>\n",
       "<style scoped>\n",
       "    .dataframe tbody tr th:only-of-type {\n",
       "        vertical-align: middle;\n",
       "    }\n",
       "\n",
       "    .dataframe tbody tr th {\n",
       "        vertical-align: top;\n",
       "    }\n",
       "\n",
       "    .dataframe thead th {\n",
       "        text-align: right;\n",
       "    }\n",
       "</style>\n",
       "<table border=\"1\" class=\"dataframe\">\n",
       "  <thead>\n",
       "    <tr style=\"text-align: right;\">\n",
       "      <th></th>\n",
       "      <th>Customer</th>\n",
       "      <th>Generator Capacity</th>\n",
       "      <th>Postcode</th>\n",
       "      <th>Consumption Category</th>\n",
       "      <th>date</th>\n",
       "      <th>0:30</th>\n",
       "      <th>1:00</th>\n",
       "      <th>1:30</th>\n",
       "      <th>2:00</th>\n",
       "      <th>2:30</th>\n",
       "      <th>...</th>\n",
       "      <th>20:00</th>\n",
       "      <th>20:30</th>\n",
       "      <th>21:00</th>\n",
       "      <th>21:30</th>\n",
       "      <th>22:00</th>\n",
       "      <th>22:30</th>\n",
       "      <th>23:00</th>\n",
       "      <th>23:30</th>\n",
       "      <th>0:00</th>\n",
       "      <th>Row Quality</th>\n",
       "    </tr>\n",
       "  </thead>\n",
       "  <tbody>\n",
       "    <tr>\n",
       "      <th>0</th>\n",
       "      <td>1</td>\n",
       "      <td>3.78</td>\n",
       "      <td>2076</td>\n",
       "      <td>CL</td>\n",
       "      <td>2012-07-01</td>\n",
       "      <td>1.250</td>\n",
       "      <td>1.250</td>\n",
       "      <td>1.250</td>\n",
       "      <td>1.263</td>\n",
       "      <td>0.131</td>\n",
       "      <td>...</td>\n",
       "      <td>0.000</td>\n",
       "      <td>0.000</td>\n",
       "      <td>0.000</td>\n",
       "      <td>0.000</td>\n",
       "      <td>0.000</td>\n",
       "      <td>0.000</td>\n",
       "      <td>0.000</td>\n",
       "      <td>0.000</td>\n",
       "      <td>1.081</td>\n",
       "      <td></td>\n",
       "    </tr>\n",
       "    <tr>\n",
       "      <th>1</th>\n",
       "      <td>1</td>\n",
       "      <td>3.78</td>\n",
       "      <td>2076</td>\n",
       "      <td>GC</td>\n",
       "      <td>2012-07-01</td>\n",
       "      <td>0.855</td>\n",
       "      <td>0.786</td>\n",
       "      <td>0.604</td>\n",
       "      <td>0.544</td>\n",
       "      <td>0.597</td>\n",
       "      <td>...</td>\n",
       "      <td>0.374</td>\n",
       "      <td>0.447</td>\n",
       "      <td>0.549</td>\n",
       "      <td>0.136</td>\n",
       "      <td>0.288</td>\n",
       "      <td>0.181</td>\n",
       "      <td>0.651</td>\n",
       "      <td>0.090</td>\n",
       "      <td>0.068</td>\n",
       "      <td></td>\n",
       "    </tr>\n",
       "    <tr>\n",
       "      <th>2</th>\n",
       "      <td>1</td>\n",
       "      <td>3.78</td>\n",
       "      <td>2076</td>\n",
       "      <td>GG</td>\n",
       "      <td>2012-07-01</td>\n",
       "      <td>0.000</td>\n",
       "      <td>0.000</td>\n",
       "      <td>0.000</td>\n",
       "      <td>0.000</td>\n",
       "      <td>0.000</td>\n",
       "      <td>...</td>\n",
       "      <td>0.000</td>\n",
       "      <td>0.000</td>\n",
       "      <td>0.000</td>\n",
       "      <td>0.000</td>\n",
       "      <td>0.000</td>\n",
       "      <td>0.000</td>\n",
       "      <td>0.000</td>\n",
       "      <td>0.000</td>\n",
       "      <td>0.000</td>\n",
       "      <td></td>\n",
       "    </tr>\n",
       "    <tr>\n",
       "      <th>3</th>\n",
       "      <td>1</td>\n",
       "      <td>3.78</td>\n",
       "      <td>2076</td>\n",
       "      <td>CL</td>\n",
       "      <td>2012-07-02</td>\n",
       "      <td>1.250</td>\n",
       "      <td>1.250</td>\n",
       "      <td>1.125</td>\n",
       "      <td>0.000</td>\n",
       "      <td>0.925</td>\n",
       "      <td>...</td>\n",
       "      <td>0.000</td>\n",
       "      <td>0.000</td>\n",
       "      <td>0.000</td>\n",
       "      <td>0.000</td>\n",
       "      <td>0.000</td>\n",
       "      <td>0.000</td>\n",
       "      <td>0.000</td>\n",
       "      <td>0.000</td>\n",
       "      <td>1.069</td>\n",
       "      <td></td>\n",
       "    </tr>\n",
       "    <tr>\n",
       "      <th>4</th>\n",
       "      <td>1</td>\n",
       "      <td>3.78</td>\n",
       "      <td>2076</td>\n",
       "      <td>GC</td>\n",
       "      <td>2012-07-02</td>\n",
       "      <td>0.309</td>\n",
       "      <td>0.082</td>\n",
       "      <td>0.059</td>\n",
       "      <td>0.097</td>\n",
       "      <td>0.290</td>\n",
       "      <td>...</td>\n",
       "      <td>0.353</td>\n",
       "      <td>0.464</td>\n",
       "      <td>0.229</td>\n",
       "      <td>0.811</td>\n",
       "      <td>0.222</td>\n",
       "      <td>0.306</td>\n",
       "      <td>1.034</td>\n",
       "      <td>0.136</td>\n",
       "      <td>0.067</td>\n",
       "      <td></td>\n",
       "    </tr>\n",
       "  </tbody>\n",
       "</table>\n",
       "<p>5 rows × 54 columns</p>\n",
       "</div>"
      ],
      "text/plain": [
       "   Customer  Generator Capacity  Postcode Consumption Category       date  \\\n",
       "0         1                3.78      2076                   CL 2012-07-01   \n",
       "1         1                3.78      2076                   GC 2012-07-01   \n",
       "2         1                3.78      2076                   GG 2012-07-01   \n",
       "3         1                3.78      2076                   CL 2012-07-02   \n",
       "4         1                3.78      2076                   GC 2012-07-02   \n",
       "\n",
       "    0:30   1:00   1:30   2:00   2:30  ...  20:00  20:30  21:00  21:30  22:00  \\\n",
       "0  1.250  1.250  1.250  1.263  0.131  ...  0.000  0.000  0.000  0.000  0.000   \n",
       "1  0.855  0.786  0.604  0.544  0.597  ...  0.374  0.447  0.549  0.136  0.288   \n",
       "2  0.000  0.000  0.000  0.000  0.000  ...  0.000  0.000  0.000  0.000  0.000   \n",
       "3  1.250  1.250  1.125  0.000  0.925  ...  0.000  0.000  0.000  0.000  0.000   \n",
       "4  0.309  0.082  0.059  0.097  0.290  ...  0.353  0.464  0.229  0.811  0.222   \n",
       "\n",
       "   22:30  23:00  23:30   0:00  Row Quality  \n",
       "0  0.000  0.000  0.000  1.081               \n",
       "1  0.181  0.651  0.090  0.068               \n",
       "2  0.000  0.000  0.000  0.000               \n",
       "3  0.000  0.000  0.000  1.069               \n",
       "4  0.306  1.034  0.136  0.067               \n",
       "\n",
       "[5 rows x 54 columns]"
      ]
     },
     "execution_count": 7,
     "metadata": {},
     "output_type": "execute_result"
    }
   ],
   "source": [
    "d_raw.head()"
   ]
  },
  {
   "cell_type": "code",
   "execution_count": 8,
   "metadata": {},
   "outputs": [
    {
     "data": {
      "text/html": [
       "<div>\n",
       "<style scoped>\n",
       "    .dataframe tbody tr th:only-of-type {\n",
       "        vertical-align: middle;\n",
       "    }\n",
       "\n",
       "    .dataframe tbody tr th {\n",
       "        vertical-align: top;\n",
       "    }\n",
       "\n",
       "    .dataframe thead th {\n",
       "        text-align: right;\n",
       "    }\n",
       "</style>\n",
       "<table border=\"1\" class=\"dataframe\">\n",
       "  <thead>\n",
       "    <tr style=\"text-align: right;\">\n",
       "      <th></th>\n",
       "      <th>Customer</th>\n",
       "      <th>Generator Capacity</th>\n",
       "      <th>Postcode</th>\n",
       "      <th>Consumption Category</th>\n",
       "      <th>date</th>\n",
       "      <th>0:30</th>\n",
       "      <th>1:00</th>\n",
       "      <th>1:30</th>\n",
       "      <th>2:00</th>\n",
       "      <th>2:30</th>\n",
       "      <th>...</th>\n",
       "      <th>20:00</th>\n",
       "      <th>20:30</th>\n",
       "      <th>21:00</th>\n",
       "      <th>21:30</th>\n",
       "      <th>22:00</th>\n",
       "      <th>22:30</th>\n",
       "      <th>23:00</th>\n",
       "      <th>23:30</th>\n",
       "      <th>0:00</th>\n",
       "      <th>Row Quality</th>\n",
       "    </tr>\n",
       "  </thead>\n",
       "  <tbody>\n",
       "    <tr>\n",
       "      <th>268552</th>\n",
       "      <td>300</td>\n",
       "      <td>3.36</td>\n",
       "      <td>2086</td>\n",
       "      <td>GC</td>\n",
       "      <td>2013-06-29</td>\n",
       "      <td>0.171</td>\n",
       "      <td>0.832</td>\n",
       "      <td>0.440</td>\n",
       "      <td>0.745</td>\n",
       "      <td>0.149</td>\n",
       "      <td>...</td>\n",
       "      <td>0.383</td>\n",
       "      <td>0.404</td>\n",
       "      <td>0.367</td>\n",
       "      <td>0.398</td>\n",
       "      <td>0.350</td>\n",
       "      <td>0.228</td>\n",
       "      <td>0.170</td>\n",
       "      <td>0.139</td>\n",
       "      <td>0.171</td>\n",
       "      <td></td>\n",
       "    </tr>\n",
       "    <tr>\n",
       "      <th>268553</th>\n",
       "      <td>300</td>\n",
       "      <td>3.36</td>\n",
       "      <td>2086</td>\n",
       "      <td>GG</td>\n",
       "      <td>2013-06-29</td>\n",
       "      <td>0.000</td>\n",
       "      <td>0.000</td>\n",
       "      <td>0.000</td>\n",
       "      <td>0.000</td>\n",
       "      <td>0.000</td>\n",
       "      <td>...</td>\n",
       "      <td>0.000</td>\n",
       "      <td>0.000</td>\n",
       "      <td>0.000</td>\n",
       "      <td>0.000</td>\n",
       "      <td>0.000</td>\n",
       "      <td>0.000</td>\n",
       "      <td>0.000</td>\n",
       "      <td>0.000</td>\n",
       "      <td>0.000</td>\n",
       "      <td></td>\n",
       "    </tr>\n",
       "    <tr>\n",
       "      <th>268554</th>\n",
       "      <td>300</td>\n",
       "      <td>3.36</td>\n",
       "      <td>2086</td>\n",
       "      <td>CL</td>\n",
       "      <td>2013-06-30</td>\n",
       "      <td>2.501</td>\n",
       "      <td>2.475</td>\n",
       "      <td>2.491</td>\n",
       "      <td>2.508</td>\n",
       "      <td>2.490</td>\n",
       "      <td>...</td>\n",
       "      <td>0.000</td>\n",
       "      <td>0.000</td>\n",
       "      <td>0.000</td>\n",
       "      <td>0.000</td>\n",
       "      <td>0.000</td>\n",
       "      <td>0.000</td>\n",
       "      <td>0.000</td>\n",
       "      <td>0.000</td>\n",
       "      <td>2.468</td>\n",
       "      <td></td>\n",
       "    </tr>\n",
       "    <tr>\n",
       "      <th>268555</th>\n",
       "      <td>300</td>\n",
       "      <td>3.36</td>\n",
       "      <td>2086</td>\n",
       "      <td>GC</td>\n",
       "      <td>2013-06-30</td>\n",
       "      <td>0.150</td>\n",
       "      <td>0.158</td>\n",
       "      <td>0.157</td>\n",
       "      <td>0.137</td>\n",
       "      <td>0.163</td>\n",
       "      <td>...</td>\n",
       "      <td>0.625</td>\n",
       "      <td>0.595</td>\n",
       "      <td>0.695</td>\n",
       "      <td>0.646</td>\n",
       "      <td>0.581</td>\n",
       "      <td>0.458</td>\n",
       "      <td>0.472</td>\n",
       "      <td>0.732</td>\n",
       "      <td>0.297</td>\n",
       "      <td></td>\n",
       "    </tr>\n",
       "    <tr>\n",
       "      <th>268556</th>\n",
       "      <td>300</td>\n",
       "      <td>3.36</td>\n",
       "      <td>2086</td>\n",
       "      <td>GG</td>\n",
       "      <td>2013-06-30</td>\n",
       "      <td>0.000</td>\n",
       "      <td>0.000</td>\n",
       "      <td>0.000</td>\n",
       "      <td>0.000</td>\n",
       "      <td>0.000</td>\n",
       "      <td>...</td>\n",
       "      <td>0.000</td>\n",
       "      <td>0.000</td>\n",
       "      <td>0.000</td>\n",
       "      <td>0.000</td>\n",
       "      <td>0.000</td>\n",
       "      <td>0.000</td>\n",
       "      <td>0.000</td>\n",
       "      <td>0.000</td>\n",
       "      <td>0.000</td>\n",
       "      <td></td>\n",
       "    </tr>\n",
       "  </tbody>\n",
       "</table>\n",
       "<p>5 rows × 54 columns</p>\n",
       "</div>"
      ],
      "text/plain": [
       "        Customer  Generator Capacity  Postcode Consumption Category  \\\n",
       "268552       300                3.36      2086                   GC   \n",
       "268553       300                3.36      2086                   GG   \n",
       "268554       300                3.36      2086                   CL   \n",
       "268555       300                3.36      2086                   GC   \n",
       "268556       300                3.36      2086                   GG   \n",
       "\n",
       "             date   0:30   1:00   1:30   2:00   2:30  ...  20:00  20:30  \\\n",
       "268552 2013-06-29  0.171  0.832  0.440  0.745  0.149  ...  0.383  0.404   \n",
       "268553 2013-06-29  0.000  0.000  0.000  0.000  0.000  ...  0.000  0.000   \n",
       "268554 2013-06-30  2.501  2.475  2.491  2.508  2.490  ...  0.000  0.000   \n",
       "268555 2013-06-30  0.150  0.158  0.157  0.137  0.163  ...  0.625  0.595   \n",
       "268556 2013-06-30  0.000  0.000  0.000  0.000  0.000  ...  0.000  0.000   \n",
       "\n",
       "        21:00  21:30  22:00  22:30  23:00  23:30   0:00  Row Quality  \n",
       "268552  0.367  0.398  0.350  0.228  0.170  0.139  0.171               \n",
       "268553  0.000  0.000  0.000  0.000  0.000  0.000  0.000               \n",
       "268554  0.000  0.000  0.000  0.000  0.000  0.000  2.468               \n",
       "268555  0.695  0.646  0.581  0.458  0.472  0.732  0.297               \n",
       "268556  0.000  0.000  0.000  0.000  0.000  0.000  0.000               \n",
       "\n",
       "[5 rows x 54 columns]"
      ]
     },
     "execution_count": 8,
     "metadata": {},
     "output_type": "execute_result"
    }
   ],
   "source": [
    "d_raw.tail()"
   ]
  },
  {
   "cell_type": "markdown",
   "metadata": {},
   "source": [
    "### Details on major columns"
   ]
  },
  {
   "cell_type": "code",
   "execution_count": 9,
   "metadata": {},
   "outputs": [
    {
     "data": {
      "text/plain": [
       "100"
      ]
     },
     "execution_count": 9,
     "metadata": {},
     "output_type": "execute_result"
    }
   ],
   "source": [
    "len(d_raw.Postcode.unique())"
   ]
  },
  {
   "cell_type": "code",
   "execution_count": 10,
   "metadata": {},
   "outputs": [
    {
     "name": "stdout",
     "output_type": "stream",
     "text": [
      "[2008, 2010, 2018, 2021, 2025, 2026, 2029, 2031, 2034, 2037, 2039, 2041, 2044, 2046, 2047, 2048, 2066, 2074, 2076, 2077, 2079, 2081, 2082, 2084, 2085, 2086, 2087, 2088, 2092, 2093, 2096, 2099, 2100, 2111, 2119, 2120, 2126, 2134, 2135, 2137, 2154, 2159, 2162, 2190, 2196, 2198, 2200, 2203, 2204, 2205, 2207, 2208, 2209, 2211, 2216, 2218, 2219, 2220, 2224, 2227, 2228, 2229, 2230, 2231, 2233, 2250, 2251, 2259, 2260, 2261, 2262, 2263, 2264, 2265, 2278, 2280, 2281, 2282, 2283, 2284, 2285, 2286, 2289, 2290, 2291, 2292, 2293, 2294, 2295, 2296, 2300, 2303, 2305, 2315, 2320, 2321, 2324, 2325, 2326, 2330]\n"
     ]
    }
   ],
   "source": [
    "print(sorted(d_raw.Postcode.unique()))"
   ]
  },
  {
   "cell_type": "markdown",
   "metadata": {},
   "source": [
    "#### Dates\n",
    "\n",
    "* `parse_date` option is working (although quite slow)\n",
    "* `dayfirst=True` is needed to avoid date inversions"
   ]
  },
  {
   "cell_type": "code",
   "execution_count": 11,
   "metadata": {},
   "outputs": [
    {
     "data": {
      "text/plain": [
       "0   2012-07-01\n",
       "1   2012-07-01\n",
       "2   2012-07-01\n",
       "3   2012-07-02\n",
       "4   2012-07-02\n",
       "Name: date, dtype: datetime64[ns]"
      ]
     },
     "execution_count": 11,
     "metadata": {},
     "output_type": "execute_result"
    }
   ],
   "source": [
    "d_raw.date.head()"
   ]
  },
  {
   "cell_type": "code",
   "execution_count": 12,
   "metadata": {},
   "outputs": [
    {
     "name": "stdout",
     "output_type": "stream",
     "text": [
      "CPU times: total: 359 ms\n",
      "Wall time: 413 ms\n"
     ]
    },
    {
     "data": {
      "text/plain": [
       "Timestamp('2012-07-01 00:00:00')"
      ]
     },
     "execution_count": 12,
     "metadata": {},
     "output_type": "execute_result"
    }
   ],
   "source": [
    "%time min(d_raw.date)"
   ]
  },
  {
   "cell_type": "code",
   "execution_count": 13,
   "metadata": {},
   "outputs": [
    {
     "name": "stdout",
     "output_type": "stream",
     "text": [
      "CPU times: total: 0 ns\n",
      "Wall time: 2 ms\n"
     ]
    },
    {
     "data": {
      "text/plain": [
       "Timestamp('2012-07-01 00:00:00')"
      ]
     },
     "execution_count": 13,
     "metadata": {},
     "output_type": "execute_result"
    }
   ],
   "source": [
    "%time d_raw.date.min()"
   ]
  },
  {
   "cell_type": "code",
   "execution_count": 14,
   "metadata": {},
   "outputs": [
    {
     "data": {
      "text/plain": [
       "(Timestamp('2012-07-01 00:00:00'), Timestamp('2013-06-30 00:00:00'))"
      ]
     },
     "execution_count": 14,
     "metadata": {},
     "output_type": "execute_result"
    }
   ],
   "source": [
    "d0, d1 = d_raw.date.min(), d_raw.date.max()\n",
    "d0, d1"
   ]
  },
  {
   "cell_type": "markdown",
   "metadata": {},
   "source": [
    "#### Row Quality:\n",
    "\n",
    "Ausgrid description:\n",
    "> (Blank) = every half hour value in the row is the actual electricity\n",
    "recorded by the meter in the half hour\n",
    ">\n",
    "> NA = Non-Actual where some or all of the half hour values in the\n",
    "row are estimates or substitutes of the electricity consumed or\n",
    "generated\n",
    "\n",
    "Specifying the `dtype={'Row Quality': str}` is needed to avoid a columns of dtype float, filled with NaN."
   ]
  },
  {
   "cell_type": "code",
   "execution_count": 15,
   "metadata": {},
   "outputs": [
    {
     "data": {
      "text/plain": [
       "array(['', 'NA'], dtype=object)"
      ]
     },
     "execution_count": 15,
     "metadata": {},
     "output_type": "execute_result"
    }
   ],
   "source": [
    "d_raw['Row Quality'].unique()"
   ]
  },
  {
   "cell_type": "code",
   "execution_count": 16,
   "metadata": {},
   "outputs": [
    {
     "data": {
      "text/plain": [
       "      268126\n",
       "NA       431\n",
       "Name: Row Quality, dtype: int64"
      ]
     },
     "execution_count": 16,
     "metadata": {},
     "output_type": "execute_result"
    }
   ],
   "source": [
    "d_raw['Row Quality'].value_counts()"
   ]
  },
  {
   "cell_type": "markdown",
   "metadata": {},
   "source": [
    "#### Customers\n",
    "\n",
    "300 unique values, from 1 to 300"
   ]
  },
  {
   "cell_type": "code",
   "execution_count": 17,
   "metadata": {},
   "outputs": [
    {
     "data": {
      "text/plain": [
       "300"
      ]
     },
     "execution_count": 17,
     "metadata": {},
     "output_type": "execute_result"
    }
   ],
   "source": [
    "len(d_raw['Customer'].unique())"
   ]
  },
  {
   "cell_type": "code",
   "execution_count": 18,
   "metadata": {},
   "outputs": [
    {
     "data": {
      "text/plain": [
       "array([  1,   2,   3,   4,   5,   6,   7,   8,   9,  10,  11,  12,  13,\n",
       "        14,  15,  16,  17,  18,  19,  20,  21,  22,  23,  24,  25,  26,\n",
       "        27,  28,  29,  30,  31,  32,  33,  34,  35,  36,  37,  38,  39,\n",
       "        40,  41,  42,  43,  44,  45,  46,  47,  48,  49,  50,  51,  52,\n",
       "        53,  54,  55,  56,  57,  58,  59,  60,  61,  62,  63,  64,  65,\n",
       "        66,  67,  68,  69,  70,  71,  72,  73,  74,  75,  76,  77,  78,\n",
       "        79,  80,  81,  82,  83,  84,  85,  86,  87,  88,  89,  90,  91,\n",
       "        92,  93,  94,  95,  96,  97,  98,  99, 100, 101, 102, 103, 104,\n",
       "       105, 106, 107, 108, 109, 110, 111, 112, 113, 114, 115, 116, 117,\n",
       "       118, 119, 120, 121, 122, 123, 124, 125, 126, 127, 128, 129, 130,\n",
       "       131, 132, 133, 134, 135, 136, 137, 138, 139, 140, 141, 142, 143,\n",
       "       144, 145, 146, 147, 148, 149, 150, 151, 152, 153, 154, 155, 156,\n",
       "       157, 158, 159, 160, 161, 162, 163, 164, 165, 166, 167, 168, 169,\n",
       "       170, 171, 172, 173, 174, 175, 176, 177, 178, 179, 180, 181, 182,\n",
       "       183, 184, 185, 186, 187, 188, 189, 190, 191, 192, 193, 194, 195,\n",
       "       196, 197, 198, 199, 200, 201, 202, 203, 204, 205, 206, 207, 208,\n",
       "       209, 210, 211, 212, 213, 214, 215, 216, 217, 218, 219, 220, 221,\n",
       "       222, 223, 224, 225, 226, 227, 228, 229, 230, 231, 232, 233, 234,\n",
       "       235, 236, 237, 238, 239, 240, 241, 242, 243, 244, 245, 246, 247,\n",
       "       248, 249, 250, 251, 252, 253, 254, 255, 256, 257, 258, 259, 260,\n",
       "       261, 262, 263, 264, 265, 266, 267, 268, 269, 270, 271, 272, 273,\n",
       "       274, 275, 276, 277, 278, 279, 280, 281, 282, 283, 284, 285, 286,\n",
       "       287, 288, 289, 290, 291, 292, 293, 294, 295, 296, 297, 298, 299,\n",
       "       300], dtype=int64)"
      ]
     },
     "execution_count": 18,
     "metadata": {},
     "output_type": "execute_result"
    }
   ],
   "source": [
    "d_raw['Customer'].unique()"
   ]
  },
  {
   "cell_type": "markdown",
   "metadata": {},
   "source": [
    "#### Consumption Category (aka measurement channel)\n",
    "\n",
    "From Ausgrid description:\n",
    "\n",
    "> **GC** = General Consumption for electricity supplied all the time\n",
    "(primary tariff, either inclining block or time of use rates),\n",
    "excluding solar generation and controlled load supply\n",
    "\n",
    "> **CL** = Controlled Load Consumption (Off peak 1 or 2 tariffs)\n",
    "\n",
    "> **GG** = Gross Generation for electricity generated by the solar\n",
    "system with a gross metering configuration, measured separately\n",
    "to household loads\n",
    "\n",
    "Observation: only half as much CL as GG and GC.\n"
   ]
  },
  {
   "cell_type": "code",
   "execution_count": 19,
   "metadata": {
    "scrolled": true
   },
   "outputs": [
    {
     "data": {
      "text/plain": [
       "array(['CL', 'GC', 'GG'], dtype=object)"
      ]
     },
     "execution_count": 19,
     "metadata": {},
     "output_type": "execute_result"
    }
   ],
   "source": [
    "d_raw['Consumption Category'].unique()"
   ]
  },
  {
   "cell_type": "code",
   "execution_count": 20,
   "metadata": {},
   "outputs": [
    {
     "data": {
      "text/plain": [
       "GC    109419\n",
       "GG    109419\n",
       "CL     49719\n",
       "Name: Consumption Category, dtype: int64"
      ]
     },
     "execution_count": 20,
     "metadata": {},
     "output_type": "execute_result"
    }
   ],
   "source": [
    "d_raw['Consumption Category'].value_counts()"
   ]
  },
  {
   "cell_type": "markdown",
   "metadata": {},
   "source": [
    "### Completeness of the record\n",
    "\n",
    "there are some missing records in the dataframe:\n",
    "\n",
    "* GG and GC is complete\n",
    "* Some 54% of CL is missing."
   ]
  },
  {
   "cell_type": "code",
   "execution_count": 21,
   "metadata": {},
   "outputs": [
    {
     "data": {
      "text/plain": [
       "2.4458743169398907"
      ]
     },
     "execution_count": 21,
     "metadata": {},
     "output_type": "execute_result"
    }
   ],
   "source": [
    "len(d_raw)/366/300"
   ]
  },
  {
   "cell_type": "code",
   "execution_count": 22,
   "metadata": {},
   "outputs": [
    {
     "data": {
      "text/plain": [
       "GC    0.996530\n",
       "GG    0.996530\n",
       "CL    0.452814\n",
       "Name: Consumption Category, dtype: float64"
      ]
     },
     "execution_count": 22,
     "metadata": {},
     "output_type": "execute_result"
    }
   ],
   "source": [
    "d_raw['Consumption Category'].value_counts()/300/366"
   ]
  },
  {
   "cell_type": "markdown",
   "metadata": {},
   "source": [
    "## 2) Reshaping the data set.\n",
    "\n",
    "Objective:\n",
    "\n",
    "* Stack the time, to get proper timestamp combining day and hour\n",
    "* pivot the customer and consumption category as columns"
   ]
  },
  {
   "cell_type": "markdown",
   "metadata": {},
   "source": [
    "### Create datetime index"
   ]
  },
  {
   "cell_type": "code",
   "execution_count": 23,
   "metadata": {},
   "outputs": [],
   "source": [
    "from pandas.tseries.offsets import Day"
   ]
  },
  {
   "cell_type": "code",
   "execution_count": 24,
   "metadata": {},
   "outputs": [
    {
     "data": {
      "text/plain": [
       "Timestamp('2013-06-30 00:00:00')"
      ]
     },
     "execution_count": 24,
     "metadata": {},
     "output_type": "execute_result"
    }
   ],
   "source": [
    "d1"
   ]
  },
  {
   "cell_type": "code",
   "execution_count": 33,
   "metadata": {},
   "outputs": [
    {
     "data": {
      "text/plain": [
       "Timestamp('2012-07-01 00:00:00')"
      ]
     },
     "execution_count": 33,
     "metadata": {},
     "output_type": "execute_result"
    }
   ],
   "source": [
    "d1 + Day(1)"
   ]
  },
  {
   "cell_type": "markdown",
   "metadata": {},
   "source": [
    "Create the index, with **\"left\" convention** (start of the 30min interval), to make slicing for a given day easier"
   ]
  },
  {
   "cell_type": "code",
   "execution_count": 34,
   "metadata": {},
   "outputs": [
    {
     "data": {
      "text/plain": [
       "DatetimeIndex(['2011-07-01 00:00:00', '2011-07-01 00:30:00',\n",
       "               '2011-07-01 01:00:00', '2011-07-01 01:30:00',\n",
       "               '2011-07-01 02:00:00', '2011-07-01 02:30:00',\n",
       "               '2011-07-01 03:00:00', '2011-07-01 03:30:00',\n",
       "               '2011-07-01 04:00:00', '2011-07-01 04:30:00',\n",
       "               ...\n",
       "               '2012-06-30 19:00:00', '2012-06-30 19:30:00',\n",
       "               '2012-06-30 20:00:00', '2012-06-30 20:30:00',\n",
       "               '2012-06-30 21:00:00', '2012-06-30 21:30:00',\n",
       "               '2012-06-30 22:00:00', '2012-06-30 22:30:00',\n",
       "               '2012-06-30 23:00:00', '2012-06-30 23:30:00'],\n",
       "              dtype='datetime64[ns]', length=17568, freq='30T')"
      ]
     },
     "execution_count": 34,
     "metadata": {},
     "output_type": "execute_result"
    }
   ],
   "source": [
    "index = pd.date_range(d0, d1 + Day(1), freq='30T', closed='left')\n",
    "index"
   ]
  },
  {
   "cell_type": "markdown",
   "metadata": {},
   "source": [
    "### Colums: Customer/Channel\n",
    "\n",
    "using a MultiIndex, cf. [MultiIndex / Advanced Indexing](http://pandas.pydata.org/pandas-docs/stable/advanced.html) doc."
   ]
  },
  {
   "cell_type": "code",
   "execution_count": 35,
   "metadata": {},
   "outputs": [
    {
     "name": "stdout",
     "output_type": "stream",
     "text": [
      "[1, 2, 3, 4, 5, 6, 7, 8, 9, 10, 11, 12, 13, 14, 15, 16, 17, 18, 19, 20, 21, 22, 23, 24, 25, 26, 27, 28, 29, 30, 31, 32, 33, 34, 35, 36, 37, 38, 39, 40, 41, 42, 43, 44, 45, 46, 47, 48, 49, 50, 51, 52, 53, 54, 55, 56, 57, 58, 59, 60, 61, 62, 63, 64, 65, 66, 67, 68, 69, 70, 71, 72, 73, 74, 75, 76, 77, 78, 79, 80, 81, 82, 83, 84, 85, 86, 87, 88, 89, 90, 91, 92, 93, 94, 95, 96, 97, 98, 99, 100, 101, 102, 103, 104, 105, 106, 107, 108, 109, 110, 111, 112, 113, 114, 115, 116, 117, 118, 119, 120, 121, 122, 123, 124, 125, 126, 127, 128, 129, 130, 131, 132, 133, 134, 135, 136, 137, 138, 139, 140, 141, 142, 143, 144, 145, 146, 147, 148, 149, 150, 151, 152, 153, 154, 155, 156, 157, 158, 159, 160, 161, 162, 163, 164, 165, 166, 167, 168, 169, 170, 171, 172, 173, 174, 175, 176, 177, 178, 179, 180, 181, 182, 183, 184, 185, 186, 187, 188, 189, 190, 191, 192, 193, 194, 195, 196, 197, 198, 199, 200, 201, 202, 203, 204, 205, 206, 207, 208, 209, 210, 211, 212, 213, 214, 215, 216, 217, 218, 219, 220, 221, 222, 223, 224, 225, 226, 227, 228, 229, 230, 231, 232, 233, 234, 235, 236, 237, 238, 239, 240, 241, 242, 243, 244, 245, 246, 247, 248, 249, 250, 251, 252, 253, 254, 255, 256, 257, 258, 259, 260, 261, 262, 263, 264, 265, 266, 267, 268, 269, 270, 271, 272, 273, 274, 275, 276, 277, 278, 279, 280, 281, 282, 283, 284, 285, 286, 287, 288, 289, 290, 291, 292, 293, 294, 295, 296, 297, 298, 299, 300]\n"
     ]
    }
   ],
   "source": [
    "customers = sorted(d_raw.Customer.unique())\n",
    "print(customers)"
   ]
  },
  {
   "cell_type": "code",
   "execution_count": 36,
   "metadata": {},
   "outputs": [
    {
     "data": {
      "text/plain": [
       "array(['CL', 'GC', 'GG'], dtype=object)"
      ]
     },
     "execution_count": 36,
     "metadata": {},
     "output_type": "execute_result"
    }
   ],
   "source": [
    "channels = d_raw['Consumption Category'].unique()\n",
    "channels"
   ]
  },
  {
   "cell_type": "markdown",
   "metadata": {},
   "source": [
    "Customized channel order:\n",
    "\n",
    "* Consumption first (GC)\n",
    "* PV Generation second (GG)\n",
    "* CL third, because it is not always present (small trick to preserve the channel color in plots)"
   ]
  },
  {
   "cell_type": "code",
   "execution_count": 37,
   "metadata": {
    "collapsed": true
   },
   "outputs": [],
   "source": [
    "channels = ['GC', 'GG', 'CL']"
   ]
  },
  {
   "cell_type": "code",
   "execution_count": 38,
   "metadata": {
    "scrolled": true
   },
   "outputs": [
    {
     "data": {
      "text/plain": [
       "MultiIndex(levels=[[1, 2, 3, 4, 5, 6, 7, 8, 9, 10, 11, 12, 13, 14, 15, 16, 17, 18, 19, 20, 21, 22, 23, 24, 25, 26, 27, 28, 29, 30, 31, 32, 33, 34, 35, 36, 37, 38, 39, 40, 41, 42, 43, 44, 45, 46, 47, 48, 49, 50, 51, 52, 53, 54, 55, 56, 57, 58, 59, 60, 61, 62, 63, 64, 65, 66, 67, 68, 69, 70, 71, 72, 73, 74, 75, 76, 77, 78, 79, 80, 81, 82, 83, 84, 85, 86, 87, 88, 89, 90, 91, 92, 93, 94, 95, 96, 97, 98, 99, 100, 101, 102, 103, 104, 105, 106, 107, 108, 109, 110, 111, 112, 113, 114, 115, 116, 117, 118, 119, 120, 121, 122, 123, 124, 125, 126, 127, 128, 129, 130, 131, 132, 133, 134, 135, 136, 137, 138, 139, 140, 141, 142, 143, 144, 145, 146, 147, 148, 149, 150, 151, 152, 153, 154, 155, 156, 157, 158, 159, 160, 161, 162, 163, 164, 165, 166, 167, 168, 169, 170, 171, 172, 173, 174, 175, 176, 177, 178, 179, 180, 181, 182, 183, 184, 185, 186, 187, 188, 189, 190, 191, 192, 193, 194, 195, 196, 197, 198, 199, 200, 201, 202, 203, 204, 205, 206, 207, 208, 209, 210, 211, 212, 213, 214, 215, 216, 217, 218, 219, 220, 221, 222, 223, 224, 225, 226, 227, 228, 229, 230, 231, 232, 233, 234, 235, 236, 237, 238, 239, 240, 241, 242, 243, 244, 245, 246, 247, 248, 249, 250, 251, 252, 253, 254, 255, 256, 257, 258, 259, 260, 261, 262, 263, 264, 265, 266, 267, 268, 269, 270, 271, 272, 273, 274, 275, 276, 277, 278, 279, 280, 281, 282, 283, 284, 285, 286, 287, 288, 289, 290, 291, 292, 293, 294, 295, 296, 297, 298, 299, 300], ['CL', 'GC', 'GG']],\n",
       "           labels=[[0, 0, 0, 1, 1, 1, 2, 2, 2, 3, 3, 3, 4, 4, 4, 5, 5, 5, 6, 6, 6, 7, 7, 7, 8, 8, 8, 9, 9, 9, 10, 10, 10, 11, 11, 11, 12, 12, 12, 13, 13, 13, 14, 14, 14, 15, 15, 15, 16, 16, 16, 17, 17, 17, 18, 18, 18, 19, 19, 19, 20, 20, 20, 21, 21, 21, 22, 22, 22, 23, 23, 23, 24, 24, 24, 25, 25, 25, 26, 26, 26, 27, 27, 27, 28, 28, 28, 29, 29, 29, 30, 30, 30, 31, 31, 31, 32, 32, 32, 33, 33, 33, 34, 34, 34, 35, 35, 35, 36, 36, 36, 37, 37, 37, 38, 38, 38, 39, 39, 39, 40, 40, 40, 41, 41, 41, 42, 42, 42, 43, 43, 43, 44, 44, 44, 45, 45, 45, 46, 46, 46, 47, 47, 47, 48, 48, 48, 49, 49, 49, 50, 50, 50, 51, 51, 51, 52, 52, 52, 53, 53, 53, 54, 54, 54, 55, 55, 55, 56, 56, 56, 57, 57, 57, 58, 58, 58, 59, 59, 59, 60, 60, 60, 61, 61, 61, 62, 62, 62, 63, 63, 63, 64, 64, 64, 65, 65, 65, 66, 66, 66, 67, 67, 67, 68, 68, 68, 69, 69, 69, 70, 70, 70, 71, 71, 71, 72, 72, 72, 73, 73, 73, 74, 74, 74, 75, 75, 75, 76, 76, 76, 77, 77, 77, 78, 78, 78, 79, 79, 79, 80, 80, 80, 81, 81, 81, 82, 82, 82, 83, 83, 83, 84, 84, 84, 85, 85, 85, 86, 86, 86, 87, 87, 87, 88, 88, 88, 89, 89, 89, 90, 90, 90, 91, 91, 91, 92, 92, 92, 93, 93, 93, 94, 94, 94, 95, 95, 95, 96, 96, 96, 97, 97, 97, 98, 98, 98, 99, 99, 99, 100, 100, 100, 101, 101, 101, 102, 102, 102, 103, 103, 103, 104, 104, 104, 105, 105, 105, 106, 106, 106, 107, 107, 107, 108, 108, 108, 109, 109, 109, 110, 110, 110, 111, 111, 111, 112, 112, 112, 113, 113, 113, 114, 114, 114, 115, 115, 115, 116, 116, 116, 117, 117, 117, 118, 118, 118, 119, 119, 119, 120, 120, 120, 121, 121, 121, 122, 122, 122, 123, 123, 123, 124, 124, 124, 125, 125, 125, 126, 126, 126, 127, 127, 127, 128, 128, 128, 129, 129, 129, 130, 130, 130, 131, 131, 131, 132, 132, 132, 133, 133, 133, 134, 134, 134, 135, 135, 135, 136, 136, 136, 137, 137, 137, 138, 138, 138, 139, 139, 139, 140, 140, 140, 141, 141, 141, 142, 142, 142, 143, 143, 143, 144, 144, 144, 145, 145, 145, 146, 146, 146, 147, 147, 147, 148, 148, 148, 149, 149, 149, 150, 150, 150, 151, 151, 151, 152, 152, 152, 153, 153, 153, 154, 154, 154, 155, 155, 155, 156, 156, 156, 157, 157, 157, 158, 158, 158, 159, 159, 159, 160, 160, 160, 161, 161, 161, 162, 162, 162, 163, 163, 163, 164, 164, 164, 165, 165, 165, 166, 166, 166, 167, 167, 167, 168, 168, 168, 169, 169, 169, 170, 170, 170, 171, 171, 171, 172, 172, 172, 173, 173, 173, 174, 174, 174, 175, 175, 175, 176, 176, 176, 177, 177, 177, 178, 178, 178, 179, 179, 179, 180, 180, 180, 181, 181, 181, 182, 182, 182, 183, 183, 183, 184, 184, 184, 185, 185, 185, 186, 186, 186, 187, 187, 187, 188, 188, 188, 189, 189, 189, 190, 190, 190, 191, 191, 191, 192, 192, 192, 193, 193, 193, 194, 194, 194, 195, 195, 195, 196, 196, 196, 197, 197, 197, 198, 198, 198, 199, 199, 199, 200, 200, 200, 201, 201, 201, 202, 202, 202, 203, 203, 203, 204, 204, 204, 205, 205, 205, 206, 206, 206, 207, 207, 207, 208, 208, 208, 209, 209, 209, 210, 210, 210, 211, 211, 211, 212, 212, 212, 213, 213, 213, 214, 214, 214, 215, 215, 215, 216, 216, 216, 217, 217, 217, 218, 218, 218, 219, 219, 219, 220, 220, 220, 221, 221, 221, 222, 222, 222, 223, 223, 223, 224, 224, 224, 225, 225, 225, 226, 226, 226, 227, 227, 227, 228, 228, 228, 229, 229, 229, 230, 230, 230, 231, 231, 231, 232, 232, 232, 233, 233, 233, 234, 234, 234, 235, 235, 235, 236, 236, 236, 237, 237, 237, 238, 238, 238, 239, 239, 239, 240, 240, 240, 241, 241, 241, 242, 242, 242, 243, 243, 243, 244, 244, 244, 245, 245, 245, 246, 246, 246, 247, 247, 247, 248, 248, 248, 249, 249, 249, 250, 250, 250, 251, 251, 251, 252, 252, 252, 253, 253, 253, 254, 254, 254, 255, 255, 255, 256, 256, 256, 257, 257, 257, 258, 258, 258, 259, 259, 259, 260, 260, 260, 261, 261, 261, 262, 262, 262, 263, 263, 263, 264, 264, 264, 265, 265, 265, 266, 266, 266, 267, 267, 267, 268, 268, 268, 269, 269, 269, 270, 270, 270, 271, 271, 271, 272, 272, 272, 273, 273, 273, 274, 274, 274, 275, 275, 275, 276, 276, 276, 277, 277, 277, 278, 278, 278, 279, 279, 279, 280, 280, 280, 281, 281, 281, 282, 282, 282, 283, 283, 283, 284, 284, 284, 285, 285, 285, 286, 286, 286, 287, 287, 287, 288, 288, 288, 289, 289, 289, 290, 290, 290, 291, 291, 291, 292, 292, 292, 293, 293, 293, 294, 294, 294, 295, 295, 295, 296, 296, 296, 297, 297, 297, 298, 298, 298, 299, 299, 299], [1, 2, 0, 1, 2, 0, 1, 2, 0, 1, 2, 0, 1, 2, 0, 1, 2, 0, 1, 2, 0, 1, 2, 0, 1, 2, 0, 1, 2, 0, 1, 2, 0, 1, 2, 0, 1, 2, 0, 1, 2, 0, 1, 2, 0, 1, 2, 0, 1, 2, 0, 1, 2, 0, 1, 2, 0, 1, 2, 0, 1, 2, 0, 1, 2, 0, 1, 2, 0, 1, 2, 0, 1, 2, 0, 1, 2, 0, 1, 2, 0, 1, 2, 0, 1, 2, 0, 1, 2, 0, 1, 2, 0, 1, 2, 0, 1, 2, 0, 1, 2, 0, 1, 2, 0, 1, 2, 0, 1, 2, 0, 1, 2, 0, 1, 2, 0, 1, 2, 0, 1, 2, 0, 1, 2, 0, 1, 2, 0, 1, 2, 0, 1, 2, 0, 1, 2, 0, 1, 2, 0, 1, 2, 0, 1, 2, 0, 1, 2, 0, 1, 2, 0, 1, 2, 0, 1, 2, 0, 1, 2, 0, 1, 2, 0, 1, 2, 0, 1, 2, 0, 1, 2, 0, 1, 2, 0, 1, 2, 0, 1, 2, 0, 1, 2, 0, 1, 2, 0, 1, 2, 0, 1, 2, 0, 1, 2, 0, 1, 2, 0, 1, 2, 0, 1, 2, 0, 1, 2, 0, 1, 2, 0, 1, 2, 0, 1, 2, 0, 1, 2, 0, 1, 2, 0, 1, 2, 0, 1, 2, 0, 1, 2, 0, 1, 2, 0, 1, 2, 0, 1, 2, 0, 1, 2, 0, 1, 2, 0, 1, 2, 0, 1, 2, 0, 1, 2, 0, 1, 2, 0, 1, 2, 0, 1, 2, 0, 1, 2, 0, 1, 2, 0, 1, 2, 0, 1, 2, 0, 1, 2, 0, 1, 2, 0, 1, 2, 0, 1, 2, 0, 1, 2, 0, 1, 2, 0, 1, 2, 0, 1, 2, 0, 1, 2, 0, 1, 2, 0, 1, 2, 0, 1, 2, 0, 1, 2, 0, 1, 2, 0, 1, 2, 0, 1, 2, 0, 1, 2, 0, 1, 2, 0, 1, 2, 0, 1, 2, 0, 1, 2, 0, 1, 2, 0, 1, 2, 0, 1, 2, 0, 1, 2, 0, 1, 2, 0, 1, 2, 0, 1, 2, 0, 1, 2, 0, 1, 2, 0, 1, 2, 0, 1, 2, 0, 1, 2, 0, 1, 2, 0, 1, 2, 0, 1, 2, 0, 1, 2, 0, 1, 2, 0, 1, 2, 0, 1, 2, 0, 1, 2, 0, 1, 2, 0, 1, 2, 0, 1, 2, 0, 1, 2, 0, 1, 2, 0, 1, 2, 0, 1, 2, 0, 1, 2, 0, 1, 2, 0, 1, 2, 0, 1, 2, 0, 1, 2, 0, 1, 2, 0, 1, 2, 0, 1, 2, 0, 1, 2, 0, 1, 2, 0, 1, 2, 0, 1, 2, 0, 1, 2, 0, 1, 2, 0, 1, 2, 0, 1, 2, 0, 1, 2, 0, 1, 2, 0, 1, 2, 0, 1, 2, 0, 1, 2, 0, 1, 2, 0, 1, 2, 0, 1, 2, 0, 1, 2, 0, 1, 2, 0, 1, 2, 0, 1, 2, 0, 1, 2, 0, 1, 2, 0, 1, 2, 0, 1, 2, 0, 1, 2, 0, 1, 2, 0, 1, 2, 0, 1, 2, 0, 1, 2, 0, 1, 2, 0, 1, 2, 0, 1, 2, 0, 1, 2, 0, 1, 2, 0, 1, 2, 0, 1, 2, 0, 1, 2, 0, 1, 2, 0, 1, 2, 0, 1, 2, 0, 1, 2, 0, 1, 2, 0, 1, 2, 0, 1, 2, 0, 1, 2, 0, 1, 2, 0, 1, 2, 0, 1, 2, 0, 1, 2, 0, 1, 2, 0, 1, 2, 0, 1, 2, 0, 1, 2, 0, 1, 2, 0, 1, 2, 0, 1, 2, 0, 1, 2, 0, 1, 2, 0, 1, 2, 0, 1, 2, 0, 1, 2, 0, 1, 2, 0, 1, 2, 0, 1, 2, 0, 1, 2, 0, 1, 2, 0, 1, 2, 0, 1, 2, 0, 1, 2, 0, 1, 2, 0, 1, 2, 0, 1, 2, 0, 1, 2, 0, 1, 2, 0, 1, 2, 0, 1, 2, 0, 1, 2, 0, 1, 2, 0, 1, 2, 0, 1, 2, 0, 1, 2, 0, 1, 2, 0, 1, 2, 0, 1, 2, 0, 1, 2, 0, 1, 2, 0, 1, 2, 0, 1, 2, 0, 1, 2, 0, 1, 2, 0, 1, 2, 0, 1, 2, 0, 1, 2, 0, 1, 2, 0, 1, 2, 0, 1, 2, 0, 1, 2, 0, 1, 2, 0, 1, 2, 0, 1, 2, 0, 1, 2, 0, 1, 2, 0, 1, 2, 0, 1, 2, 0, 1, 2, 0, 1, 2, 0, 1, 2, 0, 1, 2, 0, 1, 2, 0, 1, 2, 0, 1, 2, 0, 1, 2, 0, 1, 2, 0, 1, 2, 0, 1, 2, 0, 1, 2, 0, 1, 2, 0, 1, 2, 0, 1, 2, 0, 1, 2, 0, 1, 2, 0, 1, 2, 0, 1, 2, 0, 1, 2, 0, 1, 2, 0, 1, 2, 0, 1, 2, 0, 1, 2, 0, 1, 2, 0, 1, 2, 0, 1, 2, 0, 1, 2, 0, 1, 2, 0, 1, 2, 0, 1, 2, 0, 1, 2, 0, 1, 2, 0, 1, 2, 0, 1, 2, 0, 1, 2, 0, 1, 2, 0, 1, 2, 0, 1, 2, 0, 1, 2, 0, 1, 2, 0, 1, 2, 0, 1, 2, 0, 1, 2, 0, 1, 2, 0, 1, 2, 0, 1, 2, 0]],\n",
       "           names=['Customer', 'Channel'])"
      ]
     },
     "execution_count": 38,
     "metadata": {},
     "output_type": "execute_result"
    }
   ],
   "source": [
    "columns = pd.MultiIndex.from_product(\n",
    "    (customers, channels), names=['Customer', 'Channel'])\n",
    "columns"
   ]
  },
  {
   "cell_type": "markdown",
   "metadata": {},
   "source": [
    "### Create the new DataFrame\n",
    "\n",
    "starting from a blank DataFrame:"
   ]
  },
  {
   "cell_type": "code",
   "execution_count": 39,
   "metadata": {
    "collapsed": true
   },
   "outputs": [],
   "source": [
    "empty_cols = pd.MultiIndex(\n",
    "    levels=[customers, channels],\n",
    "    labels=[[],[]],\n",
    "    names=['Customer', 'Channel'])"
   ]
  },
  {
   "cell_type": "code",
   "execution_count": 40,
   "metadata": {},
   "outputs": [
    {
     "data": {
      "text/html": [
       "<div>\n",
       "<style>\n",
       "    .dataframe thead tr:only-child th {\n",
       "        text-align: right;\n",
       "    }\n",
       "\n",
       "    .dataframe thead th {\n",
       "        text-align: left;\n",
       "    }\n",
       "\n",
       "    .dataframe tbody tr th {\n",
       "        vertical-align: top;\n",
       "    }\n",
       "</style>\n",
       "<table border=\"1\" class=\"dataframe\">\n",
       "  <thead>\n",
       "  </thead>\n",
       "  <tbody>\n",
       "    <tr>\n",
       "      <th>2011-07-01 00:00:00</th>\n",
       "    </tr>\n",
       "    <tr>\n",
       "      <th>2011-07-01 00:30:00</th>\n",
       "    </tr>\n",
       "    <tr>\n",
       "      <th>2011-07-01 01:00:00</th>\n",
       "    </tr>\n",
       "    <tr>\n",
       "      <th>2011-07-01 01:30:00</th>\n",
       "    </tr>\n",
       "    <tr>\n",
       "      <th>2011-07-01 02:00:00</th>\n",
       "    </tr>\n",
       "    <tr>\n",
       "      <th>2011-07-01 02:30:00</th>\n",
       "    </tr>\n",
       "    <tr>\n",
       "      <th>2011-07-01 03:00:00</th>\n",
       "    </tr>\n",
       "    <tr>\n",
       "      <th>2011-07-01 03:30:00</th>\n",
       "    </tr>\n",
       "    <tr>\n",
       "      <th>2011-07-01 04:00:00</th>\n",
       "    </tr>\n",
       "    <tr>\n",
       "      <th>2011-07-01 04:30:00</th>\n",
       "    </tr>\n",
       "    <tr>\n",
       "      <th>2011-07-01 05:00:00</th>\n",
       "    </tr>\n",
       "    <tr>\n",
       "      <th>2011-07-01 05:30:00</th>\n",
       "    </tr>\n",
       "    <tr>\n",
       "      <th>2011-07-01 06:00:00</th>\n",
       "    </tr>\n",
       "    <tr>\n",
       "      <th>2011-07-01 06:30:00</th>\n",
       "    </tr>\n",
       "    <tr>\n",
       "      <th>2011-07-01 07:00:00</th>\n",
       "    </tr>\n",
       "    <tr>\n",
       "      <th>2011-07-01 07:30:00</th>\n",
       "    </tr>\n",
       "    <tr>\n",
       "      <th>2011-07-01 08:00:00</th>\n",
       "    </tr>\n",
       "    <tr>\n",
       "      <th>2011-07-01 08:30:00</th>\n",
       "    </tr>\n",
       "    <tr>\n",
       "      <th>2011-07-01 09:00:00</th>\n",
       "    </tr>\n",
       "    <tr>\n",
       "      <th>2011-07-01 09:30:00</th>\n",
       "    </tr>\n",
       "    <tr>\n",
       "      <th>2011-07-01 10:00:00</th>\n",
       "    </tr>\n",
       "    <tr>\n",
       "      <th>2011-07-01 10:30:00</th>\n",
       "    </tr>\n",
       "    <tr>\n",
       "      <th>2011-07-01 11:00:00</th>\n",
       "    </tr>\n",
       "    <tr>\n",
       "      <th>2011-07-01 11:30:00</th>\n",
       "    </tr>\n",
       "    <tr>\n",
       "      <th>2011-07-01 12:00:00</th>\n",
       "    </tr>\n",
       "    <tr>\n",
       "      <th>2011-07-01 12:30:00</th>\n",
       "    </tr>\n",
       "    <tr>\n",
       "      <th>2011-07-01 13:00:00</th>\n",
       "    </tr>\n",
       "    <tr>\n",
       "      <th>2011-07-01 13:30:00</th>\n",
       "    </tr>\n",
       "    <tr>\n",
       "      <th>2011-07-01 14:00:00</th>\n",
       "    </tr>\n",
       "    <tr>\n",
       "      <th>2011-07-01 14:30:00</th>\n",
       "    </tr>\n",
       "    <tr>\n",
       "      <th>...</th>\n",
       "    </tr>\n",
       "    <tr>\n",
       "      <th>2012-06-30 09:00:00</th>\n",
       "    </tr>\n",
       "    <tr>\n",
       "      <th>2012-06-30 09:30:00</th>\n",
       "    </tr>\n",
       "    <tr>\n",
       "      <th>2012-06-30 10:00:00</th>\n",
       "    </tr>\n",
       "    <tr>\n",
       "      <th>2012-06-30 10:30:00</th>\n",
       "    </tr>\n",
       "    <tr>\n",
       "      <th>2012-06-30 11:00:00</th>\n",
       "    </tr>\n",
       "    <tr>\n",
       "      <th>2012-06-30 11:30:00</th>\n",
       "    </tr>\n",
       "    <tr>\n",
       "      <th>2012-06-30 12:00:00</th>\n",
       "    </tr>\n",
       "    <tr>\n",
       "      <th>2012-06-30 12:30:00</th>\n",
       "    </tr>\n",
       "    <tr>\n",
       "      <th>2012-06-30 13:00:00</th>\n",
       "    </tr>\n",
       "    <tr>\n",
       "      <th>2012-06-30 13:30:00</th>\n",
       "    </tr>\n",
       "    <tr>\n",
       "      <th>2012-06-30 14:00:00</th>\n",
       "    </tr>\n",
       "    <tr>\n",
       "      <th>2012-06-30 14:30:00</th>\n",
       "    </tr>\n",
       "    <tr>\n",
       "      <th>2012-06-30 15:00:00</th>\n",
       "    </tr>\n",
       "    <tr>\n",
       "      <th>2012-06-30 15:30:00</th>\n",
       "    </tr>\n",
       "    <tr>\n",
       "      <th>2012-06-30 16:00:00</th>\n",
       "    </tr>\n",
       "    <tr>\n",
       "      <th>2012-06-30 16:30:00</th>\n",
       "    </tr>\n",
       "    <tr>\n",
       "      <th>2012-06-30 17:00:00</th>\n",
       "    </tr>\n",
       "    <tr>\n",
       "      <th>2012-06-30 17:30:00</th>\n",
       "    </tr>\n",
       "    <tr>\n",
       "      <th>2012-06-30 18:00:00</th>\n",
       "    </tr>\n",
       "    <tr>\n",
       "      <th>2012-06-30 18:30:00</th>\n",
       "    </tr>\n",
       "    <tr>\n",
       "      <th>2012-06-30 19:00:00</th>\n",
       "    </tr>\n",
       "    <tr>\n",
       "      <th>2012-06-30 19:30:00</th>\n",
       "    </tr>\n",
       "    <tr>\n",
       "      <th>2012-06-30 20:00:00</th>\n",
       "    </tr>\n",
       "    <tr>\n",
       "      <th>2012-06-30 20:30:00</th>\n",
       "    </tr>\n",
       "    <tr>\n",
       "      <th>2012-06-30 21:00:00</th>\n",
       "    </tr>\n",
       "    <tr>\n",
       "      <th>2012-06-30 21:30:00</th>\n",
       "    </tr>\n",
       "    <tr>\n",
       "      <th>2012-06-30 22:00:00</th>\n",
       "    </tr>\n",
       "    <tr>\n",
       "      <th>2012-06-30 22:30:00</th>\n",
       "    </tr>\n",
       "    <tr>\n",
       "      <th>2012-06-30 23:00:00</th>\n",
       "    </tr>\n",
       "    <tr>\n",
       "      <th>2012-06-30 23:30:00</th>\n",
       "    </tr>\n",
       "  </tbody>\n",
       "</table>\n",
       "<p>17568 rows × 0 columns</p>\n",
       "</div>"
      ],
      "text/plain": [
       "Empty DataFrame\n",
       "Columns: []\n",
       "Index: [2011-07-01 00:00:00, 2011-07-01 00:30:00, 2011-07-01 01:00:00, 2011-07-01 01:30:00, 2011-07-01 02:00:00, 2011-07-01 02:30:00, 2011-07-01 03:00:00, 2011-07-01 03:30:00, 2011-07-01 04:00:00, 2011-07-01 04:30:00, 2011-07-01 05:00:00, 2011-07-01 05:30:00, 2011-07-01 06:00:00, 2011-07-01 06:30:00, 2011-07-01 07:00:00, 2011-07-01 07:30:00, 2011-07-01 08:00:00, 2011-07-01 08:30:00, 2011-07-01 09:00:00, 2011-07-01 09:30:00, 2011-07-01 10:00:00, 2011-07-01 10:30:00, 2011-07-01 11:00:00, 2011-07-01 11:30:00, 2011-07-01 12:00:00, 2011-07-01 12:30:00, 2011-07-01 13:00:00, 2011-07-01 13:30:00, 2011-07-01 14:00:00, 2011-07-01 14:30:00, 2011-07-01 15:00:00, 2011-07-01 15:30:00, 2011-07-01 16:00:00, 2011-07-01 16:30:00, 2011-07-01 17:00:00, 2011-07-01 17:30:00, 2011-07-01 18:00:00, 2011-07-01 18:30:00, 2011-07-01 19:00:00, 2011-07-01 19:30:00, 2011-07-01 20:00:00, 2011-07-01 20:30:00, 2011-07-01 21:00:00, 2011-07-01 21:30:00, 2011-07-01 22:00:00, 2011-07-01 22:30:00, 2011-07-01 23:00:00, 2011-07-01 23:30:00, 2011-07-02 00:00:00, 2011-07-02 00:30:00, 2011-07-02 01:00:00, 2011-07-02 01:30:00, 2011-07-02 02:00:00, 2011-07-02 02:30:00, 2011-07-02 03:00:00, 2011-07-02 03:30:00, 2011-07-02 04:00:00, 2011-07-02 04:30:00, 2011-07-02 05:00:00, 2011-07-02 05:30:00, 2011-07-02 06:00:00, 2011-07-02 06:30:00, 2011-07-02 07:00:00, 2011-07-02 07:30:00, 2011-07-02 08:00:00, 2011-07-02 08:30:00, 2011-07-02 09:00:00, 2011-07-02 09:30:00, 2011-07-02 10:00:00, 2011-07-02 10:30:00, 2011-07-02 11:00:00, 2011-07-02 11:30:00, 2011-07-02 12:00:00, 2011-07-02 12:30:00, 2011-07-02 13:00:00, 2011-07-02 13:30:00, 2011-07-02 14:00:00, 2011-07-02 14:30:00, 2011-07-02 15:00:00, 2011-07-02 15:30:00, 2011-07-02 16:00:00, 2011-07-02 16:30:00, 2011-07-02 17:00:00, 2011-07-02 17:30:00, 2011-07-02 18:00:00, 2011-07-02 18:30:00, 2011-07-02 19:00:00, 2011-07-02 19:30:00, 2011-07-02 20:00:00, 2011-07-02 20:30:00, 2011-07-02 21:00:00, 2011-07-02 21:30:00, 2011-07-02 22:00:00, 2011-07-02 22:30:00, 2011-07-02 23:00:00, 2011-07-02 23:30:00, 2011-07-03 00:00:00, 2011-07-03 00:30:00, 2011-07-03 01:00:00, 2011-07-03 01:30:00, ...]\n",
       "\n",
       "[17568 rows x 0 columns]"
      ]
     },
     "execution_count": 40,
     "metadata": {},
     "output_type": "execute_result"
    }
   ],
   "source": [
    "df = pd.DataFrame(index=index, columns=empty_cols)\n",
    "df"
   ]
  },
  {
   "cell_type": "markdown",
   "metadata": {},
   "source": [
    "Fill the columns:\n",
    "\n",
    "notice: \n",
    "\n",
    "* it is way slower when the 3x300 columns are pre-assigned in the DataFrame creation\n",
    "* but the MultiIndex is lost when pre-assignment is not done (empty columns)\n",
    "* → solution which seems to work: using an empty MultiIndex (customers/channel)"
   ]
  },
  {
   "cell_type": "code",
   "execution_count": 41,
   "metadata": {},
   "outputs": [
    {
     "name": "stdout",
     "output_type": "stream",
     "text": [
      "1, 2, 3, 4, 5, 6, 7, 8, 9, 10, 11, 12, 13, 14, 15, 16, 17, 18, 19, 20, 21, 22, 23, 24, 25, 26, 27, 28, 29, 30, 31, 32, 33, 34, 35, 36, 37, 38, 39, 40, 41, 42, 43, 44, 45, 46, 47, 48, 49, 50, 51, 52, 53, 54, 55, 56, 57, 58, 59, 60, 61, 62, 63, 64, 65, 66, 67, 68, 69, 70, 71, 72, 73, 74, 75, 76, 77, 78, 79, 80, 81, 82, 83, 84, 85, 86, 87, 88, 89, 90, 91, 92, 93, 94, 95, 96, 97, 98, 99, 100, 101, 102, 103, 104, 105, 106, 107, 108, 109, 110, 111, 112, 113, 114, 115, 116, 117, 118, 119, 120, 121, 122, 123, 124, 125, 126, 127, 128, 129, 130, 131, 132, 133, 134, 135, 136, 137, 138, 139, 140, 141, 142, 143, 144, 145, 146, 147, 148, 149, 150, 151, 152, 153, 154, 155, 156, 157, 158, 159, 160, 161, 162, 163, 164, 165, 166, 167, 168, 169, 170, 171, 172, 173, 174, 175, 176, 177, 178, 179, 180, 181, 182, 183, 184, 185, 186, 187, 188, 189, 190, 191, 192, 193, 194, 195, 196, 197, 198, 199, 200, 201, 202, 203, 204, 205, 206, 207, 208, 209, 210, 211, 212, 213, 214, 215, 216, 217, 218, 219, 220, 221, 222, 223, 224, 225, 226, 227, 228, 229, 230, 231, 232, 233, 234, 235, 236, 237, 238, 239, 240, 241, 242, 243, 244, 245, 246, 247, 248, 249, 250, 251, 252, 253, 254, 255, 256, 257, 258, 259, 260, 261, 262, 263, 264, 265, 266, 267, 268, 269, 270, 271, 272, 273, 274, 275, 276, 277, 278, 279, 280, 281, 282, 283, 284, 285, 286, 287, 288, 289, 290, 291, 292, 293, 294, 295, 296, 297, 298, 299, 300, "
     ]
    }
   ],
   "source": [
    "missing_records = []\n",
    "\n",
    "for c in customers:\n",
    "    d_c = d_raw[d_raw.Customer == c]\n",
    "    \n",
    "    # TODO: save the row quality\n",
    "    print(c, end=', ')\n",
    "    \n",
    "    for ch in channels:\n",
    "        d_c_ch = d_c[d_c['Consumption Category'] == ch]\n",
    "        ts = d_c_ch.iloc[:,5:-1].values.ravel()\n",
    "        if len(ts) != len(index):\n",
    "            missing_records.append((c,ch, len(ts)))\n",
    "        else:\n",
    "            df[c, ch] = ts"
   ]
  },
  {
   "cell_type": "markdown",
   "metadata": {},
   "source": [
    "#### Analysis of missing/imcomplete records\n",
    "\n",
    "Observation: out of 162 missing records (over a potential of 900):\n",
    "\n",
    "* 161 are the complete absence of the CL channel\n",
    "* 1 is an incomplete CL channe (from 2011-07-01 to 2012-01-12): maybe a change of tariff ?"
   ]
  },
  {
   "cell_type": "code",
   "execution_count": 42,
   "metadata": {},
   "outputs": [
    {
     "data": {
      "text/plain": [
       "900"
      ]
     },
     "execution_count": 42,
     "metadata": {},
     "output_type": "execute_result"
    }
   ],
   "source": [
    "len(columns)"
   ]
  },
  {
   "cell_type": "code",
   "execution_count": 43,
   "metadata": {},
   "outputs": [
    {
     "data": {
      "text/plain": [
       "162"
      ]
     },
     "execution_count": 43,
     "metadata": {},
     "output_type": "execute_result"
    }
   ],
   "source": [
    "len(missing_records)"
   ]
  },
  {
   "cell_type": "code",
   "execution_count": 44,
   "metadata": {},
   "outputs": [
    {
     "data": {
      "text/plain": [
       "161"
      ]
     },
     "execution_count": 44,
     "metadata": {},
     "output_type": "execute_result"
    }
   ],
   "source": [
    "n_empty_CL = 0\n",
    "missing_records_others = []\n",
    "for (c, ch, len_ts) in missing_records:\n",
    "    if ch=='CL' and len_ts==0:\n",
    "        n_empty_CL += 1\n",
    "    else:\n",
    "        missing_records_others.append((c, ch, len_ts))\n",
    "n_empty_CL"
   ]
  },
  {
   "cell_type": "code",
   "execution_count": 45,
   "metadata": {},
   "outputs": [
    {
     "data": {
      "text/plain": [
       "[(27, 'CL', 9408)]"
      ]
     },
     "execution_count": 45,
     "metadata": {},
     "output_type": "execute_result"
    }
   ],
   "source": [
    "missing_records_others"
   ]
  },
  {
   "cell_type": "code",
   "execution_count": 46,
   "metadata": {},
   "outputs": [
    {
     "data": {
      "text/plain": [
       "24522   2011-07-01\n",
       "25107   2012-01-12\n",
       "Name: date, dtype: datetime64[ns]"
      ]
     },
     "execution_count": 46,
     "metadata": {},
     "output_type": "execute_result"
    }
   ],
   "source": [
    "d_27_CL = d_raw[(d_raw.Customer == 27) & (d_raw['Consumption Category'] == 'CL')]\n",
    "d_27_CL['date'].iloc[[0,-1]]"
   ]
  },
  {
   "cell_type": "markdown",
   "metadata": {},
   "source": [
    "#### Check the new dataframe"
   ]
  },
  {
   "cell_type": "code",
   "execution_count": 47,
   "metadata": {},
   "outputs": [
    {
     "data": {
      "text/plain": [
       "900"
      ]
     },
     "execution_count": 47,
     "metadata": {},
     "output_type": "execute_result"
    }
   ],
   "source": [
    "len(df.columns) + len(missing_records)"
   ]
  },
  {
   "cell_type": "code",
   "execution_count": 48,
   "metadata": {},
   "outputs": [
    {
     "data": {
      "text/html": [
       "<div>\n",
       "<style>\n",
       "    .dataframe thead tr:only-child th {\n",
       "        text-align: right;\n",
       "    }\n",
       "\n",
       "    .dataframe thead th {\n",
       "        text-align: left;\n",
       "    }\n",
       "\n",
       "    .dataframe tbody tr th {\n",
       "        vertical-align: top;\n",
       "    }\n",
       "</style>\n",
       "<table border=\"1\" class=\"dataframe\">\n",
       "  <thead>\n",
       "    <tr>\n",
       "      <th>Customer</th>\n",
       "      <th colspan=\"3\" halign=\"left\">1</th>\n",
       "      <th colspan=\"3\" halign=\"left\">2</th>\n",
       "      <th colspan=\"3\" halign=\"left\">3</th>\n",
       "      <th>4</th>\n",
       "      <th>...</th>\n",
       "      <th colspan=\"3\" halign=\"left\">297</th>\n",
       "      <th colspan=\"2\" halign=\"left\">298</th>\n",
       "      <th colspan=\"2\" halign=\"left\">299</th>\n",
       "      <th colspan=\"3\" halign=\"left\">300</th>\n",
       "    </tr>\n",
       "    <tr>\n",
       "      <th>Channel</th>\n",
       "      <th>GC</th>\n",
       "      <th>GG</th>\n",
       "      <th>CL</th>\n",
       "      <th>GC</th>\n",
       "      <th>GG</th>\n",
       "      <th>CL</th>\n",
       "      <th>GC</th>\n",
       "      <th>GG</th>\n",
       "      <th>CL</th>\n",
       "      <th>GC</th>\n",
       "      <th>...</th>\n",
       "      <th>GC</th>\n",
       "      <th>GG</th>\n",
       "      <th>CL</th>\n",
       "      <th>GC</th>\n",
       "      <th>GG</th>\n",
       "      <th>GC</th>\n",
       "      <th>GG</th>\n",
       "      <th>GC</th>\n",
       "      <th>GG</th>\n",
       "      <th>CL</th>\n",
       "    </tr>\n",
       "  </thead>\n",
       "  <tbody>\n",
       "    <tr>\n",
       "      <th>2011-07-01 00:00:00</th>\n",
       "      <td>1.077</td>\n",
       "      <td>0.0</td>\n",
       "      <td>1.250</td>\n",
       "      <td>0.276</td>\n",
       "      <td>0.0</td>\n",
       "      <td>0.0</td>\n",
       "      <td>0.060</td>\n",
       "      <td>0.0</td>\n",
       "      <td>2.008</td>\n",
       "      <td>0.104</td>\n",
       "      <td>...</td>\n",
       "      <td>0.268</td>\n",
       "      <td>0.0</td>\n",
       "      <td>0.000</td>\n",
       "      <td>0.100</td>\n",
       "      <td>0.0</td>\n",
       "      <td>0.140</td>\n",
       "      <td>0.0</td>\n",
       "      <td>1.034</td>\n",
       "      <td>0.0</td>\n",
       "      <td>2.533</td>\n",
       "    </tr>\n",
       "    <tr>\n",
       "      <th>2011-07-01 00:30:00</th>\n",
       "      <td>0.669</td>\n",
       "      <td>0.0</td>\n",
       "      <td>1.250</td>\n",
       "      <td>0.134</td>\n",
       "      <td>0.0</td>\n",
       "      <td>0.0</td>\n",
       "      <td>0.062</td>\n",
       "      <td>0.0</td>\n",
       "      <td>0.218</td>\n",
       "      <td>0.107</td>\n",
       "      <td>...</td>\n",
       "      <td>0.329</td>\n",
       "      <td>0.0</td>\n",
       "      <td>0.000</td>\n",
       "      <td>0.068</td>\n",
       "      <td>0.0</td>\n",
       "      <td>0.160</td>\n",
       "      <td>0.0</td>\n",
       "      <td>0.631</td>\n",
       "      <td>0.0</td>\n",
       "      <td>0.265</td>\n",
       "    </tr>\n",
       "    <tr>\n",
       "      <th>2011-07-01 01:00:00</th>\n",
       "      <td>0.674</td>\n",
       "      <td>0.0</td>\n",
       "      <td>1.250</td>\n",
       "      <td>0.169</td>\n",
       "      <td>0.0</td>\n",
       "      <td>0.0</td>\n",
       "      <td>0.060</td>\n",
       "      <td>0.0</td>\n",
       "      <td>0.000</td>\n",
       "      <td>0.104</td>\n",
       "      <td>...</td>\n",
       "      <td>0.306</td>\n",
       "      <td>0.0</td>\n",
       "      <td>0.000</td>\n",
       "      <td>0.068</td>\n",
       "      <td>0.0</td>\n",
       "      <td>0.116</td>\n",
       "      <td>0.0</td>\n",
       "      <td>0.119</td>\n",
       "      <td>0.0</td>\n",
       "      <td>0.000</td>\n",
       "    </tr>\n",
       "    <tr>\n",
       "      <th>2011-07-01 01:30:00</th>\n",
       "      <td>0.615</td>\n",
       "      <td>0.0</td>\n",
       "      <td>0.625</td>\n",
       "      <td>0.185</td>\n",
       "      <td>0.0</td>\n",
       "      <td>0.0</td>\n",
       "      <td>0.059</td>\n",
       "      <td>0.0</td>\n",
       "      <td>0.000</td>\n",
       "      <td>0.108</td>\n",
       "      <td>...</td>\n",
       "      <td>0.233</td>\n",
       "      <td>0.0</td>\n",
       "      <td>1.311</td>\n",
       "      <td>0.068</td>\n",
       "      <td>0.0</td>\n",
       "      <td>0.162</td>\n",
       "      <td>0.0</td>\n",
       "      <td>0.098</td>\n",
       "      <td>0.0</td>\n",
       "      <td>0.000</td>\n",
       "    </tr>\n",
       "    <tr>\n",
       "      <th>2011-07-01 02:00:00</th>\n",
       "      <td>0.321</td>\n",
       "      <td>0.0</td>\n",
       "      <td>0.219</td>\n",
       "      <td>0.141</td>\n",
       "      <td>0.0</td>\n",
       "      <td>0.0</td>\n",
       "      <td>0.060</td>\n",
       "      <td>0.0</td>\n",
       "      <td>0.000</td>\n",
       "      <td>0.110</td>\n",
       "      <td>...</td>\n",
       "      <td>0.265</td>\n",
       "      <td>0.0</td>\n",
       "      <td>0.000</td>\n",
       "      <td>0.069</td>\n",
       "      <td>0.0</td>\n",
       "      <td>0.138</td>\n",
       "      <td>0.0</td>\n",
       "      <td>0.109</td>\n",
       "      <td>0.0</td>\n",
       "      <td>0.000</td>\n",
       "    </tr>\n",
       "  </tbody>\n",
       "</table>\n",
       "<p>5 rows × 738 columns</p>\n",
       "</div>"
      ],
      "text/plain": [
       "Customer               1                  2                3                \\\n",
       "Channel                 GC   GG     CL     GC   GG   CL     GC   GG     CL   \n",
       "2011-07-01 00:00:00  1.077  0.0  1.250  0.276  0.0  0.0  0.060  0.0  2.008   \n",
       "2011-07-01 00:30:00  0.669  0.0  1.250  0.134  0.0  0.0  0.062  0.0  0.218   \n",
       "2011-07-01 01:00:00  0.674  0.0  1.250  0.169  0.0  0.0  0.060  0.0  0.000   \n",
       "2011-07-01 01:30:00  0.615  0.0  0.625  0.185  0.0  0.0  0.059  0.0  0.000   \n",
       "2011-07-01 02:00:00  0.321  0.0  0.219  0.141  0.0  0.0  0.060  0.0  0.000   \n",
       "\n",
       "Customer               4    ...      297                298         299       \\\n",
       "Channel                 GC  ...       GC   GG     CL     GC   GG     GC   GG   \n",
       "2011-07-01 00:00:00  0.104  ...    0.268  0.0  0.000  0.100  0.0  0.140  0.0   \n",
       "2011-07-01 00:30:00  0.107  ...    0.329  0.0  0.000  0.068  0.0  0.160  0.0   \n",
       "2011-07-01 01:00:00  0.104  ...    0.306  0.0  0.000  0.068  0.0  0.116  0.0   \n",
       "2011-07-01 01:30:00  0.108  ...    0.233  0.0  1.311  0.068  0.0  0.162  0.0   \n",
       "2011-07-01 02:00:00  0.110  ...    0.265  0.0  0.000  0.069  0.0  0.138  0.0   \n",
       "\n",
       "Customer               300              \n",
       "Channel                 GC   GG     CL  \n",
       "2011-07-01 00:00:00  1.034  0.0  2.533  \n",
       "2011-07-01 00:30:00  0.631  0.0  0.265  \n",
       "2011-07-01 01:00:00  0.119  0.0  0.000  \n",
       "2011-07-01 01:30:00  0.098  0.0  0.000  \n",
       "2011-07-01 02:00:00  0.109  0.0  0.000  \n",
       "\n",
       "[5 rows x 738 columns]"
      ]
     },
     "execution_count": 48,
     "metadata": {},
     "output_type": "execute_result"
    }
   ],
   "source": [
    "df.head()"
   ]
  },
  {
   "cell_type": "code",
   "execution_count": 49,
   "metadata": {},
   "outputs": [
    {
     "data": {
      "text/html": [
       "<div>\n",
       "<style>\n",
       "    .dataframe thead tr:only-child th {\n",
       "        text-align: right;\n",
       "    }\n",
       "\n",
       "    .dataframe thead th {\n",
       "        text-align: left;\n",
       "    }\n",
       "\n",
       "    .dataframe tbody tr th {\n",
       "        vertical-align: top;\n",
       "    }\n",
       "</style>\n",
       "<table border=\"1\" class=\"dataframe\">\n",
       "  <thead>\n",
       "    <tr>\n",
       "      <th>Customer</th>\n",
       "      <th colspan=\"3\" halign=\"left\">1</th>\n",
       "      <th colspan=\"3\" halign=\"left\">2</th>\n",
       "      <th colspan=\"3\" halign=\"left\">3</th>\n",
       "      <th>4</th>\n",
       "      <th>...</th>\n",
       "      <th colspan=\"3\" halign=\"left\">297</th>\n",
       "      <th colspan=\"2\" halign=\"left\">298</th>\n",
       "      <th colspan=\"2\" halign=\"left\">299</th>\n",
       "      <th colspan=\"3\" halign=\"left\">300</th>\n",
       "    </tr>\n",
       "    <tr>\n",
       "      <th>Channel</th>\n",
       "      <th>GC</th>\n",
       "      <th>GG</th>\n",
       "      <th>CL</th>\n",
       "      <th>GC</th>\n",
       "      <th>GG</th>\n",
       "      <th>CL</th>\n",
       "      <th>GC</th>\n",
       "      <th>GG</th>\n",
       "      <th>CL</th>\n",
       "      <th>GC</th>\n",
       "      <th>...</th>\n",
       "      <th>GC</th>\n",
       "      <th>GG</th>\n",
       "      <th>CL</th>\n",
       "      <th>GC</th>\n",
       "      <th>GG</th>\n",
       "      <th>GC</th>\n",
       "      <th>GG</th>\n",
       "      <th>GC</th>\n",
       "      <th>GG</th>\n",
       "      <th>CL</th>\n",
       "    </tr>\n",
       "  </thead>\n",
       "  <tbody>\n",
       "    <tr>\n",
       "      <th>2012-06-30 21:30:00</th>\n",
       "      <td>0.622</td>\n",
       "      <td>0.0</td>\n",
       "      <td>0.000</td>\n",
       "      <td>0.368</td>\n",
       "      <td>0.0</td>\n",
       "      <td>0.0</td>\n",
       "      <td>0.066</td>\n",
       "      <td>0.000</td>\n",
       "      <td>0.0</td>\n",
       "      <td>0.159</td>\n",
       "      <td>...</td>\n",
       "      <td>0.366</td>\n",
       "      <td>0.0</td>\n",
       "      <td>0.000</td>\n",
       "      <td>0.173</td>\n",
       "      <td>0.0</td>\n",
       "      <td>1.095</td>\n",
       "      <td>0.0</td>\n",
       "      <td>0.200</td>\n",
       "      <td>0.0</td>\n",
       "      <td>0.000</td>\n",
       "    </tr>\n",
       "    <tr>\n",
       "      <th>2012-06-30 22:00:00</th>\n",
       "      <td>0.509</td>\n",
       "      <td>0.0</td>\n",
       "      <td>0.000</td>\n",
       "      <td>0.305</td>\n",
       "      <td>0.0</td>\n",
       "      <td>0.0</td>\n",
       "      <td>0.768</td>\n",
       "      <td>0.000</td>\n",
       "      <td>0.0</td>\n",
       "      <td>0.134</td>\n",
       "      <td>...</td>\n",
       "      <td>0.458</td>\n",
       "      <td>0.0</td>\n",
       "      <td>0.814</td>\n",
       "      <td>0.154</td>\n",
       "      <td>0.0</td>\n",
       "      <td>0.946</td>\n",
       "      <td>0.0</td>\n",
       "      <td>0.204</td>\n",
       "      <td>0.0</td>\n",
       "      <td>0.000</td>\n",
       "    </tr>\n",
       "    <tr>\n",
       "      <th>2012-06-30 22:30:00</th>\n",
       "      <td>0.716</td>\n",
       "      <td>0.0</td>\n",
       "      <td>0.000</td>\n",
       "      <td>0.285</td>\n",
       "      <td>0.0</td>\n",
       "      <td>0.0</td>\n",
       "      <td>0.966</td>\n",
       "      <td>0.000</td>\n",
       "      <td>0.0</td>\n",
       "      <td>0.101</td>\n",
       "      <td>...</td>\n",
       "      <td>0.305</td>\n",
       "      <td>0.0</td>\n",
       "      <td>2.369</td>\n",
       "      <td>0.150</td>\n",
       "      <td>0.0</td>\n",
       "      <td>1.834</td>\n",
       "      <td>0.0</td>\n",
       "      <td>0.131</td>\n",
       "      <td>0.0</td>\n",
       "      <td>0.000</td>\n",
       "    </tr>\n",
       "    <tr>\n",
       "      <th>2012-06-30 23:00:00</th>\n",
       "      <td>0.999</td>\n",
       "      <td>0.0</td>\n",
       "      <td>0.000</td>\n",
       "      <td>0.286</td>\n",
       "      <td>0.0</td>\n",
       "      <td>0.0</td>\n",
       "      <td>0.957</td>\n",
       "      <td>0.006</td>\n",
       "      <td>0.0</td>\n",
       "      <td>0.086</td>\n",
       "      <td>...</td>\n",
       "      <td>0.165</td>\n",
       "      <td>0.0</td>\n",
       "      <td>1.915</td>\n",
       "      <td>0.142</td>\n",
       "      <td>0.0</td>\n",
       "      <td>1.719</td>\n",
       "      <td>0.0</td>\n",
       "      <td>0.358</td>\n",
       "      <td>0.0</td>\n",
       "      <td>0.000</td>\n",
       "    </tr>\n",
       "    <tr>\n",
       "      <th>2012-06-30 23:30:00</th>\n",
       "      <td>0.916</td>\n",
       "      <td>0.0</td>\n",
       "      <td>1.063</td>\n",
       "      <td>0.188</td>\n",
       "      <td>0.0</td>\n",
       "      <td>0.0</td>\n",
       "      <td>0.902</td>\n",
       "      <td>0.000</td>\n",
       "      <td>0.0</td>\n",
       "      <td>0.082</td>\n",
       "      <td>...</td>\n",
       "      <td>0.206</td>\n",
       "      <td>0.0</td>\n",
       "      <td>0.000</td>\n",
       "      <td>0.145</td>\n",
       "      <td>0.0</td>\n",
       "      <td>1.412</td>\n",
       "      <td>0.0</td>\n",
       "      <td>0.235</td>\n",
       "      <td>0.0</td>\n",
       "      <td>2.621</td>\n",
       "    </tr>\n",
       "  </tbody>\n",
       "</table>\n",
       "<p>5 rows × 738 columns</p>\n",
       "</div>"
      ],
      "text/plain": [
       "Customer               1                  2                3                \\\n",
       "Channel                 GC   GG     CL     GC   GG   CL     GC     GG   CL   \n",
       "2012-06-30 21:30:00  0.622  0.0  0.000  0.368  0.0  0.0  0.066  0.000  0.0   \n",
       "2012-06-30 22:00:00  0.509  0.0  0.000  0.305  0.0  0.0  0.768  0.000  0.0   \n",
       "2012-06-30 22:30:00  0.716  0.0  0.000  0.285  0.0  0.0  0.966  0.000  0.0   \n",
       "2012-06-30 23:00:00  0.999  0.0  0.000  0.286  0.0  0.0  0.957  0.006  0.0   \n",
       "2012-06-30 23:30:00  0.916  0.0  1.063  0.188  0.0  0.0  0.902  0.000  0.0   \n",
       "\n",
       "Customer               4    ...      297                298         299       \\\n",
       "Channel                 GC  ...       GC   GG     CL     GC   GG     GC   GG   \n",
       "2012-06-30 21:30:00  0.159  ...    0.366  0.0  0.000  0.173  0.0  1.095  0.0   \n",
       "2012-06-30 22:00:00  0.134  ...    0.458  0.0  0.814  0.154  0.0  0.946  0.0   \n",
       "2012-06-30 22:30:00  0.101  ...    0.305  0.0  2.369  0.150  0.0  1.834  0.0   \n",
       "2012-06-30 23:00:00  0.086  ...    0.165  0.0  1.915  0.142  0.0  1.719  0.0   \n",
       "2012-06-30 23:30:00  0.082  ...    0.206  0.0  0.000  0.145  0.0  1.412  0.0   \n",
       "\n",
       "Customer               300              \n",
       "Channel                 GC   GG     CL  \n",
       "2012-06-30 21:30:00  0.200  0.0  0.000  \n",
       "2012-06-30 22:00:00  0.204  0.0  0.000  \n",
       "2012-06-30 22:30:00  0.131  0.0  0.000  \n",
       "2012-06-30 23:00:00  0.358  0.0  0.000  \n",
       "2012-06-30 23:30:00  0.235  0.0  2.621  \n",
       "\n",
       "[5 rows x 738 columns]"
      ]
     },
     "execution_count": 49,
     "metadata": {},
     "output_type": "execute_result"
    }
   ],
   "source": [
    "df.tail()"
   ]
  },
  {
   "cell_type": "markdown",
   "metadata": {},
   "source": [
    "### Unit conversion: kWh → kW\n",
    "\n",
    "Energy records in the original CSV file is in kWh on the 30 min interval. Convert to kW."
   ]
  },
  {
   "cell_type": "code",
   "execution_count": 146,
   "metadata": {},
   "outputs": [
    {
     "data": {
      "text/plain": [
       "Channel\n",
       "GC    0.292210\n",
       "GG    0.269105\n",
       "CL    0.146694\n",
       "dtype: float64"
      ]
     },
     "execution_count": 146,
     "metadata": {},
     "output_type": "execute_result"
    }
   ],
   "source": [
    "df[1].mean()"
   ]
  },
  {
   "cell_type": "code",
   "execution_count": 147,
   "metadata": {
    "collapsed": true
   },
   "outputs": [],
   "source": [
    "df *= 2"
   ]
  },
  {
   "cell_type": "code",
   "execution_count": 148,
   "metadata": {},
   "outputs": [
    {
     "data": {
      "text/plain": [
       "Channel\n",
       "GC    0.584421\n",
       "GG    0.538209\n",
       "CL    0.293388\n",
       "dtype: float64"
      ]
     },
     "execution_count": 148,
     "metadata": {},
     "output_type": "execute_result"
    }
   ],
   "source": [
    "df[1].mean()"
   ]
  },
  {
   "cell_type": "markdown",
   "metadata": {},
   "source": [
    "## 3) Howto work with the reshaped DataFrame"
   ]
  },
  {
   "cell_type": "markdown",
   "metadata": {},
   "source": [
    "### 3a) select *one* customer, with all its 3 channels\n",
    "\n",
    "this easy because `customer` is the first level of the MultiIndex"
   ]
  },
  {
   "cell_type": "code",
   "execution_count": 149,
   "metadata": {},
   "outputs": [
    {
     "data": {
      "text/html": [
       "<div>\n",
       "<style>\n",
       "    .dataframe thead tr:only-child th {\n",
       "        text-align: right;\n",
       "    }\n",
       "\n",
       "    .dataframe thead th {\n",
       "        text-align: left;\n",
       "    }\n",
       "\n",
       "    .dataframe tbody tr th {\n",
       "        vertical-align: top;\n",
       "    }\n",
       "</style>\n",
       "<table border=\"1\" class=\"dataframe\">\n",
       "  <thead>\n",
       "    <tr style=\"text-align: right;\">\n",
       "      <th>Channel</th>\n",
       "      <th>GC</th>\n",
       "      <th>GG</th>\n",
       "      <th>CL</th>\n",
       "    </tr>\n",
       "  </thead>\n",
       "  <tbody>\n",
       "    <tr>\n",
       "      <th>2011-07-01 00:00:00</th>\n",
       "      <td>2.154</td>\n",
       "      <td>0.000</td>\n",
       "      <td>2.500</td>\n",
       "    </tr>\n",
       "    <tr>\n",
       "      <th>2011-07-01 00:30:00</th>\n",
       "      <td>1.338</td>\n",
       "      <td>0.000</td>\n",
       "      <td>2.500</td>\n",
       "    </tr>\n",
       "    <tr>\n",
       "      <th>2011-07-01 01:00:00</th>\n",
       "      <td>1.348</td>\n",
       "      <td>0.000</td>\n",
       "      <td>2.500</td>\n",
       "    </tr>\n",
       "    <tr>\n",
       "      <th>2011-07-01 01:30:00</th>\n",
       "      <td>1.230</td>\n",
       "      <td>0.000</td>\n",
       "      <td>1.250</td>\n",
       "    </tr>\n",
       "    <tr>\n",
       "      <th>2011-07-01 02:00:00</th>\n",
       "      <td>0.642</td>\n",
       "      <td>0.000</td>\n",
       "      <td>0.438</td>\n",
       "    </tr>\n",
       "    <tr>\n",
       "      <th>2011-07-01 02:30:00</th>\n",
       "      <td>0.194</td>\n",
       "      <td>0.000</td>\n",
       "      <td>2.026</td>\n",
       "    </tr>\n",
       "    <tr>\n",
       "      <th>2011-07-01 03:00:00</th>\n",
       "      <td>1.054</td>\n",
       "      <td>0.000</td>\n",
       "      <td>0.000</td>\n",
       "    </tr>\n",
       "    <tr>\n",
       "      <th>2011-07-01 03:30:00</th>\n",
       "      <td>0.140</td>\n",
       "      <td>0.000</td>\n",
       "      <td>0.000</td>\n",
       "    </tr>\n",
       "    <tr>\n",
       "      <th>2011-07-01 04:00:00</th>\n",
       "      <td>0.098</td>\n",
       "      <td>0.000</td>\n",
       "      <td>0.250</td>\n",
       "    </tr>\n",
       "    <tr>\n",
       "      <th>2011-07-01 04:30:00</th>\n",
       "      <td>0.170</td>\n",
       "      <td>0.000</td>\n",
       "      <td>1.788</td>\n",
       "    </tr>\n",
       "    <tr>\n",
       "      <th>2011-07-01 05:00:00</th>\n",
       "      <td>0.960</td>\n",
       "      <td>0.000</td>\n",
       "      <td>0.000</td>\n",
       "    </tr>\n",
       "    <tr>\n",
       "      <th>2011-07-01 05:30:00</th>\n",
       "      <td>0.168</td>\n",
       "      <td>0.000</td>\n",
       "      <td>0.000</td>\n",
       "    </tr>\n",
       "    <tr>\n",
       "      <th>2011-07-01 06:00:00</th>\n",
       "      <td>0.068</td>\n",
       "      <td>0.000</td>\n",
       "      <td>0.000</td>\n",
       "    </tr>\n",
       "    <tr>\n",
       "      <th>2011-07-01 06:30:00</th>\n",
       "      <td>0.202</td>\n",
       "      <td>0.000</td>\n",
       "      <td>0.000</td>\n",
       "    </tr>\n",
       "    <tr>\n",
       "      <th>2011-07-01 07:00:00</th>\n",
       "      <td>0.112</td>\n",
       "      <td>0.000</td>\n",
       "      <td>0.000</td>\n",
       "    </tr>\n",
       "    <tr>\n",
       "      <th>2011-07-01 07:30:00</th>\n",
       "      <td>0.242</td>\n",
       "      <td>0.150</td>\n",
       "      <td>0.000</td>\n",
       "    </tr>\n",
       "    <tr>\n",
       "      <th>2011-07-01 08:00:00</th>\n",
       "      <td>0.300</td>\n",
       "      <td>0.138</td>\n",
       "      <td>0.000</td>\n",
       "    </tr>\n",
       "    <tr>\n",
       "      <th>2011-07-01 08:30:00</th>\n",
       "      <td>0.390</td>\n",
       "      <td>0.250</td>\n",
       "      <td>0.000</td>\n",
       "    </tr>\n",
       "    <tr>\n",
       "      <th>2011-07-01 09:00:00</th>\n",
       "      <td>0.246</td>\n",
       "      <td>0.526</td>\n",
       "      <td>0.000</td>\n",
       "    </tr>\n",
       "    <tr>\n",
       "      <th>2011-07-01 09:30:00</th>\n",
       "      <td>0.116</td>\n",
       "      <td>0.988</td>\n",
       "      <td>0.000</td>\n",
       "    </tr>\n",
       "    <tr>\n",
       "      <th>2011-07-01 10:00:00</th>\n",
       "      <td>0.476</td>\n",
       "      <td>1.312</td>\n",
       "      <td>0.000</td>\n",
       "    </tr>\n",
       "    <tr>\n",
       "      <th>2011-07-01 10:30:00</th>\n",
       "      <td>0.084</td>\n",
       "      <td>0.988</td>\n",
       "      <td>0.000</td>\n",
       "    </tr>\n",
       "    <tr>\n",
       "      <th>2011-07-01 11:00:00</th>\n",
       "      <td>0.190</td>\n",
       "      <td>0.976</td>\n",
       "      <td>0.000</td>\n",
       "    </tr>\n",
       "    <tr>\n",
       "      <th>2011-07-01 11:30:00</th>\n",
       "      <td>0.072</td>\n",
       "      <td>0.776</td>\n",
       "      <td>0.000</td>\n",
       "    </tr>\n",
       "    <tr>\n",
       "      <th>2011-07-01 12:00:00</th>\n",
       "      <td>0.194</td>\n",
       "      <td>0.562</td>\n",
       "      <td>0.000</td>\n",
       "    </tr>\n",
       "    <tr>\n",
       "      <th>2011-07-01 12:30:00</th>\n",
       "      <td>0.126</td>\n",
       "      <td>0.112</td>\n",
       "      <td>0.000</td>\n",
       "    </tr>\n",
       "    <tr>\n",
       "      <th>2011-07-01 13:00:00</th>\n",
       "      <td>0.150</td>\n",
       "      <td>0.350</td>\n",
       "      <td>0.000</td>\n",
       "    </tr>\n",
       "    <tr>\n",
       "      <th>2011-07-01 13:30:00</th>\n",
       "      <td>0.168</td>\n",
       "      <td>0.376</td>\n",
       "      <td>0.000</td>\n",
       "    </tr>\n",
       "    <tr>\n",
       "      <th>2011-07-01 14:00:00</th>\n",
       "      <td>0.096</td>\n",
       "      <td>0.476</td>\n",
       "      <td>0.000</td>\n",
       "    </tr>\n",
       "    <tr>\n",
       "      <th>2011-07-01 14:30:00</th>\n",
       "      <td>0.184</td>\n",
       "      <td>0.400</td>\n",
       "      <td>0.000</td>\n",
       "    </tr>\n",
       "    <tr>\n",
       "      <th>...</th>\n",
       "      <td>...</td>\n",
       "      <td>...</td>\n",
       "      <td>...</td>\n",
       "    </tr>\n",
       "    <tr>\n",
       "      <th>2012-06-30 09:00:00</th>\n",
       "      <td>0.206</td>\n",
       "      <td>0.500</td>\n",
       "      <td>0.000</td>\n",
       "    </tr>\n",
       "    <tr>\n",
       "      <th>2012-06-30 09:30:00</th>\n",
       "      <td>0.198</td>\n",
       "      <td>0.950</td>\n",
       "      <td>0.000</td>\n",
       "    </tr>\n",
       "    <tr>\n",
       "      <th>2012-06-30 10:00:00</th>\n",
       "      <td>0.262</td>\n",
       "      <td>1.312</td>\n",
       "      <td>0.000</td>\n",
       "    </tr>\n",
       "    <tr>\n",
       "      <th>2012-06-30 10:30:00</th>\n",
       "      <td>0.666</td>\n",
       "      <td>1.526</td>\n",
       "      <td>0.000</td>\n",
       "    </tr>\n",
       "    <tr>\n",
       "      <th>2012-06-30 11:00:00</th>\n",
       "      <td>0.200</td>\n",
       "      <td>1.650</td>\n",
       "      <td>0.000</td>\n",
       "    </tr>\n",
       "    <tr>\n",
       "      <th>2012-06-30 11:30:00</th>\n",
       "      <td>0.132</td>\n",
       "      <td>1.800</td>\n",
       "      <td>0.000</td>\n",
       "    </tr>\n",
       "    <tr>\n",
       "      <th>2012-06-30 12:00:00</th>\n",
       "      <td>0.194</td>\n",
       "      <td>1.726</td>\n",
       "      <td>0.000</td>\n",
       "    </tr>\n",
       "    <tr>\n",
       "      <th>2012-06-30 12:30:00</th>\n",
       "      <td>0.116</td>\n",
       "      <td>1.212</td>\n",
       "      <td>0.000</td>\n",
       "    </tr>\n",
       "    <tr>\n",
       "      <th>2012-06-30 13:00:00</th>\n",
       "      <td>0.680</td>\n",
       "      <td>2.088</td>\n",
       "      <td>0.000</td>\n",
       "    </tr>\n",
       "    <tr>\n",
       "      <th>2012-06-30 13:30:00</th>\n",
       "      <td>0.106</td>\n",
       "      <td>1.962</td>\n",
       "      <td>0.000</td>\n",
       "    </tr>\n",
       "    <tr>\n",
       "      <th>2012-06-30 14:00:00</th>\n",
       "      <td>0.218</td>\n",
       "      <td>1.312</td>\n",
       "      <td>0.000</td>\n",
       "    </tr>\n",
       "    <tr>\n",
       "      <th>2012-06-30 14:30:00</th>\n",
       "      <td>0.092</td>\n",
       "      <td>0.888</td>\n",
       "      <td>0.000</td>\n",
       "    </tr>\n",
       "    <tr>\n",
       "      <th>2012-06-30 15:00:00</th>\n",
       "      <td>0.226</td>\n",
       "      <td>1.038</td>\n",
       "      <td>0.000</td>\n",
       "    </tr>\n",
       "    <tr>\n",
       "      <th>2012-06-30 15:30:00</th>\n",
       "      <td>0.088</td>\n",
       "      <td>0.512</td>\n",
       "      <td>0.000</td>\n",
       "    </tr>\n",
       "    <tr>\n",
       "      <th>2012-06-30 16:00:00</th>\n",
       "      <td>0.802</td>\n",
       "      <td>0.088</td>\n",
       "      <td>0.000</td>\n",
       "    </tr>\n",
       "    <tr>\n",
       "      <th>2012-06-30 16:30:00</th>\n",
       "      <td>0.318</td>\n",
       "      <td>0.012</td>\n",
       "      <td>0.000</td>\n",
       "    </tr>\n",
       "    <tr>\n",
       "      <th>2012-06-30 17:00:00</th>\n",
       "      <td>0.960</td>\n",
       "      <td>0.000</td>\n",
       "      <td>0.000</td>\n",
       "    </tr>\n",
       "    <tr>\n",
       "      <th>2012-06-30 17:30:00</th>\n",
       "      <td>0.290</td>\n",
       "      <td>0.000</td>\n",
       "      <td>0.000</td>\n",
       "    </tr>\n",
       "    <tr>\n",
       "      <th>2012-06-30 18:00:00</th>\n",
       "      <td>0.634</td>\n",
       "      <td>0.000</td>\n",
       "      <td>0.000</td>\n",
       "    </tr>\n",
       "    <tr>\n",
       "      <th>2012-06-30 18:30:00</th>\n",
       "      <td>0.484</td>\n",
       "      <td>0.000</td>\n",
       "      <td>0.000</td>\n",
       "    </tr>\n",
       "    <tr>\n",
       "      <th>2012-06-30 19:00:00</th>\n",
       "      <td>0.646</td>\n",
       "      <td>0.000</td>\n",
       "      <td>0.000</td>\n",
       "    </tr>\n",
       "    <tr>\n",
       "      <th>2012-06-30 19:30:00</th>\n",
       "      <td>0.868</td>\n",
       "      <td>0.000</td>\n",
       "      <td>0.000</td>\n",
       "    </tr>\n",
       "    <tr>\n",
       "      <th>2012-06-30 20:00:00</th>\n",
       "      <td>0.558</td>\n",
       "      <td>0.000</td>\n",
       "      <td>0.000</td>\n",
       "    </tr>\n",
       "    <tr>\n",
       "      <th>2012-06-30 20:30:00</th>\n",
       "      <td>0.394</td>\n",
       "      <td>0.000</td>\n",
       "      <td>0.000</td>\n",
       "    </tr>\n",
       "    <tr>\n",
       "      <th>2012-06-30 21:00:00</th>\n",
       "      <td>0.566</td>\n",
       "      <td>0.000</td>\n",
       "      <td>0.000</td>\n",
       "    </tr>\n",
       "    <tr>\n",
       "      <th>2012-06-30 21:30:00</th>\n",
       "      <td>1.244</td>\n",
       "      <td>0.000</td>\n",
       "      <td>0.000</td>\n",
       "    </tr>\n",
       "    <tr>\n",
       "      <th>2012-06-30 22:00:00</th>\n",
       "      <td>1.018</td>\n",
       "      <td>0.000</td>\n",
       "      <td>0.000</td>\n",
       "    </tr>\n",
       "    <tr>\n",
       "      <th>2012-06-30 22:30:00</th>\n",
       "      <td>1.432</td>\n",
       "      <td>0.000</td>\n",
       "      <td>0.000</td>\n",
       "    </tr>\n",
       "    <tr>\n",
       "      <th>2012-06-30 23:00:00</th>\n",
       "      <td>1.998</td>\n",
       "      <td>0.000</td>\n",
       "      <td>0.000</td>\n",
       "    </tr>\n",
       "    <tr>\n",
       "      <th>2012-06-30 23:30:00</th>\n",
       "      <td>1.832</td>\n",
       "      <td>0.000</td>\n",
       "      <td>2.126</td>\n",
       "    </tr>\n",
       "  </tbody>\n",
       "</table>\n",
       "<p>17568 rows × 3 columns</p>\n",
       "</div>"
      ],
      "text/plain": [
       "Channel                 GC     GG     CL\n",
       "2011-07-01 00:00:00  2.154  0.000  2.500\n",
       "2011-07-01 00:30:00  1.338  0.000  2.500\n",
       "2011-07-01 01:00:00  1.348  0.000  2.500\n",
       "2011-07-01 01:30:00  1.230  0.000  1.250\n",
       "2011-07-01 02:00:00  0.642  0.000  0.438\n",
       "2011-07-01 02:30:00  0.194  0.000  2.026\n",
       "2011-07-01 03:00:00  1.054  0.000  0.000\n",
       "2011-07-01 03:30:00  0.140  0.000  0.000\n",
       "2011-07-01 04:00:00  0.098  0.000  0.250\n",
       "2011-07-01 04:30:00  0.170  0.000  1.788\n",
       "2011-07-01 05:00:00  0.960  0.000  0.000\n",
       "2011-07-01 05:30:00  0.168  0.000  0.000\n",
       "2011-07-01 06:00:00  0.068  0.000  0.000\n",
       "2011-07-01 06:30:00  0.202  0.000  0.000\n",
       "2011-07-01 07:00:00  0.112  0.000  0.000\n",
       "2011-07-01 07:30:00  0.242  0.150  0.000\n",
       "2011-07-01 08:00:00  0.300  0.138  0.000\n",
       "2011-07-01 08:30:00  0.390  0.250  0.000\n",
       "2011-07-01 09:00:00  0.246  0.526  0.000\n",
       "2011-07-01 09:30:00  0.116  0.988  0.000\n",
       "2011-07-01 10:00:00  0.476  1.312  0.000\n",
       "2011-07-01 10:30:00  0.084  0.988  0.000\n",
       "2011-07-01 11:00:00  0.190  0.976  0.000\n",
       "2011-07-01 11:30:00  0.072  0.776  0.000\n",
       "2011-07-01 12:00:00  0.194  0.562  0.000\n",
       "2011-07-01 12:30:00  0.126  0.112  0.000\n",
       "2011-07-01 13:00:00  0.150  0.350  0.000\n",
       "2011-07-01 13:30:00  0.168  0.376  0.000\n",
       "2011-07-01 14:00:00  0.096  0.476  0.000\n",
       "2011-07-01 14:30:00  0.184  0.400  0.000\n",
       "...                    ...    ...    ...\n",
       "2012-06-30 09:00:00  0.206  0.500  0.000\n",
       "2012-06-30 09:30:00  0.198  0.950  0.000\n",
       "2012-06-30 10:00:00  0.262  1.312  0.000\n",
       "2012-06-30 10:30:00  0.666  1.526  0.000\n",
       "2012-06-30 11:00:00  0.200  1.650  0.000\n",
       "2012-06-30 11:30:00  0.132  1.800  0.000\n",
       "2012-06-30 12:00:00  0.194  1.726  0.000\n",
       "2012-06-30 12:30:00  0.116  1.212  0.000\n",
       "2012-06-30 13:00:00  0.680  2.088  0.000\n",
       "2012-06-30 13:30:00  0.106  1.962  0.000\n",
       "2012-06-30 14:00:00  0.218  1.312  0.000\n",
       "2012-06-30 14:30:00  0.092  0.888  0.000\n",
       "2012-06-30 15:00:00  0.226  1.038  0.000\n",
       "2012-06-30 15:30:00  0.088  0.512  0.000\n",
       "2012-06-30 16:00:00  0.802  0.088  0.000\n",
       "2012-06-30 16:30:00  0.318  0.012  0.000\n",
       "2012-06-30 17:00:00  0.960  0.000  0.000\n",
       "2012-06-30 17:30:00  0.290  0.000  0.000\n",
       "2012-06-30 18:00:00  0.634  0.000  0.000\n",
       "2012-06-30 18:30:00  0.484  0.000  0.000\n",
       "2012-06-30 19:00:00  0.646  0.000  0.000\n",
       "2012-06-30 19:30:00  0.868  0.000  0.000\n",
       "2012-06-30 20:00:00  0.558  0.000  0.000\n",
       "2012-06-30 20:30:00  0.394  0.000  0.000\n",
       "2012-06-30 21:00:00  0.566  0.000  0.000\n",
       "2012-06-30 21:30:00  1.244  0.000  0.000\n",
       "2012-06-30 22:00:00  1.018  0.000  0.000\n",
       "2012-06-30 22:30:00  1.432  0.000  0.000\n",
       "2012-06-30 23:00:00  1.998  0.000  0.000\n",
       "2012-06-30 23:30:00  1.832  0.000  2.126\n",
       "\n",
       "[17568 rows x 3 columns]"
      ]
     },
     "execution_count": 149,
     "metadata": {},
     "output_type": "execute_result"
    }
   ],
   "source": [
    "df[1]"
   ]
  },
  {
   "cell_type": "code",
   "execution_count": 150,
   "metadata": {},
   "outputs": [
    {
     "data": {
      "text/plain": [
       "Channel\n",
       "GC    0.584421\n",
       "GG    0.538209\n",
       "CL    0.293388\n",
       "dtype: float64"
      ]
     },
     "execution_count": 150,
     "metadata": {},
     "output_type": "execute_result"
    }
   ],
   "source": [
    "df[1].mean()"
   ]
  },
  {
   "cell_type": "code",
   "execution_count": 151,
   "metadata": {},
   "outputs": [
    {
     "data": {
      "image/png": "[encoded data removed]",
      "text/plain": [
       "<matplotlib.figure.Figure at 0x7fbfc75640b8>"
      ]
     },
     "metadata": {},
     "output_type": "display_data"
    }
   ],
   "source": [
    "df[1]['2011-07-01':'2011-07-03'].plot()\n",
    "plt.title('Customer 1 in July')\n",
    "plt.ylabel('kW')\n",
    "plt.savefig('Customer 1 2011-07 01-03.png', dpi=150);"
   ]
  },
  {
   "cell_type": "code",
   "execution_count": 152,
   "metadata": {},
   "outputs": [
    {
     "data": {
      "image/png": "[encoded data removed]",
      "text/plain": [
       "<matplotlib.figure.Figure at 0x7fbfc5ecd128>"
      ]
     },
     "metadata": {},
     "output_type": "display_data"
    }
   ],
   "source": [
    "df[100]['2011-07-01':'2011-07-03'].plot()\n",
    "plt.ylabel('kW')\n",
    "plt.title('Customer 100 in July (No CL)');"
   ]
  },
  {
   "cell_type": "markdown",
   "metadata": {},
   "source": [
    "### 3b) select *one* channel, across *all* customers\n",
    "\n",
    "This is less easy because `channel` is the 2nd level of the MultiIndex.\n",
    "It requires using [cross-section](http://pandas.pydata.org/pandas-docs/stable/advanced.html#cross-section) indexing with `xs`"
   ]
  },
  {
   "cell_type": "code",
   "execution_count": 153,
   "metadata": {},
   "outputs": [
    {
     "data": {
      "text/html": [
       "<div>\n",
       "<style>\n",
       "    .dataframe thead tr:only-child th {\n",
       "        text-align: right;\n",
       "    }\n",
       "\n",
       "    .dataframe thead th {\n",
       "        text-align: left;\n",
       "    }\n",
       "\n",
       "    .dataframe tbody tr th {\n",
       "        vertical-align: top;\n",
       "    }\n",
       "</style>\n",
       "<table border=\"1\" class=\"dataframe\">\n",
       "  <thead>\n",
       "    <tr style=\"text-align: right;\">\n",
       "      <th>Customer</th>\n",
       "      <th>1</th>\n",
       "      <th>4</th>\n",
       "      <th>100</th>\n",
       "    </tr>\n",
       "  </thead>\n",
       "  <tbody>\n",
       "    <tr>\n",
       "      <th>2011-07-01 00:00:00</th>\n",
       "      <td>0.000</td>\n",
       "      <td>0.000</td>\n",
       "      <td>0.000</td>\n",
       "    </tr>\n",
       "    <tr>\n",
       "      <th>2011-07-01 00:30:00</th>\n",
       "      <td>0.000</td>\n",
       "      <td>0.000</td>\n",
       "      <td>0.000</td>\n",
       "    </tr>\n",
       "    <tr>\n",
       "      <th>2011-07-01 01:00:00</th>\n",
       "      <td>0.000</td>\n",
       "      <td>0.000</td>\n",
       "      <td>0.000</td>\n",
       "    </tr>\n",
       "    <tr>\n",
       "      <th>2011-07-01 01:30:00</th>\n",
       "      <td>0.000</td>\n",
       "      <td>0.000</td>\n",
       "      <td>0.000</td>\n",
       "    </tr>\n",
       "    <tr>\n",
       "      <th>2011-07-01 02:00:00</th>\n",
       "      <td>0.000</td>\n",
       "      <td>0.000</td>\n",
       "      <td>0.000</td>\n",
       "    </tr>\n",
       "    <tr>\n",
       "      <th>2011-07-01 02:30:00</th>\n",
       "      <td>0.000</td>\n",
       "      <td>0.000</td>\n",
       "      <td>0.000</td>\n",
       "    </tr>\n",
       "    <tr>\n",
       "      <th>2011-07-01 03:00:00</th>\n",
       "      <td>0.000</td>\n",
       "      <td>0.000</td>\n",
       "      <td>0.000</td>\n",
       "    </tr>\n",
       "    <tr>\n",
       "      <th>2011-07-01 03:30:00</th>\n",
       "      <td>0.000</td>\n",
       "      <td>0.000</td>\n",
       "      <td>0.000</td>\n",
       "    </tr>\n",
       "    <tr>\n",
       "      <th>2011-07-01 04:00:00</th>\n",
       "      <td>0.000</td>\n",
       "      <td>0.000</td>\n",
       "      <td>0.000</td>\n",
       "    </tr>\n",
       "    <tr>\n",
       "      <th>2011-07-01 04:30:00</th>\n",
       "      <td>0.000</td>\n",
       "      <td>0.000</td>\n",
       "      <td>0.000</td>\n",
       "    </tr>\n",
       "    <tr>\n",
       "      <th>2011-07-01 05:00:00</th>\n",
       "      <td>0.000</td>\n",
       "      <td>0.000</td>\n",
       "      <td>0.000</td>\n",
       "    </tr>\n",
       "    <tr>\n",
       "      <th>2011-07-01 05:30:00</th>\n",
       "      <td>0.000</td>\n",
       "      <td>0.000</td>\n",
       "      <td>0.000</td>\n",
       "    </tr>\n",
       "    <tr>\n",
       "      <th>2011-07-01 06:00:00</th>\n",
       "      <td>0.000</td>\n",
       "      <td>0.000</td>\n",
       "      <td>0.000</td>\n",
       "    </tr>\n",
       "    <tr>\n",
       "      <th>2011-07-01 06:30:00</th>\n",
       "      <td>0.000</td>\n",
       "      <td>0.000</td>\n",
       "      <td>0.000</td>\n",
       "    </tr>\n",
       "    <tr>\n",
       "      <th>2011-07-01 07:00:00</th>\n",
       "      <td>0.000</td>\n",
       "      <td>0.000</td>\n",
       "      <td>0.000</td>\n",
       "    </tr>\n",
       "    <tr>\n",
       "      <th>2011-07-01 07:30:00</th>\n",
       "      <td>0.150</td>\n",
       "      <td>0.012</td>\n",
       "      <td>0.076</td>\n",
       "    </tr>\n",
       "    <tr>\n",
       "      <th>2011-07-01 08:00:00</th>\n",
       "      <td>0.138</td>\n",
       "      <td>0.026</td>\n",
       "      <td>0.338</td>\n",
       "    </tr>\n",
       "    <tr>\n",
       "      <th>2011-07-01 08:30:00</th>\n",
       "      <td>0.250</td>\n",
       "      <td>0.112</td>\n",
       "      <td>0.412</td>\n",
       "    </tr>\n",
       "    <tr>\n",
       "      <th>2011-07-01 09:00:00</th>\n",
       "      <td>0.526</td>\n",
       "      <td>0.250</td>\n",
       "      <td>0.550</td>\n",
       "    </tr>\n",
       "    <tr>\n",
       "      <th>2011-07-01 09:30:00</th>\n",
       "      <td>0.988</td>\n",
       "      <td>0.288</td>\n",
       "      <td>0.600</td>\n",
       "    </tr>\n",
       "    <tr>\n",
       "      <th>2011-07-01 10:00:00</th>\n",
       "      <td>1.312</td>\n",
       "      <td>0.350</td>\n",
       "      <td>0.238</td>\n",
       "    </tr>\n",
       "    <tr>\n",
       "      <th>2011-07-01 10:30:00</th>\n",
       "      <td>0.988</td>\n",
       "      <td>0.500</td>\n",
       "      <td>0.362</td>\n",
       "    </tr>\n",
       "    <tr>\n",
       "      <th>2011-07-01 11:00:00</th>\n",
       "      <td>0.976</td>\n",
       "      <td>0.400</td>\n",
       "      <td>0.426</td>\n",
       "    </tr>\n",
       "    <tr>\n",
       "      <th>2011-07-01 11:30:00</th>\n",
       "      <td>0.776</td>\n",
       "      <td>0.500</td>\n",
       "      <td>0.226</td>\n",
       "    </tr>\n",
       "    <tr>\n",
       "      <th>2011-07-01 12:00:00</th>\n",
       "      <td>0.562</td>\n",
       "      <td>0.250</td>\n",
       "      <td>0.062</td>\n",
       "    </tr>\n",
       "    <tr>\n",
       "      <th>2011-07-01 12:30:00</th>\n",
       "      <td>0.112</td>\n",
       "      <td>0.176</td>\n",
       "      <td>0.062</td>\n",
       "    </tr>\n",
       "    <tr>\n",
       "      <th>2011-07-01 13:00:00</th>\n",
       "      <td>0.350</td>\n",
       "      <td>0.238</td>\n",
       "      <td>0.062</td>\n",
       "    </tr>\n",
       "    <tr>\n",
       "      <th>2011-07-01 13:30:00</th>\n",
       "      <td>0.376</td>\n",
       "      <td>0.250</td>\n",
       "      <td>0.012</td>\n",
       "    </tr>\n",
       "    <tr>\n",
       "      <th>2011-07-01 14:00:00</th>\n",
       "      <td>0.476</td>\n",
       "      <td>0.150</td>\n",
       "      <td>0.000</td>\n",
       "    </tr>\n",
       "    <tr>\n",
       "      <th>2011-07-01 14:30:00</th>\n",
       "      <td>0.400</td>\n",
       "      <td>0.188</td>\n",
       "      <td>0.012</td>\n",
       "    </tr>\n",
       "    <tr>\n",
       "      <th>...</th>\n",
       "      <td>...</td>\n",
       "      <td>...</td>\n",
       "      <td>...</td>\n",
       "    </tr>\n",
       "    <tr>\n",
       "      <th>2012-06-30 09:00:00</th>\n",
       "      <td>0.500</td>\n",
       "      <td>0.288</td>\n",
       "      <td>0.650</td>\n",
       "    </tr>\n",
       "    <tr>\n",
       "      <th>2012-06-30 09:30:00</th>\n",
       "      <td>0.950</td>\n",
       "      <td>0.376</td>\n",
       "      <td>0.762</td>\n",
       "    </tr>\n",
       "    <tr>\n",
       "      <th>2012-06-30 10:00:00</th>\n",
       "      <td>1.312</td>\n",
       "      <td>0.438</td>\n",
       "      <td>0.862</td>\n",
       "    </tr>\n",
       "    <tr>\n",
       "      <th>2012-06-30 10:30:00</th>\n",
       "      <td>1.526</td>\n",
       "      <td>0.500</td>\n",
       "      <td>0.912</td>\n",
       "    </tr>\n",
       "    <tr>\n",
       "      <th>2012-06-30 11:00:00</th>\n",
       "      <td>1.650</td>\n",
       "      <td>0.538</td>\n",
       "      <td>0.976</td>\n",
       "    </tr>\n",
       "    <tr>\n",
       "      <th>2012-06-30 11:30:00</th>\n",
       "      <td>1.800</td>\n",
       "      <td>0.562</td>\n",
       "      <td>0.988</td>\n",
       "    </tr>\n",
       "    <tr>\n",
       "      <th>2012-06-30 12:00:00</th>\n",
       "      <td>1.726</td>\n",
       "      <td>0.576</td>\n",
       "      <td>0.926</td>\n",
       "    </tr>\n",
       "    <tr>\n",
       "      <th>2012-06-30 12:30:00</th>\n",
       "      <td>1.212</td>\n",
       "      <td>0.588</td>\n",
       "      <td>0.588</td>\n",
       "    </tr>\n",
       "    <tr>\n",
       "      <th>2012-06-30 13:00:00</th>\n",
       "      <td>2.088</td>\n",
       "      <td>0.526</td>\n",
       "      <td>0.138</td>\n",
       "    </tr>\n",
       "    <tr>\n",
       "      <th>2012-06-30 13:30:00</th>\n",
       "      <td>1.962</td>\n",
       "      <td>0.138</td>\n",
       "      <td>0.076</td>\n",
       "    </tr>\n",
       "    <tr>\n",
       "      <th>2012-06-30 14:00:00</th>\n",
       "      <td>1.312</td>\n",
       "      <td>0.150</td>\n",
       "      <td>0.126</td>\n",
       "    </tr>\n",
       "    <tr>\n",
       "      <th>2012-06-30 14:30:00</th>\n",
       "      <td>0.888</td>\n",
       "      <td>0.200</td>\n",
       "      <td>0.162</td>\n",
       "    </tr>\n",
       "    <tr>\n",
       "      <th>2012-06-30 15:00:00</th>\n",
       "      <td>1.038</td>\n",
       "      <td>0.200</td>\n",
       "      <td>0.126</td>\n",
       "    </tr>\n",
       "    <tr>\n",
       "      <th>2012-06-30 15:30:00</th>\n",
       "      <td>0.512</td>\n",
       "      <td>0.076</td>\n",
       "      <td>0.076</td>\n",
       "    </tr>\n",
       "    <tr>\n",
       "      <th>2012-06-30 16:00:00</th>\n",
       "      <td>0.088</td>\n",
       "      <td>0.038</td>\n",
       "      <td>0.012</td>\n",
       "    </tr>\n",
       "    <tr>\n",
       "      <th>2012-06-30 16:30:00</th>\n",
       "      <td>0.012</td>\n",
       "      <td>0.000</td>\n",
       "      <td>0.000</td>\n",
       "    </tr>\n",
       "    <tr>\n",
       "      <th>2012-06-30 17:00:00</th>\n",
       "      <td>0.000</td>\n",
       "      <td>0.000</td>\n",
       "      <td>0.000</td>\n",
       "    </tr>\n",
       "    <tr>\n",
       "      <th>2012-06-30 17:30:00</th>\n",
       "      <td>0.000</td>\n",
       "      <td>0.000</td>\n",
       "      <td>0.000</td>\n",
       "    </tr>\n",
       "    <tr>\n",
       "      <th>2012-06-30 18:00:00</th>\n",
       "      <td>0.000</td>\n",
       "      <td>0.000</td>\n",
       "      <td>0.000</td>\n",
       "    </tr>\n",
       "    <tr>\n",
       "      <th>2012-06-30 18:30:00</th>\n",
       "      <td>0.000</td>\n",
       "      <td>0.000</td>\n",
       "      <td>0.000</td>\n",
       "    </tr>\n",
       "    <tr>\n",
       "      <th>2012-06-30 19:00:00</th>\n",
       "      <td>0.000</td>\n",
       "      <td>0.000</td>\n",
       "      <td>0.000</td>\n",
       "    </tr>\n",
       "    <tr>\n",
       "      <th>2012-06-30 19:30:00</th>\n",
       "      <td>0.000</td>\n",
       "      <td>0.000</td>\n",
       "      <td>0.012</td>\n",
       "    </tr>\n",
       "    <tr>\n",
       "      <th>2012-06-30 20:00:00</th>\n",
       "      <td>0.000</td>\n",
       "      <td>0.000</td>\n",
       "      <td>0.000</td>\n",
       "    </tr>\n",
       "    <tr>\n",
       "      <th>2012-06-30 20:30:00</th>\n",
       "      <td>0.000</td>\n",
       "      <td>0.000</td>\n",
       "      <td>0.000</td>\n",
       "    </tr>\n",
       "    <tr>\n",
       "      <th>2012-06-30 21:00:00</th>\n",
       "      <td>0.000</td>\n",
       "      <td>0.000</td>\n",
       "      <td>0.000</td>\n",
       "    </tr>\n",
       "    <tr>\n",
       "      <th>2012-06-30 21:30:00</th>\n",
       "      <td>0.000</td>\n",
       "      <td>0.000</td>\n",
       "      <td>0.000</td>\n",
       "    </tr>\n",
       "    <tr>\n",
       "      <th>2012-06-30 22:00:00</th>\n",
       "      <td>0.000</td>\n",
       "      <td>0.000</td>\n",
       "      <td>0.000</td>\n",
       "    </tr>\n",
       "    <tr>\n",
       "      <th>2012-06-30 22:30:00</th>\n",
       "      <td>0.000</td>\n",
       "      <td>0.000</td>\n",
       "      <td>0.000</td>\n",
       "    </tr>\n",
       "    <tr>\n",
       "      <th>2012-06-30 23:00:00</th>\n",
       "      <td>0.000</td>\n",
       "      <td>0.000</td>\n",
       "      <td>0.000</td>\n",
       "    </tr>\n",
       "    <tr>\n",
       "      <th>2012-06-30 23:30:00</th>\n",
       "      <td>0.000</td>\n",
       "      <td>0.000</td>\n",
       "      <td>0.000</td>\n",
       "    </tr>\n",
       "  </tbody>\n",
       "</table>\n",
       "<p>17568 rows × 3 columns</p>\n",
       "</div>"
      ],
      "text/plain": [
       "Customer               1      4      100\n",
       "2011-07-01 00:00:00  0.000  0.000  0.000\n",
       "2011-07-01 00:30:00  0.000  0.000  0.000\n",
       "2011-07-01 01:00:00  0.000  0.000  0.000\n",
       "2011-07-01 01:30:00  0.000  0.000  0.000\n",
       "2011-07-01 02:00:00  0.000  0.000  0.000\n",
       "2011-07-01 02:30:00  0.000  0.000  0.000\n",
       "2011-07-01 03:00:00  0.000  0.000  0.000\n",
       "2011-07-01 03:30:00  0.000  0.000  0.000\n",
       "2011-07-01 04:00:00  0.000  0.000  0.000\n",
       "2011-07-01 04:30:00  0.000  0.000  0.000\n",
       "2011-07-01 05:00:00  0.000  0.000  0.000\n",
       "2011-07-01 05:30:00  0.000  0.000  0.000\n",
       "2011-07-01 06:00:00  0.000  0.000  0.000\n",
       "2011-07-01 06:30:00  0.000  0.000  0.000\n",
       "2011-07-01 07:00:00  0.000  0.000  0.000\n",
       "2011-07-01 07:30:00  0.150  0.012  0.076\n",
       "2011-07-01 08:00:00  0.138  0.026  0.338\n",
       "2011-07-01 08:30:00  0.250  0.112  0.412\n",
       "2011-07-01 09:00:00  0.526  0.250  0.550\n",
       "2011-07-01 09:30:00  0.988  0.288  0.600\n",
       "2011-07-01 10:00:00  1.312  0.350  0.238\n",
       "2011-07-01 10:30:00  0.988  0.500  0.362\n",
       "2011-07-01 11:00:00  0.976  0.400  0.426\n",
       "2011-07-01 11:30:00  0.776  0.500  0.226\n",
       "2011-07-01 12:00:00  0.562  0.250  0.062\n",
       "2011-07-01 12:30:00  0.112  0.176  0.062\n",
       "2011-07-01 13:00:00  0.350  0.238  0.062\n",
       "2011-07-01 13:30:00  0.376  0.250  0.012\n",
       "2011-07-01 14:00:00  0.476  0.150  0.000\n",
       "2011-07-01 14:30:00  0.400  0.188  0.012\n",
       "...                    ...    ...    ...\n",
       "2012-06-30 09:00:00  0.500  0.288  0.650\n",
       "2012-06-30 09:30:00  0.950  0.376  0.762\n",
       "2012-06-30 10:00:00  1.312  0.438  0.862\n",
       "2012-06-30 10:30:00  1.526  0.500  0.912\n",
       "2012-06-30 11:00:00  1.650  0.538  0.976\n",
       "2012-06-30 11:30:00  1.800  0.562  0.988\n",
       "2012-06-30 12:00:00  1.726  0.576  0.926\n",
       "2012-06-30 12:30:00  1.212  0.588  0.588\n",
       "2012-06-30 13:00:00  2.088  0.526  0.138\n",
       "2012-06-30 13:30:00  1.962  0.138  0.076\n",
       "2012-06-30 14:00:00  1.312  0.150  0.126\n",
       "2012-06-30 14:30:00  0.888  0.200  0.162\n",
       "2012-06-30 15:00:00  1.038  0.200  0.126\n",
       "2012-06-30 15:30:00  0.512  0.076  0.076\n",
       "2012-06-30 16:00:00  0.088  0.038  0.012\n",
       "2012-06-30 16:30:00  0.012  0.000  0.000\n",
       "2012-06-30 17:00:00  0.000  0.000  0.000\n",
       "2012-06-30 17:30:00  0.000  0.000  0.000\n",
       "2012-06-30 18:00:00  0.000  0.000  0.000\n",
       "2012-06-30 18:30:00  0.000  0.000  0.000\n",
       "2012-06-30 19:00:00  0.000  0.000  0.000\n",
       "2012-06-30 19:30:00  0.000  0.000  0.012\n",
       "2012-06-30 20:00:00  0.000  0.000  0.000\n",
       "2012-06-30 20:30:00  0.000  0.000  0.000\n",
       "2012-06-30 21:00:00  0.000  0.000  0.000\n",
       "2012-06-30 21:30:00  0.000  0.000  0.000\n",
       "2012-06-30 22:00:00  0.000  0.000  0.000\n",
       "2012-06-30 22:30:00  0.000  0.000  0.000\n",
       "2012-06-30 23:00:00  0.000  0.000  0.000\n",
       "2012-06-30 23:30:00  0.000  0.000  0.000\n",
       "\n",
       "[17568 rows x 3 columns]"
      ]
     },
     "execution_count": 153,
     "metadata": {},
     "output_type": "execute_result"
    }
   ],
   "source": [
    "dfGG = df.xs('GG', level='Channel', axis=1)\n",
    "dfGG[[1, 4, 100]]"
   ]
  },
  {
   "cell_type": "code",
   "execution_count": 154,
   "metadata": {},
   "outputs": [
    {
     "data": {
      "image/png": "[encoded data removed]",
      "text/plain": [
       "<matplotlib.figure.Figure at 0x7fbfc5f71b70>"
      ]
     },
     "metadata": {},
     "output_type": "display_data"
    }
   ],
   "source": [
    "dfGG[[1, 4, 100]]['2011-07-01':'2011-07-03'].plot()\n",
    "plt.title('PV production')\n",
    "plt.ylabel('kW')\n",
    "plt.savefig('PV production 2011-07 01-03.png', dpi=150);"
   ]
  },
  {
   "cell_type": "markdown",
   "metadata": {},
   "source": [
    "## 4) Some stats"
   ]
  },
  {
   "cell_type": "markdown",
   "metadata": {},
   "source": [
    "### 4a) PV generation capacity of each customer\n",
    "\n",
    "observations:\n",
    "\n",
    "* Generation capacity is constant over 2011-2012 (no generation upgrade)\n",
    "* Mean at 1.68, *in agreement with data note* from Ausgrid (§ Summary statistics, p2)\n",
    "* Most (75%) are between 1 and 2 kW.\n",
    "* Some (2%) are around 6, 8 or 10 kW."
   ]
  },
  {
   "cell_type": "code",
   "execution_count": 96,
   "metadata": {},
   "outputs": [
    {
     "data": {
      "text/html": [
       "<div>\n",
       "<style>\n",
       "    .dataframe thead tr:only-child th {\n",
       "        text-align: right;\n",
       "    }\n",
       "\n",
       "    .dataframe thead th {\n",
       "        text-align: left;\n",
       "    }\n",
       "\n",
       "    .dataframe tbody tr th {\n",
       "        vertical-align: top;\n",
       "    }\n",
       "</style>\n",
       "<table border=\"1\" class=\"dataframe\">\n",
       "  <thead>\n",
       "    <tr style=\"text-align: right;\">\n",
       "      <th></th>\n",
       "      <th>Customer</th>\n",
       "      <th>Generator Capacity</th>\n",
       "    </tr>\n",
       "  </thead>\n",
       "  <tbody>\n",
       "    <tr>\n",
       "      <th>0</th>\n",
       "      <td>1</td>\n",
       "      <td>3.78</td>\n",
       "    </tr>\n",
       "    <tr>\n",
       "      <th>1</th>\n",
       "      <td>1</td>\n",
       "      <td>3.78</td>\n",
       "    </tr>\n",
       "    <tr>\n",
       "      <th>2000</th>\n",
       "      <td>2</td>\n",
       "      <td>1.62</td>\n",
       "    </tr>\n",
       "    <tr>\n",
       "      <th>270303</th>\n",
       "      <td>300</td>\n",
       "      <td>3.36</td>\n",
       "    </tr>\n",
       "  </tbody>\n",
       "</table>\n",
       "</div>"
      ],
      "text/plain": [
       "        Customer  Generator Capacity\n",
       "0              1                3.78\n",
       "1              1                3.78\n",
       "2000           2                1.62\n",
       "270303       300                3.36"
      ]
     },
     "execution_count": 96,
     "metadata": {},
     "output_type": "execute_result"
    }
   ],
   "source": [
    "d_cust_cap = d_raw[['Customer', 'Generator Capacity']]\n",
    "d_cust_cap.iloc[[0,1,2000, -1]]"
   ]
  },
  {
   "cell_type": "markdown",
   "metadata": {},
   "source": [
    "Check if the generator capacity is constant for each customer:"
   ]
  },
  {
   "cell_type": "code",
   "execution_count": 104,
   "metadata": {},
   "outputs": [
    {
     "data": {
      "text/plain": [
       "1    300\n",
       "Name: Generator Capacity, dtype: int64"
      ]
     },
     "execution_count": 104,
     "metadata": {},
     "output_type": "execute_result"
    }
   ],
   "source": [
    "d_cust_cap.groupby('Customer')['Generator Capacity'].nunique().value_counts()"
   ]
  },
  {
   "cell_type": "code",
   "execution_count": 125,
   "metadata": {},
   "outputs": [
    {
     "data": {
      "text/plain": [
       "count    300.000000\n",
       "mean       1.683300\n",
       "std        1.036846\n",
       "min        1.000000\n",
       "50%        1.500000\n",
       "80%        2.040000\n",
       "90%        2.728000\n",
       "98%        4.571200\n",
       "max        9.990000\n",
       "Name: Generator Capacity, dtype: float64"
      ]
     },
     "execution_count": 125,
     "metadata": {},
     "output_type": "execute_result"
    }
   ],
   "source": [
    "gen_cap = d_cust_cap.groupby('Customer')['Generator Capacity'].mean()\n",
    "gen_cap.describe(percentiles=[0.5, 0.8, 0.9, 0.980])"
   ]
  },
  {
   "cell_type": "code",
   "execution_count": 126,
   "metadata": {},
   "outputs": [
    {
     "data": {
      "text/plain": [
       "[<matplotlib.text.Text at 0x7fbfc78b5080>]"
      ]
     },
     "execution_count": 126,
     "metadata": {},
     "output_type": "execute_result"
    },
    {
     "data": {
      "image/png": "[encoded data removed]",
      "text/plain": [
       "<matplotlib.figure.Figure at 0x7fbfc78fa0f0>"
      ]
     },
     "metadata": {},
     "output_type": "display_data"
    }
   ],
   "source": [
    "ax = gen_cap.hist(bins=20)\n",
    "ax.set(xlabel='PV gen capacity (kW)')\n",
    "#ax.set_yscale('log')"
   ]
  },
  {
   "cell_type": "markdown",
   "metadata": {},
   "source": [
    "### 4b) Yield of PV generation \n",
    "\n",
    "* annual generation (kWh)\n",
    "* sun hours/year (kWh/kWp)"
   ]
  },
  {
   "cell_type": "markdown",
   "metadata": {},
   "source": [
    "#### Check of one customer"
   ]
  },
  {
   "cell_type": "code",
   "execution_count": 155,
   "metadata": {},
   "outputs": [
    {
     "data": {
      "text/plain": [
       "3.7800000000000842"
      ]
     },
     "execution_count": 155,
     "metadata": {},
     "output_type": "execute_result"
    }
   ],
   "source": [
    "gen_cap[1]"
   ]
  },
  {
   "cell_type": "code",
   "execution_count": 164,
   "metadata": {},
   "outputs": [
    {
     "data": {
      "image/png": "[encoded data removed]",
      "text/plain": [
       "<matplotlib.figure.Figure at 0x7fbfc527cd68>"
      ]
     },
     "metadata": {},
     "output_type": "display_data"
    }
   ],
   "source": [
    "dfGG[1].resample('1D').max().plot(label='daily max')\n",
    "plt.title('PV production (daily max) of customer 1 ')\n",
    "plt.ylabel('kW')\n",
    "plt.hlines(gen_cap[1], df.index[0], df.index[-1], linestyles='dashed', color='tab:red', label='PV capacity')\n",
    "plt.legend();"
   ]
  },
  {
   "cell_type": "markdown",
   "metadata": {},
   "source": [
    "#### Global statistics of PV generation\n",
    "\n",
    "* Production mean and median *in agreement with data note* from Ausgrid (§ Summary statistics, p2)\n",
    "\n",
    "* Normalized by capacity: **1231 hours/y** averaged across all customers\n",
    "* All are above 800 hours/y, except 4 customers\n",
    "\n",
    "NB: the coast around Sidney's has a GHI between 4-5 kWh/m²/day, that is **1500-1800 kWh/m²/y**\n",
    "\n",
    "<img src='external/SolarGIS Australia GHI map south.png' alt='Australia GHI map' style='width:50em'>"
   ]
  },
  {
   "cell_type": "code",
   "execution_count": 167,
   "metadata": {},
   "outputs": [
    {
     "data": {
      "text/plain": [
       "(2083.180033333341, 1708.0875000000215)"
      ]
     },
     "execution_count": 167,
     "metadata": {},
     "output_type": "execute_result"
    }
   ],
   "source": [
    "dt = 0.5 # hours\n",
    "GG_year = dfGG.sum()*dt\n",
    "GG_year.mean(), GG_year.median()"
   ]
  },
  {
   "cell_type": "code",
   "execution_count": 171,
   "metadata": {},
   "outputs": [
    {
     "data": {
      "text/plain": [
       "1230.5549200014514"
      ]
     },
     "execution_count": 171,
     "metadata": {},
     "output_type": "execute_result"
    }
   ],
   "source": [
    "pv_perf = GG_year/gen_cap\n",
    "pv_perf.mean()"
   ]
  },
  {
   "cell_type": "code",
   "execution_count": 218,
   "metadata": {},
   "outputs": [
    {
     "data": {
      "image/png": "[encoded data removed]",
      "text/plain": [
       "<matplotlib.figure.Figure at 0x7fbfb4390ac8>"
      ]
     },
     "metadata": {},
     "output_type": "display_data"
    }
   ],
   "source": [
    "pv_perf.hist(bins=30)\n",
    "plt.xlabel('yearly PV production kWh/kWp');"
   ]
  },
  {
   "cell_type": "markdown",
   "metadata": {},
   "source": [
    "#### PV installations with bad performance:\n",
    "\n",
    "observation: bad performance relates to periods of blank production (maintenance issue or record issue ?)."
   ]
  },
  {
   "cell_type": "code",
   "execution_count": 189,
   "metadata": {},
   "outputs": [
    {
     "data": {
      "text/plain": [
       "Customer\n",
       "92     119.0\n",
       "220    461.0\n",
       "234    533.0\n",
       "239    527.0\n",
       "dtype: float64"
      ]
     },
     "execution_count": 189,
     "metadata": {},
     "output_type": "execute_result"
    }
   ],
   "source": [
    "cust_lowpv = pv_perf.index[pv_perf<700]\n",
    "pv_perf[cust_lowpv].round()"
   ]
  },
  {
   "cell_type": "code",
   "execution_count": 188,
   "metadata": {},
   "outputs": [
    {
     "data": {
      "text/plain": [
       "<matplotlib.axes._subplots.AxesSubplot at 0x7fbfb4be3a58>"
      ]
     },
     "execution_count": 188,
     "metadata": {},
     "output_type": "execute_result"
    },
    {
     "data": {
      "image/png": "[encoded data removed]",
      "text/plain": [
       "<matplotlib.figure.Figure at 0x7fbfb4bec9e8>"
      ]
     },
     "metadata": {},
     "output_type": "display_data"
    }
   ],
   "source": [
    "dfGG[cust_lowpv].resample('1W').mean().plot(style='-D')"
   ]
  },
  {
   "cell_type": "markdown",
   "metadata": {},
   "source": [
    "### 4c) Consumption average"
   ]
  },
  {
   "cell_type": "markdown",
   "metadata": {},
   "source": [
    "Notice: without caring for NaN values, the average consumption **doesn't match** the data note from Ausgrid (§ Summary statistics, p2)."
   ]
  },
  {
   "cell_type": "code",
   "execution_count": 197,
   "metadata": {
    "collapsed": true
   },
   "outputs": [],
   "source": [
    "dfGC = df.xs('GC', level='Channel', axis=1)\n",
    "dfCL = df.xs('CL', level='Channel', axis=1)"
   ]
  },
  {
   "cell_type": "code",
   "execution_count": 201,
   "metadata": {},
   "outputs": [
    {
     "data": {
      "text/plain": [
       "(5738.998883333322, 1863.789572463766, 7602.788455797088, 7043.790789855059)"
      ]
     },
     "execution_count": 201,
     "metadata": {},
     "output_type": "execute_result"
    }
   ],
   "source": [
    "dt = 0.5 # hours\n",
    "GC_year = dfGC.sum()*dt\n",
    "CL_year = dfCL.sum()*dt\n",
    "\n",
    "GC_year.mean(), CL_year.mean(), GC_year.mean()+  CL_year.mean(), (GC_year +  CL_year).mean()"
   ]
  },
  {
   "cell_type": "code",
   "execution_count": 203,
   "metadata": {},
   "outputs": [
    {
     "data": {
      "text/plain": [
       "(138, 300)"
      ]
     },
     "execution_count": 203,
     "metadata": {},
     "output_type": "execute_result"
    }
   ],
   "source": [
    "len(CL_year), len(GC_year)"
   ]
  },
  {
   "cell_type": "code",
   "execution_count": 213,
   "metadata": {
    "scrolled": true
   },
   "outputs": [
    {
     "data": {
      "text/plain": [
       "Customer\n",
       "1       7710.675\n",
       "2       8493.488\n",
       "3       3464.013\n",
       "4       5350.537\n",
       "5       4154.427\n",
       "6      11049.959\n",
       "7       6297.717\n",
       "8      12445.192\n",
       "9       5042.297\n",
       "10      6654.568\n",
       "11           NaN\n",
       "12           NaN\n",
       "13           NaN\n",
       "14      3636.917\n",
       "15      3283.148\n",
       "16           NaN\n",
       "17           NaN\n",
       "18      8150.175\n",
       "19      2617.498\n",
       "20           NaN\n",
       "21           NaN\n",
       "22           NaN\n",
       "23      6139.032\n",
       "24           NaN\n",
       "25           NaN\n",
       "26           NaN\n",
       "27           NaN\n",
       "28           NaN\n",
       "29      5505.936\n",
       "30      3781.780\n",
       "         ...    \n",
       "271    11093.339\n",
       "272     4133.785\n",
       "273          NaN\n",
       "274     9694.788\n",
       "275          NaN\n",
       "276          NaN\n",
       "277     4711.474\n",
       "278          NaN\n",
       "279    11464.558\n",
       "280          NaN\n",
       "281     5923.665\n",
       "282          NaN\n",
       "283     3438.182\n",
       "284     4461.087\n",
       "285     4956.869\n",
       "286    10382.334\n",
       "287    12452.352\n",
       "288          NaN\n",
       "289    12316.420\n",
       "290     7815.447\n",
       "291          NaN\n",
       "292          NaN\n",
       "293    12764.541\n",
       "294     8265.949\n",
       "295          NaN\n",
       "296          NaN\n",
       "297     6890.217\n",
       "298          NaN\n",
       "299          NaN\n",
       "300    13450.040\n",
       "Length: 300, dtype: float64"
      ]
     },
     "execution_count": 213,
     "metadata": {},
     "output_type": "execute_result"
    }
   ],
   "source": [
    "GC_year +  CL_year"
   ]
  },
  {
   "cell_type": "markdown",
   "metadata": {},
   "source": [
    "Proper treatment of NaNs:"
   ]
  },
  {
   "cell_type": "code",
   "execution_count": 212,
   "metadata": {
    "scrolled": true
   },
   "outputs": [
    {
     "data": {
      "text/plain": [
       "Customer\n",
       "1       7710.675\n",
       "2       8493.488\n",
       "3       3464.013\n",
       "4       5350.537\n",
       "5       4154.427\n",
       "6      11049.959\n",
       "7       6297.717\n",
       "8      12445.192\n",
       "9       5042.297\n",
       "10      6654.568\n",
       "11      6560.894\n",
       "12      5938.369\n",
       "13      4840.914\n",
       "14      3636.917\n",
       "15      3283.148\n",
       "16     10129.030\n",
       "17      7831.254\n",
       "18      8150.175\n",
       "19      2617.498\n",
       "20      4632.129\n",
       "21     11182.840\n",
       "22      4527.870\n",
       "23      6139.032\n",
       "24      6229.264\n",
       "25      5711.299\n",
       "26      7742.674\n",
       "27      6416.623\n",
       "28      3965.804\n",
       "29      5505.936\n",
       "30      3781.780\n",
       "         ...    \n",
       "271    11093.339\n",
       "272     4133.785\n",
       "273     4271.345\n",
       "274     9694.788\n",
       "275     6333.698\n",
       "276     8637.535\n",
       "277     4711.474\n",
       "278     3231.753\n",
       "279    11464.558\n",
       "280     6182.487\n",
       "281     5923.665\n",
       "282     3389.128\n",
       "283     3438.182\n",
       "284     4461.087\n",
       "285     4956.869\n",
       "286    10382.334\n",
       "287    12452.352\n",
       "288     4570.903\n",
       "289    12316.420\n",
       "290     7815.447\n",
       "291     5746.336\n",
       "292     3259.321\n",
       "293    12764.541\n",
       "294     8265.949\n",
       "295     3136.466\n",
       "296     2844.458\n",
       "297     6890.217\n",
       "298     3333.994\n",
       "299     8359.712\n",
       "300    13450.040\n",
       "Length: 300, dtype: float64"
      ]
     },
     "execution_count": 212,
     "metadata": {},
     "output_type": "execute_result"
    }
   ],
   "source": [
    "Cons_y = pd.DataFrame({'GCy': GC_year, 'CLy':  CL_year})\n",
    "Cons_y.sum(axis=1)"
   ]
  },
  {
   "cell_type": "markdown",
   "metadata": {},
   "source": [
    "average 6596 kWh: match data note!"
   ]
  },
  {
   "cell_type": "code",
   "execution_count": 214,
   "metadata": {},
   "outputs": [
    {
     "data": {
      "text/plain": [
       "6596.342086666654"
      ]
     },
     "execution_count": 214,
     "metadata": {},
     "output_type": "execute_result"
    }
   ],
   "source": [
    "Cons_y.sum(axis=1).mean()"
   ]
  },
  {
   "cell_type": "code",
   "execution_count": 228,
   "metadata": {},
   "outputs": [
    {
     "data": {
      "text/plain": [
       "<matplotlib.axes._subplots.AxesSubplot at 0x7fbfad680860>"
      ]
     },
     "execution_count": 228,
     "metadata": {},
     "output_type": "execute_result"
    },
    {
     "data": {
      "image/png": "[encoded data removed]",
      "text/plain": [
       "<matplotlib.figure.Figure at 0x7fbfad756048>"
      ]
     },
     "metadata": {},
     "output_type": "display_data"
    }
   ],
   "source": [
    "Cons_y.sum(axis=1).hist(bins=30)"
   ]
  },
  {
   "cell_type": "markdown",
   "metadata": {},
   "source": [
    "#### Max consumption:"
   ]
  },
  {
   "cell_type": "code",
   "execution_count": 235,
   "metadata": {},
   "outputs": [
    {
     "data": {
      "text/plain": [
       "count    300.000000\n",
       "mean       7.046480\n",
       "std        2.175902\n",
       "min        2.426000\n",
       "25%        5.609500\n",
       "50%        6.827000\n",
       "75%        8.358000\n",
       "max       15.610000\n",
       "dtype: float64"
      ]
     },
     "execution_count": 235,
     "metadata": {},
     "output_type": "execute_result"
    }
   ],
   "source": [
    "Cons = dfGC.add(dfCL, fill_value=0) \n",
    "Cons.max().describe()"
   ]
  },
  {
   "cell_type": "code",
   "execution_count": 236,
   "metadata": {},
   "outputs": [
    {
     "data": {
      "image/png": "[encoded data removed]",
      "text/plain": [
       "<matplotlib.figure.Figure at 0x7fbfad5042b0>"
      ]
     },
     "metadata": {},
     "output_type": "display_data"
    }
   ],
   "source": [
    "Cons.max().hist(bins=30)\n",
    "plt.xlabel('Max consumption (kW)');"
   ]
  },
  {
   "cell_type": "markdown",
   "metadata": {},
   "source": [
    "#### Full load equivalent time\n",
    "\n",
    "T = E_year/P_max"
   ]
  },
  {
   "cell_type": "code",
   "execution_count": 242,
   "metadata": {},
   "outputs": [
    {
     "data": {
      "text/plain": [
       "count     300.000000\n",
       "mean      957.708700\n",
       "std       316.432769\n",
       "min       287.244484\n",
       "25%       704.633320\n",
       "50%       937.249319\n",
       "75%      1162.306100\n",
       "max      2368.646331\n",
       "dtype: float64"
      ]
     },
     "execution_count": 242,
     "metadata": {},
     "output_type": "execute_result"
    }
   ],
   "source": [
    "Cons_hours = Cons_y.sum(axis=1)/Cons.max()\n",
    "Cons_hours.describe()"
   ]
  },
  {
   "cell_type": "code",
   "execution_count": 241,
   "metadata": {},
   "outputs": [
    {
     "data": {
      "text/plain": [
       "<matplotlib.axes._subplots.AxesSubplot at 0x7fbfad073f98>"
      ]
     },
     "execution_count": 241,
     "metadata": {},
     "output_type": "execute_result"
    },
    {
     "data": {
      "image/png": "[encoded data removed]",
      "text/plain": [
       "<matplotlib.figure.Figure at 0x7fbfad1a65f8>"
      ]
     },
     "metadata": {},
     "output_type": "display_data"
    }
   ],
   "source": [
    "Cons_hours.hist(bins=30)"
   ]
  },
  {
   "cell_type": "markdown",
   "metadata": {},
   "source": [
    "#### Effect of having controlled load or not\n",
    "\n",
    "consumers with controlled load consume a bit more electricity, but the gap is quite small (14%)."
   ]
  },
  {
   "cell_type": "code",
   "execution_count": 251,
   "metadata": {},
   "outputs": [
    {
     "data": {
      "text/plain": [
       "136"
      ]
     },
     "execution_count": 251,
     "metadata": {},
     "output_type": "execute_result"
    }
   ],
   "source": [
    "has_CL = Cons_y['CLy']>0\n",
    "has_CL.sum()"
   ]
  },
  {
   "cell_type": "code",
   "execution_count": 253,
   "metadata": {},
   "outputs": [
    {
     "data": {
      "text/plain": [
       "161"
      ]
     },
     "execution_count": 253,
     "metadata": {},
     "output_type": "execute_result"
    }
   ],
   "source": [
    "n_empty_CL"
   ]
  },
  {
   "cell_type": "code",
   "execution_count": 274,
   "metadata": {},
   "outputs": [
    {
     "data": {
      "text/plain": [
       "(6200.501024390227, 7073.679838235281)"
      ]
     },
     "execution_count": 274,
     "metadata": {},
     "output_type": "execute_result"
    }
   ],
   "source": [
    "Cons_y[~has_CL].sum(axis=1).mean(), Cons_y[has_CL].sum(axis=1).mean()"
   ]
  },
  {
   "cell_type": "code",
   "execution_count": 275,
   "metadata": {},
   "outputs": [
    {
     "data": {
      "text/plain": [
       "1.1408239125209925"
      ]
     },
     "execution_count": 275,
     "metadata": {},
     "output_type": "execute_result"
    }
   ],
   "source": [
    "Cons_y[has_CL].sum(axis=1).mean() / Cons_y[~has_CL].sum(axis=1).mean()"
   ]
  },
  {
   "cell_type": "code",
   "execution_count": 280,
   "metadata": {},
   "outputs": [
    {
     "data": {
      "image/png": "[encoded data removed]",
      "text/plain": [
       "<matplotlib.figure.Figure at 0x7fbf6be58358>"
      ]
     },
     "metadata": {},
     "output_type": "display_data"
    }
   ],
   "source": [
    "hparams = dict(normed=True, histtype='step', lw=2)\n",
    "Cons_y[~has_CL]['GCy'].hist(label='GC no CL', normed=True, alpha=0.3)\n",
    "Cons_y[has_CL]['GCy'].hist(label='GC w. CL', **hparams)\n",
    "Cons_y[has_CL].sum(axis=1).hist(label='GC+CL w. CL', **hparams)\n",
    "plt.xlabel('yearly consumption kWh')\n",
    "plt.legend();"
   ]
  },
  {
   "cell_type": "markdown",
   "metadata": {},
   "source": [
    "### 4d) Consumption/Production relationship\n",
    "\n",
    "observations: there a small positive effect of the consumpation on the PV sizing. However the effect varies with quantiles (cf. Statsmodel [quantile regression example](http://www.statsmodels.org/devel/examples/notebooks/generated/quantile_regression.html)). There is a spreading effect.\n",
    "\n",
    "* high quantiles: big PV production comes with bit consumers\n",
    "* low quantiles: small PV production is almost independent of consumption"
   ]
  },
  {
   "cell_type": "markdown",
   "metadata": {},
   "source": [
    "#### Average data\n",
    "\n",
    "TODO: add controlled consumption to GC"
   ]
  },
  {
   "cell_type": "code",
   "execution_count": 245,
   "metadata": {
    "collapsed": true
   },
   "outputs": [],
   "source": [
    "import statsmodels.formula.api as smf"
   ]
  },
  {
   "cell_type": "code",
   "execution_count": 284,
   "metadata": {},
   "outputs": [
    {
     "data": {
      "text/html": [
       "<table class=\"simpletable\">\n",
       "<caption>QuantReg Regression Results</caption>\n",
       "<tr>\n",
       "  <th>Dep. Variable:</th>       <td>GG_ym</td>      <th>  Pseudo R-squared:  </th> <td> 0.02678</td>\n",
       "</tr>\n",
       "<tr>\n",
       "  <th>Model:</th>             <td>QuantReg</td>     <th>  Bandwidth:         </th> <td> 0.06531</td>\n",
       "</tr>\n",
       "<tr>\n",
       "  <th>Method:</th>          <td>Least Squares</td>  <th>  Sparsity:          </th> <td>  0.2066</td>\n",
       "</tr>\n",
       "<tr>\n",
       "  <th>Date:</th>          <td>Mon, 22 May 2017</td> <th>  No. Observations:  </th>  <td>   300</td> \n",
       "</tr>\n",
       "<tr>\n",
       "  <th>Time:</th>              <td>14:42:12</td>     <th>  Df Residuals:      </th>  <td>   298</td> \n",
       "</tr>\n",
       "<tr>\n",
       "  <th> </th>                      <td> </td>        <th>  Df Model:          </th>  <td>     1</td> \n",
       "</tr>\n",
       "</table>\n",
       "<table class=\"simpletable\">\n",
       "<tr>\n",
       "      <td></td>         <th>coef</th>     <th>std err</th>      <th>t</th>      <th>P>|t|</th>  <th>[0.025</th>    <th>0.975]</th>  \n",
       "</tr>\n",
       "<tr>\n",
       "  <th>Intercept</th> <td>    0.1297</td> <td>    0.015</td> <td>    8.459</td> <td> 0.000</td> <td>    0.100</td> <td>    0.160</td>\n",
       "</tr>\n",
       "<tr>\n",
       "  <th>GC_ym</th>     <td>    0.1016</td> <td>    0.022</td> <td>    4.700</td> <td> 0.000</td> <td>    0.059</td> <td>    0.144</td>\n",
       "</tr>\n",
       "</table>"
      ],
      "text/plain": [
       "<class 'statsmodels.iolib.summary.Summary'>\n",
       "\"\"\"\n",
       "                         QuantReg Regression Results                          \n",
       "==============================================================================\n",
       "Dep. Variable:                  GG_ym   Pseudo R-squared:              0.02678\n",
       "Model:                       QuantReg   Bandwidth:                     0.06531\n",
       "Method:                 Least Squares   Sparsity:                       0.2066\n",
       "Date:                Mon, 22 May 2017   No. Observations:                  300\n",
       "Time:                        14:42:12   Df Residuals:                      298\n",
       "                                        Df Model:                            1\n",
       "==============================================================================\n",
       "                 coef    std err          t      P>|t|      [0.025      0.975]\n",
       "------------------------------------------------------------------------------\n",
       "Intercept      0.1297      0.015      8.459      0.000       0.100       0.160\n",
       "GC_ym          0.1016      0.022      4.700      0.000       0.059       0.144\n",
       "==============================================================================\n",
       "\"\"\""
      ]
     },
     "execution_count": 284,
     "metadata": {},
     "output_type": "execute_result"
    }
   ],
   "source": [
    "d = pd.DataFrame({\n",
    "    'GC_ym': dfGC.mean(), \n",
    "    'GG_ym': dfGG.mean()})\n",
    "mod = smf.quantreg('GG_ym ~ GC_ym', d)\n",
    "res = mod.fit(q=0.5)\n",
    "res.summary()"
   ]
  },
  {
   "cell_type": "code",
   "execution_count": 289,
   "metadata": {},
   "outputs": [
    {
     "data": {
      "text/plain": [
       "Intercept    0.129720\n",
       "GC_ym        0.101633\n",
       "dtype: float64"
      ]
     },
     "execution_count": 289,
     "metadata": {},
     "output_type": "execute_result"
    }
   ],
   "source": [
    "par = res.params\n",
    "par"
   ]
  },
  {
   "cell_type": "code",
   "execution_count": 296,
   "metadata": {
    "collapsed": true
   },
   "outputs": [],
   "source": [
    "x = np.linspace(0.1, 1.7)\n",
    "y = par.Intercept + x*par.GC_ym"
   ]
  },
  {
   "cell_type": "code",
   "execution_count": 301,
   "metadata": {},
   "outputs": [
    {
     "data": {
      "image/png": "[encoded data removed]",
      "text/plain": [
       "<matplotlib.figure.Figure at 0x7fbf6b8b3780>"
      ]
     },
     "metadata": {},
     "output_type": "display_data"
    }
   ],
   "source": [
    "plt.plot(dfGC.mean(), dfGG.mean(), '+', label='data')\n",
    "plt.plot(x, y, '-', lw=3, alpha=0.5, label='LAD regression')\n",
    "ax = plt.gca()\n",
    "plt.legend()\n",
    "ax.set(\n",
    "    xlabel='Average GC consumption (kW)',\n",
    "    ylabel='Average PV production (kW)',\n",
    "    aspect='equal'\n",
    ");"
   ]
  },
  {
   "cell_type": "markdown",
   "metadata": {},
   "source": [
    "#### Max data (i.e. system sizing)"
   ]
  },
  {
   "cell_type": "code",
   "execution_count": 311,
   "metadata": {},
   "outputs": [
    {
     "data": {
      "text/html": [
       "<table class=\"simpletable\">\n",
       "<caption>QuantReg Regression Results</caption>\n",
       "<tr>\n",
       "  <th>Dep. Variable:</th>      <td>GG_max</td>      <th>  Pseudo R-squared:  </th> <td> 0.01191</td>\n",
       "</tr>\n",
       "<tr>\n",
       "  <th>Model:</th>             <td>QuantReg</td>     <th>  Bandwidth:         </th> <td>  0.4026</td>\n",
       "</tr>\n",
       "<tr>\n",
       "  <th>Method:</th>          <td>Least Squares</td>  <th>  Sparsity:          </th> <td>   1.426</td>\n",
       "</tr>\n",
       "<tr>\n",
       "  <th>Date:</th>          <td>Mon, 22 May 2017</td> <th>  No. Observations:  </th>  <td>   300</td> \n",
       "</tr>\n",
       "<tr>\n",
       "  <th>Time:</th>              <td>14:51:44</td>     <th>  Df Residuals:      </th>  <td>   298</td> \n",
       "</tr>\n",
       "<tr>\n",
       "  <th> </th>                      <td> </td>        <th>  Df Model:          </th>  <td>     1</td> \n",
       "</tr>\n",
       "</table>\n",
       "<table class=\"simpletable\">\n",
       "<tr>\n",
       "      <td></td>         <th>coef</th>     <th>std err</th>      <th>t</th>      <th>P>|t|</th>  <th>[0.025</th>    <th>0.975]</th>  \n",
       "</tr>\n",
       "<tr>\n",
       "  <th>Intercept</th> <td>    1.0623</td> <td>    0.129</td> <td>    8.238</td> <td> 0.000</td> <td>    0.809</td> <td>    1.316</td>\n",
       "</tr>\n",
       "<tr>\n",
       "  <th>GC_max</th>    <td>    0.0407</td> <td>    0.019</td> <td>    2.101</td> <td> 0.036</td> <td>    0.003</td> <td>    0.079</td>\n",
       "</tr>\n",
       "</table>"
      ],
      "text/plain": [
       "<class 'statsmodels.iolib.summary.Summary'>\n",
       "\"\"\"\n",
       "                         QuantReg Regression Results                          \n",
       "==============================================================================\n",
       "Dep. Variable:                 GG_max   Pseudo R-squared:              0.01191\n",
       "Model:                       QuantReg   Bandwidth:                      0.4026\n",
       "Method:                 Least Squares   Sparsity:                        1.426\n",
       "Date:                Mon, 22 May 2017   No. Observations:                  300\n",
       "Time:                        14:51:44   Df Residuals:                      298\n",
       "                                        Df Model:                            1\n",
       "==============================================================================\n",
       "                 coef    std err          t      P>|t|      [0.025      0.975]\n",
       "------------------------------------------------------------------------------\n",
       "Intercept      1.0623      0.129      8.238      0.000       0.809       1.316\n",
       "GC_max         0.0407      0.019      2.101      0.036       0.003       0.079\n",
       "==============================================================================\n",
       "\"\"\""
      ]
     },
     "execution_count": 311,
     "metadata": {},
     "output_type": "execute_result"
    }
   ],
   "source": [
    "d = pd.DataFrame({\n",
    "    'GC_max': dfGC.max(), \n",
    "    'GG_max': dfGG.max()})\n",
    "mod = smf.quantreg('GG_max ~ GC_max', d)\n",
    "res = mod.fit(q=0.5)\n",
    "res.summary()"
   ]
  },
  {
   "cell_type": "code",
   "execution_count": 312,
   "metadata": {},
   "outputs": [
    {
     "data": {
      "text/plain": [
       "Intercept    1.062331\n",
       "GC_max       0.040734\n",
       "dtype: float64"
      ]
     },
     "execution_count": 312,
     "metadata": {},
     "output_type": "execute_result"
    }
   ],
   "source": [
    "par = res.params\n",
    "par"
   ]
  },
  {
   "cell_type": "code",
   "execution_count": 313,
   "metadata": {
    "collapsed": true
   },
   "outputs": [],
   "source": [
    "x = np.linspace(2, 15)\n",
    "y = par.Intercept + x*par.GC_max"
   ]
  },
  {
   "cell_type": "code",
   "execution_count": 314,
   "metadata": {},
   "outputs": [
    {
     "data": {
      "image/png": "[encoded data removed]",
      "text/plain": [
       "<matplotlib.figure.Figure at 0x7fbf6b3db908>"
      ]
     },
     "metadata": {},
     "output_type": "display_data"
    }
   ],
   "source": [
    "plt.plot(dfGC.max(), dfGG.max(), '+', label='data')\n",
    "plt.plot(x, y, '-', lw=3, alpha=0.5, label='LAD regression')\n",
    "ax = plt.gca()\n",
    "plt.legend()\n",
    "ax.set(\n",
    "    xlabel='Max GC consumption (kW)',\n",
    "    ylabel='Max PV production (kW)',\n",
    "    aspect='equal'\n",
    ");"
   ]
  },
  {
   "cell_type": "markdown",
   "metadata": {},
   "source": [
    "### 4e) Correlation across PV productions"
   ]
  },
  {
   "cell_type": "code",
   "execution_count": 315,
   "metadata": {
    "collapsed": true
   },
   "outputs": [],
   "source": [
    "pv_corr = dfGG.corr()"
   ]
  },
  {
   "cell_type": "code",
   "execution_count": 316,
   "metadata": {},
   "outputs": [
    {
     "data": {
      "text/html": [
       "<div>\n",
       "<style>\n",
       "    .dataframe thead tr:only-child th {\n",
       "        text-align: right;\n",
       "    }\n",
       "\n",
       "    .dataframe thead th {\n",
       "        text-align: left;\n",
       "    }\n",
       "\n",
       "    .dataframe tbody tr th {\n",
       "        vertical-align: top;\n",
       "    }\n",
       "</style>\n",
       "<table border=\"1\" class=\"dataframe\">\n",
       "  <thead>\n",
       "    <tr style=\"text-align: right;\">\n",
       "      <th>Customer</th>\n",
       "      <th>1</th>\n",
       "      <th>2</th>\n",
       "      <th>3</th>\n",
       "      <th>4</th>\n",
       "      <th>5</th>\n",
       "    </tr>\n",
       "    <tr>\n",
       "      <th>Customer</th>\n",
       "      <th></th>\n",
       "      <th></th>\n",
       "      <th></th>\n",
       "      <th></th>\n",
       "      <th></th>\n",
       "    </tr>\n",
       "  </thead>\n",
       "  <tbody>\n",
       "    <tr>\n",
       "      <th>1</th>\n",
       "      <td>1.000000</td>\n",
       "      <td>0.861145</td>\n",
       "      <td>0.865654</td>\n",
       "      <td>0.924266</td>\n",
       "      <td>0.887806</td>\n",
       "    </tr>\n",
       "    <tr>\n",
       "      <th>2</th>\n",
       "      <td>0.861145</td>\n",
       "      <td>1.000000</td>\n",
       "      <td>0.911912</td>\n",
       "      <td>0.857172</td>\n",
       "      <td>0.956018</td>\n",
       "    </tr>\n",
       "    <tr>\n",
       "      <th>3</th>\n",
       "      <td>0.865654</td>\n",
       "      <td>0.911912</td>\n",
       "      <td>1.000000</td>\n",
       "      <td>0.838399</td>\n",
       "      <td>0.924184</td>\n",
       "    </tr>\n",
       "    <tr>\n",
       "      <th>4</th>\n",
       "      <td>0.924266</td>\n",
       "      <td>0.857172</td>\n",
       "      <td>0.838399</td>\n",
       "      <td>1.000000</td>\n",
       "      <td>0.879999</td>\n",
       "    </tr>\n",
       "    <tr>\n",
       "      <th>5</th>\n",
       "      <td>0.887806</td>\n",
       "      <td>0.956018</td>\n",
       "      <td>0.924184</td>\n",
       "      <td>0.879999</td>\n",
       "      <td>1.000000</td>\n",
       "    </tr>\n",
       "  </tbody>\n",
       "</table>\n",
       "</div>"
      ],
      "text/plain": [
       "Customer         1         2         3         4         5\n",
       "Customer                                                  \n",
       "1         1.000000  0.861145  0.865654  0.924266  0.887806\n",
       "2         0.861145  1.000000  0.911912  0.857172  0.956018\n",
       "3         0.865654  0.911912  1.000000  0.838399  0.924184\n",
       "4         0.924266  0.857172  0.838399  1.000000  0.879999\n",
       "5         0.887806  0.956018  0.924184  0.879999  1.000000"
      ]
     },
     "execution_count": 316,
     "metadata": {},
     "output_type": "execute_result"
    }
   ],
   "source": [
    "pv_corr.iloc[0:5,0:5]"
   ]
  },
  {
   "cell_type": "code",
   "execution_count": 317,
   "metadata": {},
   "outputs": [
    {
     "data": {
      "image/png": "[encoded data removed]",
      "text/plain": [
       "<matplotlib.figure.Figure at 0x7fbf6b2cb400>"
      ]
     },
     "metadata": {},
     "output_type": "display_data"
    }
   ],
   "source": [
    "plt.imshow(pv_corr)\n",
    "plt.colorbar()\n",
    "plt.tight_layout()\n",
    "plt.xlabel('Customer')\n",
    "plt.title('Correlation between PV productions');"
   ]
  },
  {
   "cell_type": "markdown",
   "metadata": {},
   "source": [
    "#### Effect of the distance on the correlation\n",
    "\n",
    "distance estimated with geocoding"
   ]
  },
  {
   "cell_type": "code",
   "execution_count": 319,
   "metadata": {
    "collapsed": true
   },
   "outputs": [],
   "source": [
    "from itertools import combinations # Combinatoric generator"
   ]
  },
  {
   "cell_type": "code",
   "execution_count": 370,
   "metadata": {},
   "outputs": [
    {
     "data": {
      "text/html": [
       "<div>\n",
       "<style>\n",
       "    .dataframe thead tr:only-child th {\n",
       "        text-align: right;\n",
       "    }\n",
       "\n",
       "    .dataframe thead th {\n",
       "        text-align: left;\n",
       "    }\n",
       "\n",
       "    .dataframe tbody tr th {\n",
       "        vertical-align: top;\n",
       "    }\n",
       "</style>\n",
       "<table border=\"1\" class=\"dataframe\">\n",
       "  <thead>\n",
       "    <tr style=\"text-align: right;\">\n",
       "      <th></th>\n",
       "      <th>lat</th>\n",
       "      <th>lng</th>\n",
       "      <th>dlat_km</th>\n",
       "      <th>dlng_km</th>\n",
       "      <th>area_km2</th>\n",
       "    </tr>\n",
       "    <tr>\n",
       "      <th>postcode</th>\n",
       "      <th></th>\n",
       "      <th></th>\n",
       "      <th></th>\n",
       "      <th></th>\n",
       "      <th></th>\n",
       "    </tr>\n",
       "  </thead>\n",
       "  <tbody>\n",
       "    <tr>\n",
       "      <th>2008</th>\n",
       "      <td>-33.887887</td>\n",
       "      <td>151.196402</td>\n",
       "      <td>1.178955</td>\n",
       "      <td>1.766613</td>\n",
       "      <td>2.082757</td>\n",
       "    </tr>\n",
       "    <tr>\n",
       "      <th>2010</th>\n",
       "      <td>-33.882559</td>\n",
       "      <td>151.213158</td>\n",
       "      <td>2.039637</td>\n",
       "      <td>2.559093</td>\n",
       "      <td>5.219621</td>\n",
       "    </tr>\n",
       "    <tr>\n",
       "      <th>2018</th>\n",
       "      <td>-33.921990</td>\n",
       "      <td>151.207330</td>\n",
       "      <td>3.230835</td>\n",
       "      <td>2.408996</td>\n",
       "      <td>7.783069</td>\n",
       "    </tr>\n",
       "    <tr>\n",
       "      <th>2021</th>\n",
       "      <td>-33.892120</td>\n",
       "      <td>151.230645</td>\n",
       "      <td>3.256143</td>\n",
       "      <td>2.567510</td>\n",
       "      <td>8.360180</td>\n",
       "    </tr>\n",
       "    <tr>\n",
       "      <th>2025</th>\n",
       "      <td>-33.886500</td>\n",
       "      <td>151.243761</td>\n",
       "      <td>1.142317</td>\n",
       "      <td>2.256786</td>\n",
       "      <td>2.577965</td>\n",
       "    </tr>\n",
       "    <tr>\n",
       "      <th>2026</th>\n",
       "      <td>-33.892251</td>\n",
       "      <td>151.271453</td>\n",
       "      <td>2.556738</td>\n",
       "      <td>2.590240</td>\n",
       "      <td>6.622565</td>\n",
       "    </tr>\n",
       "    <tr>\n",
       "      <th>2029</th>\n",
       "      <td>-33.875421</td>\n",
       "      <td>151.265623</td>\n",
       "      <td>2.447767</td>\n",
       "      <td>2.433724</td>\n",
       "      <td>5.957190</td>\n",
       "    </tr>\n",
       "    <tr>\n",
       "      <th>2031</th>\n",
       "      <td>-33.912245</td>\n",
       "      <td>151.239388</td>\n",
       "      <td>3.536777</td>\n",
       "      <td>4.301904</td>\n",
       "      <td>15.214876</td>\n",
       "    </tr>\n",
       "    <tr>\n",
       "      <th>2034</th>\n",
       "      <td>-33.923619</td>\n",
       "      <td>151.253963</td>\n",
       "      <td>3.006322</td>\n",
       "      <td>1.589586</td>\n",
       "      <td>4.778806</td>\n",
       "    </tr>\n",
       "    <tr>\n",
       "      <th>2037</th>\n",
       "      <td>-33.880260</td>\n",
       "      <td>151.184019</td>\n",
       "      <td>1.627293</td>\n",
       "      <td>1.831566</td>\n",
       "      <td>2.980495</td>\n",
       "    </tr>\n",
       "    <tr>\n",
       "      <th>2039</th>\n",
       "      <td>-33.866155</td>\n",
       "      <td>151.173821</td>\n",
       "      <td>1.611081</td>\n",
       "      <td>2.438891</td>\n",
       "      <td>3.929251</td>\n",
       "    </tr>\n",
       "    <tr>\n",
       "      <th>2041</th>\n",
       "      <td>-33.858317</td>\n",
       "      <td>151.178192</td>\n",
       "      <td>2.021969</td>\n",
       "      <td>2.576874</td>\n",
       "      <td>5.210359</td>\n",
       "    </tr>\n",
       "    <tr>\n",
       "      <th>2044</th>\n",
       "      <td>-33.921824</td>\n",
       "      <td>151.166538</td>\n",
       "      <td>3.008957</td>\n",
       "      <td>2.849975</td>\n",
       "      <td>8.575452</td>\n",
       "    </tr>\n",
       "    <tr>\n",
       "      <th>2046</th>\n",
       "      <td>-33.856669</td>\n",
       "      <td>151.131581</td>\n",
       "      <td>3.393046</td>\n",
       "      <td>3.526216</td>\n",
       "      <td>11.964616</td>\n",
       "    </tr>\n",
       "    <tr>\n",
       "      <th>2047</th>\n",
       "      <td>-33.852381</td>\n",
       "      <td>151.154885</td>\n",
       "      <td>2.227034</td>\n",
       "      <td>2.105717</td>\n",
       "      <td>4.689504</td>\n",
       "    </tr>\n",
       "    <tr>\n",
       "      <th>2048</th>\n",
       "      <td>-33.892056</td>\n",
       "      <td>151.165081</td>\n",
       "      <td>1.364918</td>\n",
       "      <td>1.390969</td>\n",
       "      <td>1.898558</td>\n",
       "    </tr>\n",
       "    <tr>\n",
       "      <th>2066</th>\n",
       "      <td>-33.812602</td>\n",
       "      <td>151.169451</td>\n",
       "      <td>4.129902</td>\n",
       "      <td>3.717060</td>\n",
       "      <td>15.351093</td>\n",
       "    </tr>\n",
       "    <tr>\n",
       "      <th>2074</th>\n",
       "      <td>-33.686743</td>\n",
       "      <td>151.157798</td>\n",
       "      <td>11.410434</td>\n",
       "      <td>7.300888</td>\n",
       "      <td>83.306303</td>\n",
       "    </tr>\n",
       "    <tr>\n",
       "      <th>2076</th>\n",
       "      <td>-33.708586</td>\n",
       "      <td>151.122843</td>\n",
       "      <td>6.834674</td>\n",
       "      <td>5.293553</td>\n",
       "      <td>36.179706</td>\n",
       "    </tr>\n",
       "    <tr>\n",
       "      <th>2077</th>\n",
       "      <td>-33.692409</td>\n",
       "      <td>151.099545</td>\n",
       "      <td>10.154743</td>\n",
       "      <td>5.413221</td>\n",
       "      <td>54.969873</td>\n",
       "    </tr>\n",
       "    <tr>\n",
       "      <th>2079</th>\n",
       "      <td>-33.670909</td>\n",
       "      <td>151.125756</td>\n",
       "      <td>4.110988</td>\n",
       "      <td>5.738143</td>\n",
       "      <td>23.589434</td>\n",
       "    </tr>\n",
       "    <tr>\n",
       "      <th>2081</th>\n",
       "      <td>-33.576913</td>\n",
       "      <td>151.169451</td>\n",
       "      <td>13.864250</td>\n",
       "      <td>6.442107</td>\n",
       "      <td>89.314988</td>\n",
       "    </tr>\n",
       "    <tr>\n",
       "      <th>2082</th>\n",
       "      <td>-33.598810</td>\n",
       "      <td>151.134494</td>\n",
       "      <td>13.043921</td>\n",
       "      <td>6.210623</td>\n",
       "      <td>81.010870</td>\n",
       "    </tr>\n",
       "    <tr>\n",
       "      <th>2084</th>\n",
       "      <td>-33.636369</td>\n",
       "      <td>151.221901</td>\n",
       "      <td>15.311430</td>\n",
       "      <td>13.917533</td>\n",
       "      <td>213.097337</td>\n",
       "    </tr>\n",
       "    <tr>\n",
       "      <th>2085</th>\n",
       "      <td>-33.729324</td>\n",
       "      <td>151.204416</td>\n",
       "      <td>5.382023</td>\n",
       "      <td>5.333334</td>\n",
       "      <td>28.704129</td>\n",
       "    </tr>\n",
       "    <tr>\n",
       "      <th>2086</th>\n",
       "      <td>-33.747307</td>\n",
       "      <td>151.224816</td>\n",
       "      <td>3.270810</td>\n",
       "      <td>5.370235</td>\n",
       "      <td>17.565017</td>\n",
       "    </tr>\n",
       "    <tr>\n",
       "      <th>2087</th>\n",
       "      <td>-33.773259</td>\n",
       "      <td>151.216073</td>\n",
       "      <td>8.792172</td>\n",
       "      <td>7.007599</td>\n",
       "      <td>61.612010</td>\n",
       "    </tr>\n",
       "    <tr>\n",
       "      <th>2088</th>\n",
       "      <td>-33.830378</td>\n",
       "      <td>151.239388</td>\n",
       "      <td>5.558167</td>\n",
       "      <td>3.740941</td>\n",
       "      <td>20.792774</td>\n",
       "    </tr>\n",
       "    <tr>\n",
       "      <th>2092</th>\n",
       "      <td>-33.792718</td>\n",
       "      <td>151.242303</td>\n",
       "      <td>2.939093</td>\n",
       "      <td>1.988256</td>\n",
       "      <td>5.843670</td>\n",
       "    </tr>\n",
       "    <tr>\n",
       "      <th>2093</th>\n",
       "      <td>-33.805574</td>\n",
       "      <td>151.262708</td>\n",
       "      <td>5.539598</td>\n",
       "      <td>4.581344</td>\n",
       "      <td>25.378803</td>\n",
       "    </tr>\n",
       "    <tr>\n",
       "      <th>...</th>\n",
       "      <td>...</td>\n",
       "      <td>...</td>\n",
       "      <td>...</td>\n",
       "      <td>...</td>\n",
       "      <td>...</td>\n",
       "    </tr>\n",
       "    <tr>\n",
       "      <th>2262</th>\n",
       "      <td>-33.207558</td>\n",
       "      <td>151.542803</td>\n",
       "      <td>10.025702</td>\n",
       "      <td>10.597135</td>\n",
       "      <td>106.243711</td>\n",
       "    </tr>\n",
       "    <tr>\n",
       "      <th>2263</th>\n",
       "      <td>-33.250435</td>\n",
       "      <td>151.507765</td>\n",
       "      <td>10.055257</td>\n",
       "      <td>9.859707</td>\n",
       "      <td>99.141892</td>\n",
       "    </tr>\n",
       "    <tr>\n",
       "      <th>2264</th>\n",
       "      <td>-33.118685</td>\n",
       "      <td>151.455221</td>\n",
       "      <td>13.966461</td>\n",
       "      <td>17.664017</td>\n",
       "      <td>246.703802</td>\n",
       "    </tr>\n",
       "    <tr>\n",
       "      <th>2265</th>\n",
       "      <td>-33.064147</td>\n",
       "      <td>151.443547</td>\n",
       "      <td>12.853377</td>\n",
       "      <td>17.758614</td>\n",
       "      <td>228.258167</td>\n",
       "    </tr>\n",
       "    <tr>\n",
       "      <th>2278</th>\n",
       "      <td>-32.935137</td>\n",
       "      <td>151.548643</td>\n",
       "      <td>10.730533</td>\n",
       "      <td>7.912314</td>\n",
       "      <td>84.903348</td>\n",
       "    </tr>\n",
       "    <tr>\n",
       "      <th>2280</th>\n",
       "      <td>-33.022331</td>\n",
       "      <td>151.671339</td>\n",
       "      <td>7.986453</td>\n",
       "      <td>8.285135</td>\n",
       "      <td>66.168844</td>\n",
       "    </tr>\n",
       "    <tr>\n",
       "      <th>2281</th>\n",
       "      <td>-33.117098</td>\n",
       "      <td>151.636274</td>\n",
       "      <td>11.868991</td>\n",
       "      <td>6.381345</td>\n",
       "      <td>75.740126</td>\n",
       "    </tr>\n",
       "    <tr>\n",
       "      <th>2282</th>\n",
       "      <td>-32.964824</td>\n",
       "      <td>151.647961</td>\n",
       "      <td>5.322890</td>\n",
       "      <td>3.542357</td>\n",
       "      <td>18.855575</td>\n",
       "    </tr>\n",
       "    <tr>\n",
       "      <th>2283</th>\n",
       "      <td>-33.050132</td>\n",
       "      <td>151.595374</td>\n",
       "      <td>23.566386</td>\n",
       "      <td>13.848476</td>\n",
       "      <td>326.358541</td>\n",
       "    </tr>\n",
       "    <tr>\n",
       "      <th>2284</th>\n",
       "      <td>-32.952447</td>\n",
       "      <td>151.618744</td>\n",
       "      <td>7.014187</td>\n",
       "      <td>6.311125</td>\n",
       "      <td>44.267411</td>\n",
       "    </tr>\n",
       "    <tr>\n",
       "      <th>2285</th>\n",
       "      <td>-32.911035</td>\n",
       "      <td>151.618744</td>\n",
       "      <td>9.180464</td>\n",
       "      <td>9.383040</td>\n",
       "      <td>86.140665</td>\n",
       "    </tr>\n",
       "    <tr>\n",
       "      <th>2286</th>\n",
       "      <td>-32.899507</td>\n",
       "      <td>151.572007</td>\n",
       "      <td>6.054063</td>\n",
       "      <td>6.694867</td>\n",
       "      <td>40.531148</td>\n",
       "    </tr>\n",
       "    <tr>\n",
       "      <th>2289</th>\n",
       "      <td>-32.948140</td>\n",
       "      <td>151.706411</td>\n",
       "      <td>3.544538</td>\n",
       "      <td>6.327006</td>\n",
       "      <td>22.426316</td>\n",
       "    </tr>\n",
       "    <tr>\n",
       "      <th>2290</th>\n",
       "      <td>-32.975467</td>\n",
       "      <td>151.712257</td>\n",
       "      <td>7.704252</td>\n",
       "      <td>7.667515</td>\n",
       "      <td>59.072465</td>\n",
       "    </tr>\n",
       "    <tr>\n",
       "      <th>2291</th>\n",
       "      <td>-32.949701</td>\n",
       "      <td>151.744414</td>\n",
       "      <td>3.377046</td>\n",
       "      <td>4.135951</td>\n",
       "      <td>13.967296</td>\n",
       "    </tr>\n",
       "    <tr>\n",
       "      <th>2292</th>\n",
       "      <td>-32.922585</td>\n",
       "      <td>151.734182</td>\n",
       "      <td>2.823917</td>\n",
       "      <td>2.368471</td>\n",
       "      <td>6.688367</td>\n",
       "    </tr>\n",
       "    <tr>\n",
       "      <th>2293</th>\n",
       "      <td>-32.915366</td>\n",
       "      <td>151.757571</td>\n",
       "      <td>1.915366</td>\n",
       "      <td>1.230935</td>\n",
       "      <td>2.357690</td>\n",
       "    </tr>\n",
       "    <tr>\n",
       "      <th>2294</th>\n",
       "      <td>-32.912333</td>\n",
       "      <td>151.766343</td>\n",
       "      <td>2.336039</td>\n",
       "      <td>1.667176</td>\n",
       "      <td>3.894587</td>\n",
       "    </tr>\n",
       "    <tr>\n",
       "      <th>2295</th>\n",
       "      <td>-32.867427</td>\n",
       "      <td>151.799972</td>\n",
       "      <td>7.795498</td>\n",
       "      <td>6.339407</td>\n",
       "      <td>49.418839</td>\n",
       "    </tr>\n",
       "    <tr>\n",
       "      <th>2296</th>\n",
       "      <td>-32.912500</td>\n",
       "      <td>151.745876</td>\n",
       "      <td>1.416879</td>\n",
       "      <td>1.543001</td>\n",
       "      <td>2.186245</td>\n",
       "    </tr>\n",
       "    <tr>\n",
       "      <th>2300</th>\n",
       "      <td>-32.927216</td>\n",
       "      <td>151.779501</td>\n",
       "      <td>4.915783</td>\n",
       "      <td>4.057959</td>\n",
       "      <td>19.948049</td>\n",
       "    </tr>\n",
       "    <tr>\n",
       "      <th>2303</th>\n",
       "      <td>-32.925233</td>\n",
       "      <td>151.750261</td>\n",
       "      <td>2.804992</td>\n",
       "      <td>2.538046</td>\n",
       "      <td>7.119198</td>\n",
       "    </tr>\n",
       "    <tr>\n",
       "      <th>2305</th>\n",
       "      <td>-32.927424</td>\n",
       "      <td>151.706411</td>\n",
       "      <td>2.894259</td>\n",
       "      <td>5.646591</td>\n",
       "      <td>16.342700</td>\n",
       "    </tr>\n",
       "    <tr>\n",
       "      <th>2315</th>\n",
       "      <td>-32.734411</td>\n",
       "      <td>152.151274</td>\n",
       "      <td>6.333997</td>\n",
       "      <td>9.659977</td>\n",
       "      <td>61.186261</td>\n",
       "    </tr>\n",
       "    <tr>\n",
       "      <th>2320</th>\n",
       "      <td>-32.714723</td>\n",
       "      <td>151.536962</td>\n",
       "      <td>30.787729</td>\n",
       "      <td>52.034427</td>\n",
       "      <td>1602.021856</td>\n",
       "    </tr>\n",
       "    <tr>\n",
       "      <th>2321</th>\n",
       "      <td>-32.691654</td>\n",
       "      <td>151.443547</td>\n",
       "      <td>40.502852</td>\n",
       "      <td>45.987693</td>\n",
       "      <td>1862.632734</td>\n",
       "    </tr>\n",
       "    <tr>\n",
       "      <th>2324</th>\n",
       "      <td>-32.640042</td>\n",
       "      <td>151.911142</td>\n",
       "      <td>30.439834</td>\n",
       "      <td>59.878643</td>\n",
       "      <td>1822.695927</td>\n",
       "    </tr>\n",
       "    <tr>\n",
       "      <th>2325</th>\n",
       "      <td>-32.938053</td>\n",
       "      <td>151.186932</td>\n",
       "      <td>42.827082</td>\n",
       "      <td>59.754323</td>\n",
       "      <td>2559.103278</td>\n",
       "    </tr>\n",
       "    <tr>\n",
       "      <th>2326</th>\n",
       "      <td>-32.787791</td>\n",
       "      <td>151.455221</td>\n",
       "      <td>13.799735</td>\n",
       "      <td>10.973184</td>\n",
       "      <td>151.427034</td>\n",
       "    </tr>\n",
       "    <tr>\n",
       "      <th>2330</th>\n",
       "      <td>-32.731920</td>\n",
       "      <td>150.860936</td>\n",
       "      <td>113.834561</td>\n",
       "      <td>110.733301</td>\n",
       "      <td>12605.276700</td>\n",
       "    </tr>\n",
       "  </tbody>\n",
       "</table>\n",
       "<p>100 rows × 5 columns</p>\n",
       "</div>"
      ],
      "text/plain": [
       "                lat         lng     dlat_km     dlng_km      area_km2\n",
       "postcode                                                             \n",
       "2008     -33.887887  151.196402    1.178955    1.766613      2.082757\n",
       "2010     -33.882559  151.213158    2.039637    2.559093      5.219621\n",
       "2018     -33.921990  151.207330    3.230835    2.408996      7.783069\n",
       "2021     -33.892120  151.230645    3.256143    2.567510      8.360180\n",
       "2025     -33.886500  151.243761    1.142317    2.256786      2.577965\n",
       "2026     -33.892251  151.271453    2.556738    2.590240      6.622565\n",
       "2029     -33.875421  151.265623    2.447767    2.433724      5.957190\n",
       "2031     -33.912245  151.239388    3.536777    4.301904     15.214876\n",
       "2034     -33.923619  151.253963    3.006322    1.589586      4.778806\n",
       "2037     -33.880260  151.184019    1.627293    1.831566      2.980495\n",
       "2039     -33.866155  151.173821    1.611081    2.438891      3.929251\n",
       "2041     -33.858317  151.178192    2.021969    2.576874      5.210359\n",
       "2044     -33.921824  151.166538    3.008957    2.849975      8.575452\n",
       "2046     -33.856669  151.131581    3.393046    3.526216     11.964616\n",
       "2047     -33.852381  151.154885    2.227034    2.105717      4.689504\n",
       "2048     -33.892056  151.165081    1.364918    1.390969      1.898558\n",
       "2066     -33.812602  151.169451    4.129902    3.717060     15.351093\n",
       "2074     -33.686743  151.157798   11.410434    7.300888     83.306303\n",
       "2076     -33.708586  151.122843    6.834674    5.293553     36.179706\n",
       "2077     -33.692409  151.099545   10.154743    5.413221     54.969873\n",
       "2079     -33.670909  151.125756    4.110988    5.738143     23.589434\n",
       "2081     -33.576913  151.169451   13.864250    6.442107     89.314988\n",
       "2082     -33.598810  151.134494   13.043921    6.210623     81.010870\n",
       "2084     -33.636369  151.221901   15.311430   13.917533    213.097337\n",
       "2085     -33.729324  151.204416    5.382023    5.333334     28.704129\n",
       "2086     -33.747307  151.224816    3.270810    5.370235     17.565017\n",
       "2087     -33.773259  151.216073    8.792172    7.007599     61.612010\n",
       "2088     -33.830378  151.239388    5.558167    3.740941     20.792774\n",
       "2092     -33.792718  151.242303    2.939093    1.988256      5.843670\n",
       "2093     -33.805574  151.262708    5.539598    4.581344     25.378803\n",
       "...             ...         ...         ...         ...           ...\n",
       "2262     -33.207558  151.542803   10.025702   10.597135    106.243711\n",
       "2263     -33.250435  151.507765   10.055257    9.859707     99.141892\n",
       "2264     -33.118685  151.455221   13.966461   17.664017    246.703802\n",
       "2265     -33.064147  151.443547   12.853377   17.758614    228.258167\n",
       "2278     -32.935137  151.548643   10.730533    7.912314     84.903348\n",
       "2280     -33.022331  151.671339    7.986453    8.285135     66.168844\n",
       "2281     -33.117098  151.636274   11.868991    6.381345     75.740126\n",
       "2282     -32.964824  151.647961    5.322890    3.542357     18.855575\n",
       "2283     -33.050132  151.595374   23.566386   13.848476    326.358541\n",
       "2284     -32.952447  151.618744    7.014187    6.311125     44.267411\n",
       "2285     -32.911035  151.618744    9.180464    9.383040     86.140665\n",
       "2286     -32.899507  151.572007    6.054063    6.694867     40.531148\n",
       "2289     -32.948140  151.706411    3.544538    6.327006     22.426316\n",
       "2290     -32.975467  151.712257    7.704252    7.667515     59.072465\n",
       "2291     -32.949701  151.744414    3.377046    4.135951     13.967296\n",
       "2292     -32.922585  151.734182    2.823917    2.368471      6.688367\n",
       "2293     -32.915366  151.757571    1.915366    1.230935      2.357690\n",
       "2294     -32.912333  151.766343    2.336039    1.667176      3.894587\n",
       "2295     -32.867427  151.799972    7.795498    6.339407     49.418839\n",
       "2296     -32.912500  151.745876    1.416879    1.543001      2.186245\n",
       "2300     -32.927216  151.779501    4.915783    4.057959     19.948049\n",
       "2303     -32.925233  151.750261    2.804992    2.538046      7.119198\n",
       "2305     -32.927424  151.706411    2.894259    5.646591     16.342700\n",
       "2315     -32.734411  152.151274    6.333997    9.659977     61.186261\n",
       "2320     -32.714723  151.536962   30.787729   52.034427   1602.021856\n",
       "2321     -32.691654  151.443547   40.502852   45.987693   1862.632734\n",
       "2324     -32.640042  151.911142   30.439834   59.878643   1822.695927\n",
       "2325     -32.938053  151.186932   42.827082   59.754323   2559.103278\n",
       "2326     -32.787791  151.455221   13.799735   10.973184    151.427034\n",
       "2330     -32.731920  150.860936  113.834561  110.733301  12605.276700\n",
       "\n",
       "[100 rows x 5 columns]"
      ]
     },
     "execution_count": 370,
     "metadata": {},
     "output_type": "execute_result"
    }
   ],
   "source": [
    "df_pcodes = pd.read_csv('postcodes/postcodes.csv', comment='#', index_col='postcode')\n",
    "df_pcodes"
   ]
  },
  {
   "cell_type": "markdown",
   "metadata": {},
   "source": [
    "Postcode of customers:\n",
    "\n",
    "* some post codes have many customers (2259, 2261: Central Coast area, 2290: New Castle)\n",
    "* many only one or two customer per postcode"
   ]
  },
  {
   "cell_type": "code",
   "execution_count": 329,
   "metadata": {
    "scrolled": true
   },
   "outputs": [
    {
     "data": {
      "text/plain": [
       "2259    28\n",
       "2261    21\n",
       "2290    13\n",
       "2093     9\n",
       "2262     8\n",
       "2204     7\n",
       "2126     6\n",
       "2100     6\n",
       "2263     6\n",
       "2291     6\n",
       "2076     6\n",
       "2289     6\n",
       "2086     5\n",
       "2280     5\n",
       "2077     5\n",
       "2074     5\n",
       "2285     5\n",
       "2137     5\n",
       "2305     5\n",
       "2190     4\n",
       "2282     4\n",
       "2087     4\n",
       "2251     4\n",
       "2066     4\n",
       "2284     4\n",
       "2320     3\n",
       "2228     3\n",
       "2325     3\n",
       "2265     3\n",
       "2230     3\n",
       "        ..\n",
       "2084     1\n",
       "2029     1\n",
       "2081     1\n",
       "2031     1\n",
       "2034     1\n",
       "2039     1\n",
       "2324     1\n",
       "2231     1\n",
       "2315     1\n",
       "2135     1\n",
       "2264     1\n",
       "2278     1\n",
       "2224     1\n",
       "2281     1\n",
       "2286     1\n",
       "2216     1\n",
       "2211     1\n",
       "2209     1\n",
       "2292     1\n",
       "2207     1\n",
       "2294     1\n",
       "2295     1\n",
       "2200     1\n",
       "2198     1\n",
       "2196     1\n",
       "2296     1\n",
       "2162     1\n",
       "2154     1\n",
       "2046     1\n",
       "2047     1\n",
       "Name: Postcode, Length: 100, dtype: int64"
      ]
     },
     "execution_count": 329,
     "metadata": {},
     "output_type": "execute_result"
    }
   ],
   "source": [
    "cust_code = d_raw.groupby('Customer')['Postcode'].min()\n",
    "cust_code.value_counts()"
   ]
  },
  {
   "cell_type": "code",
   "execution_count": 338,
   "metadata": {},
   "outputs": [
    {
     "data": {
      "text/plain": [
       "<matplotlib.axes._subplots.AxesSubplot at 0x7fbf70360828>"
      ]
     },
     "execution_count": 338,
     "metadata": {},
     "output_type": "execute_result"
    },
    {
     "data": {
      "image/png": "[encoded data removed]",
      "text/plain": [
       "<matplotlib.figure.Figure at 0x7fbfad19da90>"
      ]
     },
     "metadata": {},
     "output_type": "display_data"
    }
   ],
   "source": [
    "cust_code.value_counts().hist(bins=30)"
   ]
  },
  {
   "cell_type": "markdown",
   "metadata": {},
   "source": [
    "Helper: compute distance between two places given as (lat, long)\n",
    "\n",
    "use formula \"haversine formula\" from [Great-circle_distance](https://en.wikipedia.org/wiki/Great-circle_distance#Computational_formulas)."
   ]
  },
  {
   "cell_type": "code",
   "execution_count": 369,
   "metadata": {},
   "outputs": [
    {
     "data": {
      "text/plain": [
       "(114.24202913650407, 36.929388045354493)"
      ]
     },
     "execution_count": 369,
     "metadata": {},
     "output_type": "execute_result"
    }
   ],
   "source": [
    "def great_circle(latlong1, latlong2):\n",
    "    '''great circle distance between two points on a spherical earth\n",
    "    \n",
    "    longitudes and latitudes in degrees. Distance in km.\n",
    "    '''\n",
    "    R = 6371 # km\n",
    "    d2r = np.deg2rad\n",
    "    from numpy import cos, sin, arcsin, sqrt\n",
    "    \n",
    "    lat1, lng1 = latlong1\n",
    "    lat2, lng2 = latlong2\n",
    "    dlat = d2r(lat2 - lat1)\n",
    "    dlng = d2r(lng2 - lng1)\n",
    "    \n",
    "    cos12 = cos(d2r(lat1))*cos(d2r(lat2))\n",
    "                       \n",
    "    a = sin(dlat/2)**2 + cos12*np.sin(dlng/2)**2\n",
    "    ang = 2*arcsin(sqrt(a))\n",
    "    return R*ang\n",
    "\n",
    "cities = {\n",
    "    'Newcastle': (-32.933, 151.733),\n",
    "    'Cessnock': (-32.834, 151.3555),\n",
    "    'Gosford': (-33.433, 151.33),\n",
    "    'Sydney':  (-33.856, 151.1925),\n",
    "    'Paris': (48.8571, 2.35191),\n",
    "    'Rennes': (48.11449, -1.67902)\n",
    "}\n",
    "#great_circle(cities['Rennes'], cities['Paris']) # check 309 km\n",
    "great_circle(cities['Newcastle'], cities['Sydney']), great_circle(cities['Newcastle'], cities['Cessnock'])"
   ]
  },
  {
   "cell_type": "markdown",
   "metadata": {},
   "source": [
    "Compute distances for each pair of customer (***takes ~ 1min***)"
   ]
  },
  {
   "cell_type": "code",
   "execution_count": null,
   "metadata": {
    "collapsed": true
   },
   "outputs": [],
   "source": [
    "pv_corr_flat = []\n",
    "for (c1, c2) in combinations(customers, 2):\n",
    "    p1, p2 = cust_code[c1], cust_code[c2]\n",
    "    d = great_circle(\n",
    "        (df_pcodes.loc[p1][['lat','lng']]),\n",
    "        (df_pcodes.loc[p2][['lat','lng']]),\n",
    "        )\n",
    "    pv_corr_flat.append([c1, c2, pv_corr.loc[c1,c2], p1, p2, d])"
   ]
  },
  {
   "cell_type": "code",
   "execution_count": 379,
   "metadata": {},
   "outputs": [
    {
     "data": {
      "text/html": [
       "<div>\n",
       "<style>\n",
       "    .dataframe thead tr:only-child th {\n",
       "        text-align: right;\n",
       "    }\n",
       "\n",
       "    .dataframe thead th {\n",
       "        text-align: left;\n",
       "    }\n",
       "\n",
       "    .dataframe tbody tr th {\n",
       "        vertical-align: top;\n",
       "    }\n",
       "</style>\n",
       "<table border=\"1\" class=\"dataframe\">\n",
       "  <thead>\n",
       "    <tr style=\"text-align: right;\">\n",
       "      <th></th>\n",
       "      <th>c1</th>\n",
       "      <th>c2</th>\n",
       "      <th>corr12</th>\n",
       "      <th>c1_code</th>\n",
       "      <th>c2_code</th>\n",
       "      <th>d_km</th>\n",
       "    </tr>\n",
       "  </thead>\n",
       "  <tbody>\n",
       "    <tr>\n",
       "      <th>0</th>\n",
       "      <td>1</td>\n",
       "      <td>2</td>\n",
       "      <td>0.861145</td>\n",
       "      <td>2076</td>\n",
       "      <td>2259</td>\n",
       "      <td>59.737864</td>\n",
       "    </tr>\n",
       "    <tr>\n",
       "      <th>1</th>\n",
       "      <td>1</td>\n",
       "      <td>3</td>\n",
       "      <td>0.865654</td>\n",
       "      <td>2076</td>\n",
       "      <td>2263</td>\n",
       "      <td>62.207342</td>\n",
       "    </tr>\n",
       "    <tr>\n",
       "      <th>2</th>\n",
       "      <td>1</td>\n",
       "      <td>4</td>\n",
       "      <td>0.924266</td>\n",
       "      <td>2076</td>\n",
       "      <td>2220</td>\n",
       "      <td>27.857812</td>\n",
       "    </tr>\n",
       "    <tr>\n",
       "      <th>3</th>\n",
       "      <td>1</td>\n",
       "      <td>5</td>\n",
       "      <td>0.887806</td>\n",
       "      <td>2076</td>\n",
       "      <td>2261</td>\n",
       "      <td>48.166077</td>\n",
       "    </tr>\n",
       "    <tr>\n",
       "      <th>4</th>\n",
       "      <td>1</td>\n",
       "      <td>6</td>\n",
       "      <td>0.862610</td>\n",
       "      <td>2076</td>\n",
       "      <td>2230</td>\n",
       "      <td>39.377330</td>\n",
       "    </tr>\n",
       "    <tr>\n",
       "      <th>5</th>\n",
       "      <td>1</td>\n",
       "      <td>7</td>\n",
       "      <td>0.870251</td>\n",
       "      <td>2076</td>\n",
       "      <td>2259</td>\n",
       "      <td>59.737864</td>\n",
       "    </tr>\n",
       "    <tr>\n",
       "      <th>6</th>\n",
       "      <td>1</td>\n",
       "      <td>8</td>\n",
       "      <td>0.825935</td>\n",
       "      <td>2076</td>\n",
       "      <td>2126</td>\n",
       "      <td>7.866807</td>\n",
       "    </tr>\n",
       "    <tr>\n",
       "      <th>7</th>\n",
       "      <td>1</td>\n",
       "      <td>9</td>\n",
       "      <td>0.877647</td>\n",
       "      <td>2076</td>\n",
       "      <td>2259</td>\n",
       "      <td>59.737864</td>\n",
       "    </tr>\n",
       "    <tr>\n",
       "      <th>8</th>\n",
       "      <td>1</td>\n",
       "      <td>10</td>\n",
       "      <td>0.850608</td>\n",
       "      <td>2076</td>\n",
       "      <td>2262</td>\n",
       "      <td>67.982245</td>\n",
       "    </tr>\n",
       "    <tr>\n",
       "      <th>9</th>\n",
       "      <td>1</td>\n",
       "      <td>11</td>\n",
       "      <td>0.853687</td>\n",
       "      <td>2076</td>\n",
       "      <td>2026</td>\n",
       "      <td>24.609799</td>\n",
       "    </tr>\n",
       "    <tr>\n",
       "      <th>10</th>\n",
       "      <td>1</td>\n",
       "      <td>12</td>\n",
       "      <td>0.925588</td>\n",
       "      <td>2076</td>\n",
       "      <td>2218</td>\n",
       "      <td>29.207309</td>\n",
       "    </tr>\n",
       "    <tr>\n",
       "      <th>11</th>\n",
       "      <td>1</td>\n",
       "      <td>13</td>\n",
       "      <td>0.905207</td>\n",
       "      <td>2076</td>\n",
       "      <td>2261</td>\n",
       "      <td>48.166077</td>\n",
       "    </tr>\n",
       "    <tr>\n",
       "      <th>12</th>\n",
       "      <td>1</td>\n",
       "      <td>14</td>\n",
       "      <td>0.883776</td>\n",
       "      <td>2076</td>\n",
       "      <td>2262</td>\n",
       "      <td>67.982245</td>\n",
       "    </tr>\n",
       "    <tr>\n",
       "      <th>13</th>\n",
       "      <td>1</td>\n",
       "      <td>15</td>\n",
       "      <td>0.802923</td>\n",
       "      <td>2076</td>\n",
       "      <td>2265</td>\n",
       "      <td>77.598327</td>\n",
       "    </tr>\n",
       "    <tr>\n",
       "      <th>14</th>\n",
       "      <td>1</td>\n",
       "      <td>16</td>\n",
       "      <td>0.810628</td>\n",
       "      <td>2076</td>\n",
       "      <td>2208</td>\n",
       "      <td>25.593212</td>\n",
       "    </tr>\n",
       "    <tr>\n",
       "      <th>15</th>\n",
       "      <td>1</td>\n",
       "      <td>17</td>\n",
       "      <td>0.848227</td>\n",
       "      <td>2076</td>\n",
       "      <td>2229</td>\n",
       "      <td>37.520871</td>\n",
       "    </tr>\n",
       "    <tr>\n",
       "      <th>16</th>\n",
       "      <td>1</td>\n",
       "      <td>18</td>\n",
       "      <td>0.916593</td>\n",
       "      <td>2076</td>\n",
       "      <td>2085</td>\n",
       "      <td>7.889052</td>\n",
       "    </tr>\n",
       "    <tr>\n",
       "      <th>17</th>\n",
       "      <td>1</td>\n",
       "      <td>19</td>\n",
       "      <td>0.875158</td>\n",
       "      <td>2076</td>\n",
       "      <td>2259</td>\n",
       "      <td>59.737864</td>\n",
       "    </tr>\n",
       "    <tr>\n",
       "      <th>18</th>\n",
       "      <td>1</td>\n",
       "      <td>20</td>\n",
       "      <td>0.881282</td>\n",
       "      <td>2076</td>\n",
       "      <td>2259</td>\n",
       "      <td>59.737864</td>\n",
       "    </tr>\n",
       "    <tr>\n",
       "      <th>19</th>\n",
       "      <td>1</td>\n",
       "      <td>21</td>\n",
       "      <td>0.861405</td>\n",
       "      <td>2076</td>\n",
       "      <td>2250</td>\n",
       "      <td>40.288346</td>\n",
       "    </tr>\n",
       "    <tr>\n",
       "      <th>20</th>\n",
       "      <td>1</td>\n",
       "      <td>22</td>\n",
       "      <td>0.881728</td>\n",
       "      <td>2076</td>\n",
       "      <td>2283</td>\n",
       "      <td>85.356468</td>\n",
       "    </tr>\n",
       "    <tr>\n",
       "      <th>21</th>\n",
       "      <td>1</td>\n",
       "      <td>23</td>\n",
       "      <td>0.869679</td>\n",
       "      <td>2076</td>\n",
       "      <td>2263</td>\n",
       "      <td>62.207342</td>\n",
       "    </tr>\n",
       "    <tr>\n",
       "      <th>22</th>\n",
       "      <td>1</td>\n",
       "      <td>24</td>\n",
       "      <td>0.873059</td>\n",
       "      <td>2076</td>\n",
       "      <td>2305</td>\n",
       "      <td>102.396381</td>\n",
       "    </tr>\n",
       "    <tr>\n",
       "      <th>23</th>\n",
       "      <td>1</td>\n",
       "      <td>25</td>\n",
       "      <td>0.876550</td>\n",
       "      <td>2076</td>\n",
       "      <td>2285</td>\n",
       "      <td>99.941546</td>\n",
       "    </tr>\n",
       "    <tr>\n",
       "      <th>24</th>\n",
       "      <td>1</td>\n",
       "      <td>26</td>\n",
       "      <td>0.868196</td>\n",
       "      <td>2076</td>\n",
       "      <td>2300</td>\n",
       "      <td>106.168125</td>\n",
       "    </tr>\n",
       "    <tr>\n",
       "      <th>25</th>\n",
       "      <td>1</td>\n",
       "      <td>27</td>\n",
       "      <td>0.928436</td>\n",
       "      <td>2076</td>\n",
       "      <td>2093</td>\n",
       "      <td>16.837281</td>\n",
       "    </tr>\n",
       "    <tr>\n",
       "      <th>26</th>\n",
       "      <td>1</td>\n",
       "      <td>28</td>\n",
       "      <td>0.869201</td>\n",
       "      <td>2076</td>\n",
       "      <td>2261</td>\n",
       "      <td>48.166077</td>\n",
       "    </tr>\n",
       "    <tr>\n",
       "      <th>27</th>\n",
       "      <td>1</td>\n",
       "      <td>29</td>\n",
       "      <td>0.857186</td>\n",
       "      <td>2076</td>\n",
       "      <td>2259</td>\n",
       "      <td>59.737864</td>\n",
       "    </tr>\n",
       "    <tr>\n",
       "      <th>28</th>\n",
       "      <td>1</td>\n",
       "      <td>30</td>\n",
       "      <td>0.875872</td>\n",
       "      <td>2076</td>\n",
       "      <td>2259</td>\n",
       "      <td>59.737864</td>\n",
       "    </tr>\n",
       "    <tr>\n",
       "      <th>29</th>\n",
       "      <td>1</td>\n",
       "      <td>31</td>\n",
       "      <td>0.919485</td>\n",
       "      <td>2076</td>\n",
       "      <td>2025</td>\n",
       "      <td>22.720332</td>\n",
       "    </tr>\n",
       "    <tr>\n",
       "      <th>...</th>\n",
       "      <td>...</td>\n",
       "      <td>...</td>\n",
       "      <td>...</td>\n",
       "      <td>...</td>\n",
       "      <td>...</td>\n",
       "      <td>...</td>\n",
       "    </tr>\n",
       "    <tr>\n",
       "      <th>44820</th>\n",
       "      <td>292</td>\n",
       "      <td>299</td>\n",
       "      <td>0.849916</td>\n",
       "      <td>2261</td>\n",
       "      <td>2076</td>\n",
       "      <td>48.166077</td>\n",
       "    </tr>\n",
       "    <tr>\n",
       "      <th>44821</th>\n",
       "      <td>292</td>\n",
       "      <td>300</td>\n",
       "      <td>0.867561</td>\n",
       "      <td>2261</td>\n",
       "      <td>2086</td>\n",
       "      <td>47.113665</td>\n",
       "    </tr>\n",
       "    <tr>\n",
       "      <th>44822</th>\n",
       "      <td>293</td>\n",
       "      <td>294</td>\n",
       "      <td>0.869933</td>\n",
       "      <td>2290</td>\n",
       "      <td>2228</td>\n",
       "      <td>131.003737</td>\n",
       "    </tr>\n",
       "    <tr>\n",
       "      <th>44823</th>\n",
       "      <td>293</td>\n",
       "      <td>295</td>\n",
       "      <td>0.838073</td>\n",
       "      <td>2290</td>\n",
       "      <td>2126</td>\n",
       "      <td>104.399972</td>\n",
       "    </tr>\n",
       "    <tr>\n",
       "      <th>44824</th>\n",
       "      <td>293</td>\n",
       "      <td>296</td>\n",
       "      <td>0.848763</td>\n",
       "      <td>2290</td>\n",
       "      <td>2087</td>\n",
       "      <td>99.961741</td>\n",
       "    </tr>\n",
       "    <tr>\n",
       "      <th>44825</th>\n",
       "      <td>293</td>\n",
       "      <td>297</td>\n",
       "      <td>0.890257</td>\n",
       "      <td>2290</td>\n",
       "      <td>2261</td>\n",
       "      <td>50.124813</td>\n",
       "    </tr>\n",
       "    <tr>\n",
       "      <th>44826</th>\n",
       "      <td>293</td>\n",
       "      <td>298</td>\n",
       "      <td>0.857741</td>\n",
       "      <td>2290</td>\n",
       "      <td>2216</td>\n",
       "      <td>120.613338</td>\n",
       "    </tr>\n",
       "    <tr>\n",
       "      <th>44827</th>\n",
       "      <td>293</td>\n",
       "      <td>299</td>\n",
       "      <td>0.859926</td>\n",
       "      <td>2290</td>\n",
       "      <td>2076</td>\n",
       "      <td>98.199180</td>\n",
       "    </tr>\n",
       "    <tr>\n",
       "      <th>44828</th>\n",
       "      <td>293</td>\n",
       "      <td>300</td>\n",
       "      <td>0.875327</td>\n",
       "      <td>2290</td>\n",
       "      <td>2086</td>\n",
       "      <td>97.031741</td>\n",
       "    </tr>\n",
       "    <tr>\n",
       "      <th>44829</th>\n",
       "      <td>294</td>\n",
       "      <td>295</td>\n",
       "      <td>0.901524</td>\n",
       "      <td>2228</td>\n",
       "      <td>2126</td>\n",
       "      <td>34.874961</td>\n",
       "    </tr>\n",
       "    <tr>\n",
       "      <th>44830</th>\n",
       "      <td>294</td>\n",
       "      <td>296</td>\n",
       "      <td>0.896734</td>\n",
       "      <td>2228</td>\n",
       "      <td>2087</td>\n",
       "      <td>31.275624</td>\n",
       "    </tr>\n",
       "    <tr>\n",
       "      <th>44831</th>\n",
       "      <td>294</td>\n",
       "      <td>297</td>\n",
       "      <td>0.894250</td>\n",
       "      <td>2228</td>\n",
       "      <td>2261</td>\n",
       "      <td>81.307744</td>\n",
       "    </tr>\n",
       "    <tr>\n",
       "      <th>44832</th>\n",
       "      <td>294</td>\n",
       "      <td>298</td>\n",
       "      <td>0.948868</td>\n",
       "      <td>2228</td>\n",
       "      <td>2216</td>\n",
       "      <td>10.393338</td>\n",
       "    </tr>\n",
       "    <tr>\n",
       "      <th>44833</th>\n",
       "      <td>294</td>\n",
       "      <td>299</td>\n",
       "      <td>0.892560</td>\n",
       "      <td>2228</td>\n",
       "      <td>2076</td>\n",
       "      <td>36.705239</td>\n",
       "    </tr>\n",
       "    <tr>\n",
       "      <th>44834</th>\n",
       "      <td>294</td>\n",
       "      <td>300</td>\n",
       "      <td>0.919581</td>\n",
       "      <td>2228</td>\n",
       "      <td>2086</td>\n",
       "      <td>34.266019</td>\n",
       "    </tr>\n",
       "    <tr>\n",
       "      <th>44835</th>\n",
       "      <td>295</td>\n",
       "      <td>296</td>\n",
       "      <td>0.914020</td>\n",
       "      <td>2126</td>\n",
       "      <td>2087</td>\n",
       "      <td>16.898330</td>\n",
       "    </tr>\n",
       "    <tr>\n",
       "      <th>44836</th>\n",
       "      <td>295</td>\n",
       "      <td>297</td>\n",
       "      <td>0.869279</td>\n",
       "      <td>2126</td>\n",
       "      <td>2261</td>\n",
       "      <td>54.665428</td>\n",
       "    </tr>\n",
       "    <tr>\n",
       "      <th>44837</th>\n",
       "      <td>295</td>\n",
       "      <td>298</td>\n",
       "      <td>0.921391</td>\n",
       "      <td>2126</td>\n",
       "      <td>2216</td>\n",
       "      <td>26.862476</td>\n",
       "    </tr>\n",
       "    <tr>\n",
       "      <th>44838</th>\n",
       "      <td>295</td>\n",
       "      <td>299</td>\n",
       "      <td>0.864725</td>\n",
       "      <td>2126</td>\n",
       "      <td>2076</td>\n",
       "      <td>7.866807</td>\n",
       "    </tr>\n",
       "    <tr>\n",
       "      <th>44839</th>\n",
       "      <td>295</td>\n",
       "      <td>300</td>\n",
       "      <td>0.891264</td>\n",
       "      <td>2126</td>\n",
       "      <td>2086</td>\n",
       "      <td>17.093170</td>\n",
       "    </tr>\n",
       "    <tr>\n",
       "      <th>44840</th>\n",
       "      <td>296</td>\n",
       "      <td>297</td>\n",
       "      <td>0.875342</td>\n",
       "      <td>2087</td>\n",
       "      <td>2261</td>\n",
       "      <td>50.079854</td>\n",
       "    </tr>\n",
       "    <tr>\n",
       "      <th>44841</th>\n",
       "      <td>296</td>\n",
       "      <td>298</td>\n",
       "      <td>0.908254</td>\n",
       "      <td>2087</td>\n",
       "      <td>2216</td>\n",
       "      <td>20.937021</td>\n",
       "    </tr>\n",
       "    <tr>\n",
       "      <th>44842</th>\n",
       "      <td>296</td>\n",
       "      <td>299</td>\n",
       "      <td>0.880829</td>\n",
       "      <td>2087</td>\n",
       "      <td>2076</td>\n",
       "      <td>11.226161</td>\n",
       "    </tr>\n",
       "    <tr>\n",
       "      <th>44843</th>\n",
       "      <td>296</td>\n",
       "      <td>300</td>\n",
       "      <td>0.928147</td>\n",
       "      <td>2087</td>\n",
       "      <td>2086</td>\n",
       "      <td>2.996751</td>\n",
       "    </tr>\n",
       "    <tr>\n",
       "      <th>44844</th>\n",
       "      <td>297</td>\n",
       "      <td>298</td>\n",
       "      <td>0.888419</td>\n",
       "      <td>2261</td>\n",
       "      <td>2216</td>\n",
       "      <td>70.924219</td>\n",
       "    </tr>\n",
       "    <tr>\n",
       "      <th>44845</th>\n",
       "      <td>297</td>\n",
       "      <td>299</td>\n",
       "      <td>0.888383</td>\n",
       "      <td>2261</td>\n",
       "      <td>2076</td>\n",
       "      <td>48.166077</td>\n",
       "    </tr>\n",
       "    <tr>\n",
       "      <th>44846</th>\n",
       "      <td>297</td>\n",
       "      <td>300</td>\n",
       "      <td>0.897039</td>\n",
       "      <td>2261</td>\n",
       "      <td>2086</td>\n",
       "      <td>47.113665</td>\n",
       "    </tr>\n",
       "    <tr>\n",
       "      <th>44847</th>\n",
       "      <td>298</td>\n",
       "      <td>299</td>\n",
       "      <td>0.877906</td>\n",
       "      <td>2216</td>\n",
       "      <td>2076</td>\n",
       "      <td>27.300705</td>\n",
       "    </tr>\n",
       "    <tr>\n",
       "      <th>44848</th>\n",
       "      <td>298</td>\n",
       "      <td>300</td>\n",
       "      <td>0.915851</td>\n",
       "      <td>2216</td>\n",
       "      <td>2086</td>\n",
       "      <td>23.932848</td>\n",
       "    </tr>\n",
       "    <tr>\n",
       "      <th>44849</th>\n",
       "      <td>299</td>\n",
       "      <td>300</td>\n",
       "      <td>0.928818</td>\n",
       "      <td>2076</td>\n",
       "      <td>2086</td>\n",
       "      <td>10.366707</td>\n",
       "    </tr>\n",
       "  </tbody>\n",
       "</table>\n",
       "<p>44850 rows × 6 columns</p>\n",
       "</div>"
      ],
      "text/plain": [
       "        c1   c2    corr12  c1_code  c2_code        d_km\n",
       "0        1    2  0.861145     2076     2259   59.737864\n",
       "1        1    3  0.865654     2076     2263   62.207342\n",
       "2        1    4  0.924266     2076     2220   27.857812\n",
       "3        1    5  0.887806     2076     2261   48.166077\n",
       "4        1    6  0.862610     2076     2230   39.377330\n",
       "5        1    7  0.870251     2076     2259   59.737864\n",
       "6        1    8  0.825935     2076     2126    7.866807\n",
       "7        1    9  0.877647     2076     2259   59.737864\n",
       "8        1   10  0.850608     2076     2262   67.982245\n",
       "9        1   11  0.853687     2076     2026   24.609799\n",
       "10       1   12  0.925588     2076     2218   29.207309\n",
       "11       1   13  0.905207     2076     2261   48.166077\n",
       "12       1   14  0.883776     2076     2262   67.982245\n",
       "13       1   15  0.802923     2076     2265   77.598327\n",
       "14       1   16  0.810628     2076     2208   25.593212\n",
       "15       1   17  0.848227     2076     2229   37.520871\n",
       "16       1   18  0.916593     2076     2085    7.889052\n",
       "17       1   19  0.875158     2076     2259   59.737864\n",
       "18       1   20  0.881282     2076     2259   59.737864\n",
       "19       1   21  0.861405     2076     2250   40.288346\n",
       "20       1   22  0.881728     2076     2283   85.356468\n",
       "21       1   23  0.869679     2076     2263   62.207342\n",
       "22       1   24  0.873059     2076     2305  102.396381\n",
       "23       1   25  0.876550     2076     2285   99.941546\n",
       "24       1   26  0.868196     2076     2300  106.168125\n",
       "25       1   27  0.928436     2076     2093   16.837281\n",
       "26       1   28  0.869201     2076     2261   48.166077\n",
       "27       1   29  0.857186     2076     2259   59.737864\n",
       "28       1   30  0.875872     2076     2259   59.737864\n",
       "29       1   31  0.919485     2076     2025   22.720332\n",
       "...    ...  ...       ...      ...      ...         ...\n",
       "44820  292  299  0.849916     2261     2076   48.166077\n",
       "44821  292  300  0.867561     2261     2086   47.113665\n",
       "44822  293  294  0.869933     2290     2228  131.003737\n",
       "44823  293  295  0.838073     2290     2126  104.399972\n",
       "44824  293  296  0.848763     2290     2087   99.961741\n",
       "44825  293  297  0.890257     2290     2261   50.124813\n",
       "44826  293  298  0.857741     2290     2216  120.613338\n",
       "44827  293  299  0.859926     2290     2076   98.199180\n",
       "44828  293  300  0.875327     2290     2086   97.031741\n",
       "44829  294  295  0.901524     2228     2126   34.874961\n",
       "44830  294  296  0.896734     2228     2087   31.275624\n",
       "44831  294  297  0.894250     2228     2261   81.307744\n",
       "44832  294  298  0.948868     2228     2216   10.393338\n",
       "44833  294  299  0.892560     2228     2076   36.705239\n",
       "44834  294  300  0.919581     2228     2086   34.266019\n",
       "44835  295  296  0.914020     2126     2087   16.898330\n",
       "44836  295  297  0.869279     2126     2261   54.665428\n",
       "44837  295  298  0.921391     2126     2216   26.862476\n",
       "44838  295  299  0.864725     2126     2076    7.866807\n",
       "44839  295  300  0.891264     2126     2086   17.093170\n",
       "44840  296  297  0.875342     2087     2261   50.079854\n",
       "44841  296  298  0.908254     2087     2216   20.937021\n",
       "44842  296  299  0.880829     2087     2076   11.226161\n",
       "44843  296  300  0.928147     2087     2086    2.996751\n",
       "44844  297  298  0.888419     2261     2216   70.924219\n",
       "44845  297  299  0.888383     2261     2076   48.166077\n",
       "44846  297  300  0.897039     2261     2086   47.113665\n",
       "44847  298  299  0.877906     2216     2076   27.300705\n",
       "44848  298  300  0.915851     2216     2086   23.932848\n",
       "44849  299  300  0.928818     2076     2086   10.366707\n",
       "\n",
       "[44850 rows x 6 columns]"
      ]
     },
     "execution_count": 379,
     "metadata": {},
     "output_type": "execute_result"
    }
   ],
   "source": [
    "df_pv_corr = pd.DataFrame(pv_corr_flat, columns=['c1', 'c2', 'corr12', 'c1_code', 'c2_code', 'd_km'])\n",
    "df_pv_corr"
   ]
  },
  {
   "cell_type": "code",
   "execution_count": 385,
   "metadata": {},
   "outputs": [
    {
     "data": {
      "image/png": "[encoded data removed]",
      "text/plain": [
       "<matplotlib.figure.Figure at 0x7fbf67f48400>"
      ]
     },
     "metadata": {},
     "output_type": "display_data"
    }
   ],
   "source": [
    "plt.plot(df_pv_corr.d_km, df_pv_corr.corr12, ',', alpha=0.3)\n",
    "plt.xlabel('distance, est. with postcode (km)')\n",
    "plt.ylabel('correlation of PV gen');"
   ]
  },
  {
   "cell_type": "code",
   "execution_count": 406,
   "metadata": {},
   "outputs": [
    {
     "data": {
      "image/png": "[encoded data removed]",
      "text/plain": [
       "<matplotlib.figure.Figure at 0x7fbf67de7c50>"
      ]
     },
     "metadata": {},
     "output_type": "display_data"
    }
   ],
   "source": [
    "plt.plot(df_pv_corr.d_km, df_pv_corr.corr12, ',', alpha=1, label='data')\n",
    "\n",
    "d = np.linspace(0, 175)\n",
    "plt.plot(d, 0.95-d/2000, lw=3, alpha=0.6, label='0.95-d/2000')\n",
    "\n",
    "plt.legend()\n",
    "plt.ylim(0.7, 1.05)\n",
    "plt.xlabel('distance, est. from postcodes (km)')\n",
    "plt.ylabel('correlation of PV gen');\n",
    "plt.tight_layout()\n",
    "plt.savefig('PV corr distance.png', dpi=150)"
   ]
  },
  {
   "cell_type": "markdown",
   "metadata": {},
   "source": [
    "Possible refinements:\n",
    "\n",
    "* compare with other \"correlation vs. distance\" reports from the litterature...\n",
    "* filter out the very large postcode areas"
   ]
  }
 ],
 "metadata": {
  "kernelspec": {
   "display_name": "Python 3 (ipykernel)",
   "language": "python",
   "name": "python3"
  },
  "language_info": {
   "codemirror_mode": {
    "name": "ipython",
    "version": 3
   },
   "file_extension": ".py",
   "mimetype": "text/x-python",
   "name": "python",
   "nbconvert_exporter": "python",
   "pygments_lexer": "ipython3",
   "version": "3.10.9"
  }
 },
 "nbformat": 4,
 "nbformat_minor": 2
}
